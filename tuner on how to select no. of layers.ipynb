{
 "cells": [
  {
   "cell_type": "code",
   "execution_count": 1,
   "id": "cc35c954",
   "metadata": {},
   "outputs": [
    {
     "name": "stderr",
     "output_type": "stream",
     "text": [
      "C:\\Users\\User\\anaconda3\\lib\\site-packages\\scipy\\__init__.py:146: UserWarning: A NumPy version >=1.16.5 and <1.23.0 is required for this version of SciPy (detected version 1.26.2\n",
      "  warnings.warn(f\"A NumPy version >={np_minversion} and <{np_maxversion}\"\n"
     ]
    },
    {
     "name": "stdout",
     "output_type": "stream",
     "text": [
      "WARNING:tensorflow:From C:\\Users\\User\\anaconda3\\lib\\site-packages\\keras\\src\\losses.py:2976: The name tf.losses.sparse_softmax_cross_entropy is deprecated. Please use tf.compat.v1.losses.sparse_softmax_cross_entropy instead.\n",
      "\n"
     ]
    }
   ],
   "source": [
    "import pandas as pd\n",
    "import numpy as np\n",
    "import matplotlib.pyplot as plt\n",
    "import tensorflow \n",
    "from tensorflow import keras\n",
    "from tensorflow.keras import Sequential\n",
    "from tensorflow.keras.layers import Dense\n",
    "import keras_tuner as kt"
   ]
  },
  {
   "cell_type": "code",
   "execution_count": 2,
   "id": "9ce8bfdc",
   "metadata": {},
   "outputs": [],
   "source": [
    "df = pd.read_csv(\"D:\\study\\ML\\diabetes.csv\")"
   ]
  },
  {
   "cell_type": "code",
   "execution_count": 3,
   "id": "f023f0f9",
   "metadata": {},
   "outputs": [],
   "source": [
    "X = df.iloc[:,:-1].values\n",
    "y = df.iloc[:,-1].values"
   ]
  },
  {
   "cell_type": "code",
   "execution_count": 4,
   "id": "5b177d1e",
   "metadata": {},
   "outputs": [],
   "source": [
    "from sklearn.preprocessing import StandardScaler\n",
    "scaler = StandardScaler()\n",
    "X_skl = scaler.fit_transform(X)"
   ]
  },
  {
   "cell_type": "code",
   "execution_count": 5,
   "id": "f90c360b",
   "metadata": {},
   "outputs": [],
   "source": [
    "from sklearn.model_selection import train_test_split\n",
    "x_train,x_test,y_train,y_test = train_test_split(X_skl,y,test_size=0.2,random_state=1)"
   ]
  },
  {
   "cell_type": "code",
   "execution_count": 10,
   "id": "0075a4ba",
   "metadata": {},
   "outputs": [],
   "source": [
    "def build_model(hp):\n",
    "    model = Sequential()\n",
    "    \n",
    "    model.add(Dense(104,activation='relu',input_dim=8))\n",
    "    for i in range(hp.Int('num_layers',min_value=1,max_value=10)):\n",
    "        model.add(Dense(104,activation='relu'))\n",
    "        \n",
    "    model.add(Dense(1,activation='sigmoid'))\n",
    "    \n",
    "    model.compile(loss='binary_crossentropy',optimizer='rmsprop',metrics=['accuracy'])\n",
    "    \n",
    "    return model"
   ]
  },
  {
   "cell_type": "code",
   "execution_count": 11,
   "id": "825da573",
   "metadata": {},
   "outputs": [
    {
     "name": "stdout",
     "output_type": "stream",
     "text": [
      "WARNING:tensorflow:From C:\\Users\\User\\anaconda3\\lib\\site-packages\\keras\\src\\optimizers\\__init__.py:309: The name tf.train.Optimizer is deprecated. Please use tf.compat.v1.train.Optimizer instead.\n",
      "\n"
     ]
    }
   ],
   "source": [
    "tuner  = kt.RandomSearch(build_model,\n",
    "                        objective='val_accuracy',\n",
    "                        max_trials=3,\n",
    "                        directory = 'my_dir',\n",
    "                        project_name='num_layers')"
   ]
  },
  {
   "cell_type": "code",
   "execution_count": 12,
   "id": "12fc341b",
   "metadata": {},
   "outputs": [
    {
     "name": "stdout",
     "output_type": "stream",
     "text": [
      "Trial 3 Complete [00h 00m 02s]\n",
      "val_accuracy: 0.8051947951316833\n",
      "\n",
      "Best val_accuracy So Far: 0.8051947951316833\n",
      "Total elapsed time: 00h 00m 07s\n"
     ]
    }
   ],
   "source": [
    "tuner.search(x_train,y_train,epochs=5,validation_data=(x_test,y_test))"
   ]
  },
  {
   "cell_type": "code",
   "execution_count": 15,
   "id": "0e94d626",
   "metadata": {},
   "outputs": [
    {
     "data": {
      "text/plain": [
       "{'num_layers': 5}"
      ]
     },
     "execution_count": 15,
     "metadata": {},
     "output_type": "execute_result"
    }
   ],
   "source": [
    "tuner.get_best_hyperparameters()[0].values"
   ]
  },
  {
   "cell_type": "code",
   "execution_count": 16,
   "id": "8ce7babf",
   "metadata": {},
   "outputs": [],
   "source": [
    "model = tuner.get_best_models(num_models=1)[0]"
   ]
  },
  {
   "cell_type": "code",
   "execution_count": 17,
   "id": "ec34062a",
   "metadata": {},
   "outputs": [
    {
     "name": "stdout",
     "output_type": "stream",
     "text": [
      "Epoch 6/100\n",
      "20/20 [==============================] - 1s 17ms/step - loss: 0.4388 - accuracy: 0.7948 - val_loss: 0.4693 - val_accuracy: 0.7662\n",
      "Epoch 7/100\n",
      "20/20 [==============================] - 0s 7ms/step - loss: 0.4284 - accuracy: 0.7932 - val_loss: 0.5003 - val_accuracy: 0.7727\n",
      "Epoch 8/100\n",
      "20/20 [==============================] - 0s 7ms/step - loss: 0.4250 - accuracy: 0.7997 - val_loss: 0.4655 - val_accuracy: 0.8052\n",
      "Epoch 9/100\n",
      "20/20 [==============================] - 0s 6ms/step - loss: 0.4114 - accuracy: 0.8111 - val_loss: 0.4755 - val_accuracy: 0.7987\n",
      "Epoch 10/100\n",
      "20/20 [==============================] - 0s 7ms/step - loss: 0.4032 - accuracy: 0.8160 - val_loss: 0.4872 - val_accuracy: 0.7987\n",
      "Epoch 11/100\n",
      "20/20 [==============================] - 0s 6ms/step - loss: 0.3899 - accuracy: 0.8241 - val_loss: 0.4962 - val_accuracy: 0.7662\n",
      "Epoch 12/100\n",
      "20/20 [==============================] - 0s 7ms/step - loss: 0.3815 - accuracy: 0.8404 - val_loss: 0.4923 - val_accuracy: 0.7857\n",
      "Epoch 13/100\n",
      "20/20 [==============================] - 0s 5ms/step - loss: 0.3606 - accuracy: 0.8436 - val_loss: 0.5272 - val_accuracy: 0.7727\n",
      "Epoch 14/100\n",
      "20/20 [==============================] - 0s 5ms/step - loss: 0.3620 - accuracy: 0.8502 - val_loss: 0.5086 - val_accuracy: 0.7857\n",
      "Epoch 15/100\n",
      "20/20 [==============================] - 0s 5ms/step - loss: 0.3426 - accuracy: 0.8616 - val_loss: 0.6796 - val_accuracy: 0.7403\n",
      "Epoch 16/100\n",
      "20/20 [==============================] - 0s 5ms/step - loss: 0.3330 - accuracy: 0.8616 - val_loss: 0.6384 - val_accuracy: 0.6688\n",
      "Epoch 17/100\n",
      "20/20 [==============================] - 0s 6ms/step - loss: 0.3048 - accuracy: 0.8811 - val_loss: 0.5960 - val_accuracy: 0.7597\n",
      "Epoch 18/100\n",
      "20/20 [==============================] - 0s 6ms/step - loss: 0.3058 - accuracy: 0.8681 - val_loss: 0.5630 - val_accuracy: 0.7727\n",
      "Epoch 19/100\n",
      "20/20 [==============================] - 0s 5ms/step - loss: 0.2950 - accuracy: 0.8762 - val_loss: 0.5918 - val_accuracy: 0.7857\n",
      "Epoch 20/100\n",
      "20/20 [==============================] - 0s 5ms/step - loss: 0.2684 - accuracy: 0.9007 - val_loss: 0.7775 - val_accuracy: 0.7273\n",
      "Epoch 21/100\n",
      "20/20 [==============================] - 0s 5ms/step - loss: 0.2672 - accuracy: 0.8941 - val_loss: 0.6497 - val_accuracy: 0.7857\n",
      "Epoch 22/100\n",
      "20/20 [==============================] - 0s 5ms/step - loss: 0.2530 - accuracy: 0.9088 - val_loss: 0.7331 - val_accuracy: 0.7662\n",
      "Epoch 23/100\n",
      "20/20 [==============================] - 0s 6ms/step - loss: 0.2356 - accuracy: 0.9055 - val_loss: 0.7720 - val_accuracy: 0.7338\n",
      "Epoch 24/100\n",
      "20/20 [==============================] - 0s 6ms/step - loss: 0.2148 - accuracy: 0.9251 - val_loss: 0.7898 - val_accuracy: 0.7662\n",
      "Epoch 25/100\n",
      "20/20 [==============================] - 0s 5ms/step - loss: 0.2251 - accuracy: 0.9121 - val_loss: 0.7763 - val_accuracy: 0.7403\n",
      "Epoch 26/100\n",
      "20/20 [==============================] - 0s 5ms/step - loss: 0.1941 - accuracy: 0.9365 - val_loss: 0.8991 - val_accuracy: 0.7273\n",
      "Epoch 27/100\n",
      "20/20 [==============================] - 0s 5ms/step - loss: 0.1919 - accuracy: 0.9202 - val_loss: 0.8402 - val_accuracy: 0.7338\n",
      "Epoch 28/100\n",
      "20/20 [==============================] - 0s 5ms/step - loss: 0.1737 - accuracy: 0.9332 - val_loss: 0.8676 - val_accuracy: 0.7338\n",
      "Epoch 29/100\n",
      "20/20 [==============================] - 0s 5ms/step - loss: 0.1580 - accuracy: 0.9463 - val_loss: 0.9961 - val_accuracy: 0.7208\n",
      "Epoch 30/100\n",
      "20/20 [==============================] - 0s 6ms/step - loss: 0.1941 - accuracy: 0.9381 - val_loss: 0.8958 - val_accuracy: 0.7662\n",
      "Epoch 31/100\n",
      "20/20 [==============================] - 0s 5ms/step - loss: 0.1472 - accuracy: 0.9495 - val_loss: 1.0674 - val_accuracy: 0.7403\n",
      "Epoch 32/100\n",
      "20/20 [==============================] - 0s 5ms/step - loss: 0.1343 - accuracy: 0.9511 - val_loss: 1.0455 - val_accuracy: 0.7468\n",
      "Epoch 33/100\n",
      "20/20 [==============================] - 0s 5ms/step - loss: 0.1317 - accuracy: 0.9463 - val_loss: 1.0159 - val_accuracy: 0.7403\n",
      "Epoch 34/100\n",
      "20/20 [==============================] - 0s 6ms/step - loss: 0.1477 - accuracy: 0.9446 - val_loss: 1.1261 - val_accuracy: 0.7273\n",
      "Epoch 35/100\n",
      "20/20 [==============================] - 0s 5ms/step - loss: 0.0890 - accuracy: 0.9609 - val_loss: 1.2365 - val_accuracy: 0.7273\n",
      "Epoch 36/100\n",
      "20/20 [==============================] - 0s 5ms/step - loss: 0.0883 - accuracy: 0.9691 - val_loss: 1.3488 - val_accuracy: 0.7532\n",
      "Epoch 37/100\n",
      "20/20 [==============================] - 0s 5ms/step - loss: 0.1025 - accuracy: 0.9511 - val_loss: 1.5087 - val_accuracy: 0.7078\n",
      "Epoch 38/100\n",
      "20/20 [==============================] - 0s 5ms/step - loss: 0.1587 - accuracy: 0.9463 - val_loss: 1.1592 - val_accuracy: 0.7468\n",
      "Epoch 39/100\n",
      "20/20 [==============================] - 0s 5ms/step - loss: 0.0580 - accuracy: 0.9772 - val_loss: 1.3866 - val_accuracy: 0.7273\n",
      "Epoch 40/100\n",
      "20/20 [==============================] - 0s 5ms/step - loss: 0.1015 - accuracy: 0.9609 - val_loss: 1.4022 - val_accuracy: 0.7143\n",
      "Epoch 41/100\n",
      "20/20 [==============================] - 0s 5ms/step - loss: 0.0936 - accuracy: 0.9723 - val_loss: 1.3397 - val_accuracy: 0.7597\n",
      "Epoch 42/100\n",
      "20/20 [==============================] - 0s 5ms/step - loss: 0.0609 - accuracy: 0.9772 - val_loss: 1.5204 - val_accuracy: 0.7468\n",
      "Epoch 43/100\n",
      "20/20 [==============================] - 0s 6ms/step - loss: 0.0939 - accuracy: 0.9642 - val_loss: 1.5347 - val_accuracy: 0.7597\n",
      "Epoch 44/100\n",
      "20/20 [==============================] - 0s 5ms/step - loss: 0.0564 - accuracy: 0.9788 - val_loss: 1.4906 - val_accuracy: 0.7727\n",
      "Epoch 45/100\n",
      "20/20 [==============================] - 0s 6ms/step - loss: 0.0515 - accuracy: 0.9853 - val_loss: 1.6336 - val_accuracy: 0.7792\n",
      "Epoch 46/100\n",
      "20/20 [==============================] - 0s 5ms/step - loss: 0.1116 - accuracy: 0.9674 - val_loss: 1.4703 - val_accuracy: 0.7338\n",
      "Epoch 47/100\n",
      "20/20 [==============================] - 0s 5ms/step - loss: 0.0385 - accuracy: 0.9853 - val_loss: 1.6110 - val_accuracy: 0.7273\n",
      "Epoch 48/100\n",
      "20/20 [==============================] - 0s 5ms/step - loss: 0.0756 - accuracy: 0.9707 - val_loss: 1.9051 - val_accuracy: 0.6818\n",
      "Epoch 49/100\n",
      "20/20 [==============================] - 0s 5ms/step - loss: 0.0576 - accuracy: 0.9821 - val_loss: 1.7586 - val_accuracy: 0.7468\n",
      "Epoch 50/100\n",
      "20/20 [==============================] - 0s 5ms/step - loss: 0.0833 - accuracy: 0.9691 - val_loss: 1.8324 - val_accuracy: 0.7078\n",
      "Epoch 51/100\n",
      "20/20 [==============================] - 0s 5ms/step - loss: 0.0428 - accuracy: 0.9853 - val_loss: 1.6384 - val_accuracy: 0.7403\n",
      "Epoch 52/100\n",
      "20/20 [==============================] - 0s 6ms/step - loss: 0.0511 - accuracy: 0.9739 - val_loss: 1.6309 - val_accuracy: 0.7532\n",
      "Epoch 53/100\n",
      "20/20 [==============================] - 0s 5ms/step - loss: 0.0786 - accuracy: 0.9788 - val_loss: 1.6211 - val_accuracy: 0.7792\n",
      "Epoch 54/100\n",
      "20/20 [==============================] - 0s 5ms/step - loss: 0.0445 - accuracy: 0.9853 - val_loss: 1.6577 - val_accuracy: 0.7338\n",
      "Epoch 55/100\n",
      "20/20 [==============================] - 0s 5ms/step - loss: 0.0462 - accuracy: 0.9788 - val_loss: 2.0574 - val_accuracy: 0.7338\n",
      "Epoch 56/100\n",
      "20/20 [==============================] - 0s 5ms/step - loss: 0.0375 - accuracy: 0.9919 - val_loss: 1.7380 - val_accuracy: 0.7597\n",
      "Epoch 57/100\n",
      "20/20 [==============================] - 0s 6ms/step - loss: 0.0284 - accuracy: 0.9935 - val_loss: 1.8834 - val_accuracy: 0.7143\n",
      "Epoch 58/100\n",
      "20/20 [==============================] - 0s 5ms/step - loss: 0.0658 - accuracy: 0.9788 - val_loss: 2.0363 - val_accuracy: 0.7208\n",
      "Epoch 59/100\n",
      "20/20 [==============================] - 0s 5ms/step - loss: 0.0386 - accuracy: 0.9837 - val_loss: 2.0213 - val_accuracy: 0.7338\n",
      "Epoch 60/100\n",
      "20/20 [==============================] - 0s 5ms/step - loss: 0.0156 - accuracy: 0.9935 - val_loss: 2.6259 - val_accuracy: 0.7143\n",
      "Epoch 61/100\n",
      "20/20 [==============================] - 0s 5ms/step - loss: 0.0868 - accuracy: 0.9739 - val_loss: 1.8902 - val_accuracy: 0.7143\n",
      "Epoch 62/100\n",
      "20/20 [==============================] - 0s 5ms/step - loss: 0.0415 - accuracy: 0.9853 - val_loss: 2.0332 - val_accuracy: 0.7468\n",
      "Epoch 63/100\n",
      "20/20 [==============================] - 0s 5ms/step - loss: 0.0428 - accuracy: 0.9837 - val_loss: 2.1627 - val_accuracy: 0.7273\n"
     ]
    },
    {
     "name": "stdout",
     "output_type": "stream",
     "text": [
      "Epoch 64/100\n",
      "20/20 [==============================] - 0s 5ms/step - loss: 0.0247 - accuracy: 0.9935 - val_loss: 2.0562 - val_accuracy: 0.7338\n",
      "Epoch 65/100\n",
      "20/20 [==============================] - 0s 6ms/step - loss: 0.0966 - accuracy: 0.9723 - val_loss: 1.9351 - val_accuracy: 0.7597\n",
      "Epoch 66/100\n",
      "20/20 [==============================] - 0s 5ms/step - loss: 0.0131 - accuracy: 0.9967 - val_loss: 2.0821 - val_accuracy: 0.7597\n",
      "Epoch 67/100\n",
      "20/20 [==============================] - 0s 5ms/step - loss: 0.0644 - accuracy: 0.9772 - val_loss: 1.9297 - val_accuracy: 0.7597\n",
      "Epoch 68/100\n",
      "20/20 [==============================] - 0s 5ms/step - loss: 0.0064 - accuracy: 0.9984 - val_loss: 1.9913 - val_accuracy: 0.7532\n",
      "Epoch 69/100\n",
      "20/20 [==============================] - 0s 5ms/step - loss: 0.0280 - accuracy: 0.9902 - val_loss: 2.1608 - val_accuracy: 0.7143\n",
      "Epoch 70/100\n",
      "20/20 [==============================] - 0s 5ms/step - loss: 0.0239 - accuracy: 0.9902 - val_loss: 1.9672 - val_accuracy: 0.7532\n",
      "Epoch 71/100\n",
      "20/20 [==============================] - 0s 5ms/step - loss: 0.0155 - accuracy: 0.9967 - val_loss: 2.0912 - val_accuracy: 0.7468\n",
      "Epoch 72/100\n",
      "20/20 [==============================] - 0s 5ms/step - loss: 0.0893 - accuracy: 0.9739 - val_loss: 2.0379 - val_accuracy: 0.7532\n",
      "Epoch 73/100\n",
      "20/20 [==============================] - 0s 5ms/step - loss: 0.0482 - accuracy: 0.9902 - val_loss: 1.9941 - val_accuracy: 0.7273\n",
      "Epoch 74/100\n",
      "20/20 [==============================] - 0s 5ms/step - loss: 0.0160 - accuracy: 0.9967 - val_loss: 2.1057 - val_accuracy: 0.7403\n",
      "Epoch 75/100\n",
      "20/20 [==============================] - 0s 6ms/step - loss: 0.0492 - accuracy: 0.9805 - val_loss: 2.2142 - val_accuracy: 0.7403\n",
      "Epoch 76/100\n",
      "20/20 [==============================] - 0s 5ms/step - loss: 0.0520 - accuracy: 0.9837 - val_loss: 2.1241 - val_accuracy: 0.7338\n",
      "Epoch 77/100\n",
      "20/20 [==============================] - 0s 5ms/step - loss: 0.0272 - accuracy: 0.9870 - val_loss: 1.9928 - val_accuracy: 0.7273\n",
      "Epoch 78/100\n",
      "20/20 [==============================] - 0s 5ms/step - loss: 0.0622 - accuracy: 0.9788 - val_loss: 2.0341 - val_accuracy: 0.7403\n",
      "Epoch 79/100\n",
      "20/20 [==============================] - 0s 6ms/step - loss: 0.0083 - accuracy: 0.9984 - val_loss: 2.1017 - val_accuracy: 0.7078\n",
      "Epoch 80/100\n",
      "20/20 [==============================] - 0s 5ms/step - loss: 0.0604 - accuracy: 0.9772 - val_loss: 2.1854 - val_accuracy: 0.7273\n",
      "Epoch 81/100\n",
      "20/20 [==============================] - 0s 6ms/step - loss: 0.0176 - accuracy: 0.9902 - val_loss: 2.3168 - val_accuracy: 0.7532\n",
      "Epoch 82/100\n",
      "20/20 [==============================] - 0s 6ms/step - loss: 0.0192 - accuracy: 0.9919 - val_loss: 2.1682 - val_accuracy: 0.7532\n",
      "Epoch 83/100\n",
      "20/20 [==============================] - 0s 6ms/step - loss: 0.0257 - accuracy: 0.9902 - val_loss: 2.2781 - val_accuracy: 0.7338\n",
      "Epoch 84/100\n",
      "20/20 [==============================] - 0s 5ms/step - loss: 0.0149 - accuracy: 0.9951 - val_loss: 2.3201 - val_accuracy: 0.7597\n",
      "Epoch 85/100\n",
      "20/20 [==============================] - 0s 6ms/step - loss: 0.0657 - accuracy: 0.9805 - val_loss: 2.2128 - val_accuracy: 0.7338\n",
      "Epoch 86/100\n",
      "20/20 [==============================] - 0s 6ms/step - loss: 0.0046 - accuracy: 1.0000 - val_loss: 2.3206 - val_accuracy: 0.7403\n",
      "Epoch 87/100\n",
      "20/20 [==============================] - 0s 6ms/step - loss: 0.0039 - accuracy: 0.9984 - val_loss: 2.3947 - val_accuracy: 0.7468\n",
      "Epoch 88/100\n",
      "20/20 [==============================] - 0s 6ms/step - loss: 0.0526 - accuracy: 0.9837 - val_loss: 2.6591 - val_accuracy: 0.6818\n",
      "Epoch 89/100\n",
      "20/20 [==============================] - 0s 5ms/step - loss: 0.0192 - accuracy: 0.9935 - val_loss: 2.3722 - val_accuracy: 0.7532\n",
      "Epoch 90/100\n",
      "20/20 [==============================] - 0s 5ms/step - loss: 0.0029 - accuracy: 1.0000 - val_loss: 2.6252 - val_accuracy: 0.7208\n",
      "Epoch 91/100\n",
      "20/20 [==============================] - 0s 5ms/step - loss: 0.0070 - accuracy: 0.9967 - val_loss: 2.6188 - val_accuracy: 0.7662\n",
      "Epoch 92/100\n",
      "20/20 [==============================] - 0s 5ms/step - loss: 0.0463 - accuracy: 0.9919 - val_loss: 2.3227 - val_accuracy: 0.7273\n",
      "Epoch 93/100\n",
      "20/20 [==============================] - 0s 5ms/step - loss: 0.0410 - accuracy: 0.9902 - val_loss: 2.2361 - val_accuracy: 0.7403\n",
      "Epoch 94/100\n",
      "20/20 [==============================] - 0s 5ms/step - loss: 0.0089 - accuracy: 0.9967 - val_loss: 2.4757 - val_accuracy: 0.7078\n",
      "Epoch 95/100\n",
      "20/20 [==============================] - 0s 5ms/step - loss: 0.0454 - accuracy: 0.9870 - val_loss: 2.4155 - val_accuracy: 0.7468\n",
      "Epoch 96/100\n",
      "20/20 [==============================] - 0s 5ms/step - loss: 0.0073 - accuracy: 0.9984 - val_loss: 2.4261 - val_accuracy: 0.7338\n",
      "Epoch 97/100\n",
      "20/20 [==============================] - 0s 5ms/step - loss: 0.0030 - accuracy: 0.9984 - val_loss: 2.7109 - val_accuracy: 0.7597\n",
      "Epoch 98/100\n",
      "20/20 [==============================] - 0s 5ms/step - loss: 0.0491 - accuracy: 0.9853 - val_loss: 2.7422 - val_accuracy: 0.7273\n",
      "Epoch 99/100\n",
      "20/20 [==============================] - 0s 5ms/step - loss: 0.0279 - accuracy: 0.9919 - val_loss: 2.4011 - val_accuracy: 0.7338\n",
      "Epoch 100/100\n",
      "20/20 [==============================] - 0s 5ms/step - loss: 0.0038 - accuracy: 1.0000 - val_loss: 2.7197 - val_accuracy: 0.7338\n"
     ]
    },
    {
     "data": {
      "text/plain": [
       "<keras.src.callbacks.History at 0x20017ea1e20>"
      ]
     },
     "execution_count": 17,
     "metadata": {},
     "output_type": "execute_result"
    }
   ],
   "source": [
    "model.fit(x_train,y_train,epochs=100,initial_epoch=5,validation_data=(x_test,y_test))"
   ]
  },
  {
   "cell_type": "code",
   "execution_count": null,
   "id": "49232bd3",
   "metadata": {},
   "outputs": [],
   "source": []
  }
 ],
 "metadata": {
  "kernelspec": {
   "display_name": "Python 3 (ipykernel)",
   "language": "python",
   "name": "python3"
  },
  "language_info": {
   "codemirror_mode": {
    "name": "ipython",
    "version": 3
   },
   "file_extension": ".py",
   "mimetype": "text/x-python",
   "name": "python",
   "nbconvert_exporter": "python",
   "pygments_lexer": "ipython3",
   "version": "3.9.7"
  }
 },
 "nbformat": 4,
 "nbformat_minor": 5
}
