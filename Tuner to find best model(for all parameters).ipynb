{
 "cells": [
  {
   "cell_type": "code",
   "execution_count": 2,
   "id": "ac492c3c",
   "metadata": {},
   "outputs": [],
   "source": [
    "import numpy as np\n",
    "import matplotlib.pyplot as plt\n",
    "import pandas as pd\n",
    "import tensorflow\n",
    "from tensorflow import keras\n",
    "from tensorflow.keras import Sequential\n",
    "from tensorflow.keras.layers import Dense,Dropout\n",
    "import keras_tuner as kt"
   ]
  },
  {
   "cell_type": "code",
   "execution_count": 3,
   "id": "6bc4dbc1",
   "metadata": {},
   "outputs": [],
   "source": [
    "df = pd.read_csv(\"D:\\study\\ML\\diabetes.csv\")"
   ]
  },
  {
   "cell_type": "code",
   "execution_count": 4,
   "id": "43f583a2",
   "metadata": {},
   "outputs": [],
   "source": [
    "X = df.iloc[:,:-1].values\n",
    "y = df.iloc[:,-1].values"
   ]
  },
  {
   "cell_type": "code",
   "execution_count": 5,
   "id": "a4d731dd",
   "metadata": {},
   "outputs": [],
   "source": [
    "from sklearn.preprocessing import StandardScaler\n",
    "scaler = StandardScaler()\n",
    "X_skl = scaler.fit_transform(X)"
   ]
  },
  {
   "cell_type": "code",
   "execution_count": 6,
   "id": "ecd8ce18",
   "metadata": {},
   "outputs": [],
   "source": [
    "from sklearn.model_selection import train_test_split\n",
    "x_train,x_test,y_train,y_test = train_test_split(X_skl,y,test_size=0.2,random_state=1)"
   ]
  },
  {
   "cell_type": "code",
   "execution_count": 49,
   "id": "05ce0efb",
   "metadata": {},
   "outputs": [],
   "source": [
    "def build_model(hp):\n",
    "    model = Sequential()\n",
    "    \n",
    "    counter = 0\n",
    "    for i in range(hp.Int('num_layers',min_value=1,max_value=10)):\n",
    "        if counter == 0:\n",
    "            model.add(\n",
    "                    Dense(\n",
    "                        hp.Int('units'+str(i),min_value=8,max_value=256,step=8),\n",
    "                        activation = hp.Choice('activation'+str(i),values=['relu','tanh','sigmoid']),\n",
    "                        input_dim=8\n",
    "                    )\n",
    "            )\n",
    "            model.add(\n",
    "                    Dropout(\n",
    "                            hp.Choice('dropout'+str(i),values=[0.1,0.2,0.3,0.4,0.5,0.6,0.7,0.8,0.9])\n",
    "                    )\n",
    "            )\n",
    "            \n",
    "        else:\n",
    "            model.add(\n",
    "                    Dense(\n",
    "                        hp.Int('units'+str(i),min_value=8,max_value=256,step=8),\n",
    "                        activation = hp.Choice('activation'+str(i),values=['relu','tanh','sigmoid'])\n",
    "                    )\n",
    "            )\n",
    "            model.add(\n",
    "                    Dropout(\n",
    "                            hp.Choice('dropout'+str(i),values=[0.1,0.2,0.3,0.4,0.5,0.6,0.7,0.8,0.9])\n",
    "                    )\n",
    "            )\n",
    "            \n",
    "        counter += 1\n",
    "        \n",
    "    model.add(Dense(1,activation='sigmoid'))\n",
    "        \n",
    "    model.compile(\n",
    "        hp.Choice('optimizer',values=['rmsprop','adam','sgd','nadam','adadelta']),\n",
    "        loss='binary_crossentropy',\n",
    "        metrics=['accuracy']\n",
    "    )\n",
    "    \n",
    "    return model"
   ]
  },
  {
   "cell_type": "code",
   "execution_count": 50,
   "id": "47f39398",
   "metadata": {},
   "outputs": [],
   "source": [
    "tuner = kt.RandomSearch(build_model,\n",
    "                        objective='val_accuracy',\n",
    "                        max_trials=100,\n",
    "                        directory = 'my_dir',\n",
    "                        project_name = 'full tuner4'\n",
    "                       )"
   ]
  },
  {
   "cell_type": "code",
   "execution_count": 51,
   "id": "c7f5e516",
   "metadata": {},
   "outputs": [
    {
     "name": "stdout",
     "output_type": "stream",
     "text": [
      "Trial 100 Complete [00h 00m 04s]\n",
      "val_accuracy: 0.6428571343421936\n",
      "\n",
      "Best val_accuracy So Far: 0.8246753215789795\n",
      "Total elapsed time: 00h 05m 42s\n"
     ]
    }
   ],
   "source": [
    "tuner.search(x_train,y_train,epochs=10,validation_data=(x_test,y_test))"
   ]
  },
  {
   "cell_type": "code",
   "execution_count": 52,
   "id": "2d82aa93",
   "metadata": {},
   "outputs": [
    {
     "data": {
      "text/plain": [
       "{'num_layers': 5,\n",
       " 'units0': 184,\n",
       " 'activation0': 'relu',\n",
       " 'dropout0': 0.7,\n",
       " 'optimizer': 'nadam',\n",
       " 'units1': 144,\n",
       " 'activation1': 'tanh',\n",
       " 'dropout1': 0.4,\n",
       " 'units2': 56,\n",
       " 'activation2': 'tanh',\n",
       " 'dropout2': 0.6,\n",
       " 'units3': 144,\n",
       " 'activation3': 'sigmoid',\n",
       " 'dropout3': 0.5,\n",
       " 'units4': 128,\n",
       " 'activation4': 'relu',\n",
       " 'dropout4': 0.1,\n",
       " 'units5': 48,\n",
       " 'activation5': 'sigmoid',\n",
       " 'dropout5': 0.2,\n",
       " 'units6': 192,\n",
       " 'activation6': 'tanh',\n",
       " 'dropout6': 0.1,\n",
       " 'units7': 256,\n",
       " 'activation7': 'tanh',\n",
       " 'dropout7': 0.2,\n",
       " 'units8': 8,\n",
       " 'activation8': 'tanh',\n",
       " 'dropout8': 0.6,\n",
       " 'units9': 152,\n",
       " 'activation9': 'sigmoid',\n",
       " 'dropout9': 0.7}"
      ]
     },
     "execution_count": 52,
     "metadata": {},
     "output_type": "execute_result"
    }
   ],
   "source": [
    "tuner.get_best_hyperparameters()[0].values"
   ]
  },
  {
   "cell_type": "code",
   "execution_count": 53,
   "id": "5bf94d38",
   "metadata": {},
   "outputs": [],
   "source": [
    "from tensorflow.keras.callbacks import EarlyStopping"
   ]
  },
  {
   "cell_type": "code",
   "execution_count": 60,
   "id": "7fb163c7",
   "metadata": {},
   "outputs": [],
   "source": [
    "callback = EarlyStopping(\n",
    "    monitor = 'val_loss',\n",
    "    min_delta = 0.00001,\n",
    "    patience = 10,\n",
    "    verbose = 1,\n",
    "    mode='auto',\n",
    "    baseline = None,\n",
    "    restore_best_weights = True\n",
    ")"
   ]
  },
  {
   "cell_type": "code",
   "execution_count": 61,
   "id": "18a47eee",
   "metadata": {},
   "outputs": [],
   "source": [
    "model = tuner.get_best_models(num_models=1)[0]"
   ]
  },
  {
   "cell_type": "code",
   "execution_count": 62,
   "id": "fd9658c7",
   "metadata": {},
   "outputs": [
    {
     "name": "stdout",
     "output_type": "stream",
     "text": [
      "Epoch 6/100\n",
      "20/20 [==============================] - 2s 13ms/step - loss: 0.5181 - accuracy: 0.7557 - val_loss: 0.4855 - val_accuracy: 0.7662\n",
      "Epoch 7/100\n",
      "20/20 [==============================] - 0s 6ms/step - loss: 0.5243 - accuracy: 0.7345 - val_loss: 0.4694 - val_accuracy: 0.7987\n",
      "Epoch 8/100\n",
      "20/20 [==============================] - 0s 5ms/step - loss: 0.4999 - accuracy: 0.7508 - val_loss: 0.4625 - val_accuracy: 0.7857\n",
      "Epoch 9/100\n",
      "20/20 [==============================] - 0s 6ms/step - loss: 0.5028 - accuracy: 0.7410 - val_loss: 0.4600 - val_accuracy: 0.7987\n",
      "Epoch 10/100\n",
      "20/20 [==============================] - 0s 5ms/step - loss: 0.4948 - accuracy: 0.7541 - val_loss: 0.4637 - val_accuracy: 0.8117\n",
      "Epoch 11/100\n",
      "20/20 [==============================] - 0s 6ms/step - loss: 0.4919 - accuracy: 0.7606 - val_loss: 0.4648 - val_accuracy: 0.7857\n",
      "Epoch 12/100\n",
      "20/20 [==============================] - 0s 6ms/step - loss: 0.5207 - accuracy: 0.7313 - val_loss: 0.4551 - val_accuracy: 0.8117\n",
      "Epoch 13/100\n",
      "20/20 [==============================] - 0s 6ms/step - loss: 0.4969 - accuracy: 0.7476 - val_loss: 0.4533 - val_accuracy: 0.8052\n",
      "Epoch 14/100\n",
      "20/20 [==============================] - 0s 6ms/step - loss: 0.5153 - accuracy: 0.7476 - val_loss: 0.4565 - val_accuracy: 0.8052\n",
      "Epoch 15/100\n",
      "20/20 [==============================] - 0s 5ms/step - loss: 0.4845 - accuracy: 0.7606 - val_loss: 0.4601 - val_accuracy: 0.8247\n",
      "Epoch 16/100\n",
      "20/20 [==============================] - 0s 6ms/step - loss: 0.4856 - accuracy: 0.7492 - val_loss: 0.4604 - val_accuracy: 0.7922\n",
      "Epoch 17/100\n",
      "20/20 [==============================] - 0s 5ms/step - loss: 0.4985 - accuracy: 0.7687 - val_loss: 0.4574 - val_accuracy: 0.8312\n",
      "Epoch 18/100\n",
      "20/20 [==============================] - 0s 5ms/step - loss: 0.4868 - accuracy: 0.7687 - val_loss: 0.4541 - val_accuracy: 0.7987\n",
      "Epoch 19/100\n",
      "20/20 [==============================] - 0s 6ms/step - loss: 0.4938 - accuracy: 0.7573 - val_loss: 0.4536 - val_accuracy: 0.8117\n",
      "Epoch 20/100\n",
      "20/20 [==============================] - 0s 5ms/step - loss: 0.4936 - accuracy: 0.7704 - val_loss: 0.4529 - val_accuracy: 0.7987\n",
      "Epoch 21/100\n",
      "20/20 [==============================] - 0s 6ms/step - loss: 0.4842 - accuracy: 0.7655 - val_loss: 0.4589 - val_accuracy: 0.8247\n",
      "Epoch 22/100\n",
      "20/20 [==============================] - 0s 6ms/step - loss: 0.4742 - accuracy: 0.7850 - val_loss: 0.4542 - val_accuracy: 0.7922\n",
      "Epoch 23/100\n",
      "20/20 [==============================] - 0s 6ms/step - loss: 0.4796 - accuracy: 0.7769 - val_loss: 0.4573 - val_accuracy: 0.7922\n",
      "Epoch 24/100\n",
      "20/20 [==============================] - 0s 6ms/step - loss: 0.4753 - accuracy: 0.7638 - val_loss: 0.4559 - val_accuracy: 0.7987\n",
      "Epoch 25/100\n",
      "20/20 [==============================] - 0s 6ms/step - loss: 0.4833 - accuracy: 0.7720 - val_loss: 0.4553 - val_accuracy: 0.7857\n",
      "Epoch 26/100\n",
      "20/20 [==============================] - 0s 6ms/step - loss: 0.4799 - accuracy: 0.7785 - val_loss: 0.4552 - val_accuracy: 0.7987\n",
      "Epoch 27/100\n",
      "20/20 [==============================] - 0s 6ms/step - loss: 0.4743 - accuracy: 0.7850 - val_loss: 0.4505 - val_accuracy: 0.7922\n",
      "Epoch 28/100\n",
      "20/20 [==============================] - 0s 6ms/step - loss: 0.4918 - accuracy: 0.7687 - val_loss: 0.4530 - val_accuracy: 0.8052\n",
      "Epoch 29/100\n",
      "20/20 [==============================] - 0s 5ms/step - loss: 0.4747 - accuracy: 0.7590 - val_loss: 0.4547 - val_accuracy: 0.8052\n",
      "Epoch 30/100\n",
      "20/20 [==============================] - 0s 6ms/step - loss: 0.4759 - accuracy: 0.7801 - val_loss: 0.4533 - val_accuracy: 0.8052\n",
      "Epoch 31/100\n",
      "20/20 [==============================] - 0s 5ms/step - loss: 0.4815 - accuracy: 0.7736 - val_loss: 0.4573 - val_accuracy: 0.7857\n",
      "Epoch 32/100\n",
      "20/20 [==============================] - 0s 6ms/step - loss: 0.4643 - accuracy: 0.7899 - val_loss: 0.4528 - val_accuracy: 0.8052\n",
      "Epoch 33/100\n",
      "20/20 [==============================] - 0s 6ms/step - loss: 0.4595 - accuracy: 0.7736 - val_loss: 0.4482 - val_accuracy: 0.8117\n",
      "Epoch 34/100\n",
      "20/20 [==============================] - 0s 5ms/step - loss: 0.4776 - accuracy: 0.7769 - val_loss: 0.4528 - val_accuracy: 0.7987\n",
      "Epoch 35/100\n",
      "20/20 [==============================] - 0s 6ms/step - loss: 0.4686 - accuracy: 0.7948 - val_loss: 0.4489 - val_accuracy: 0.7987\n",
      "Epoch 36/100\n",
      "20/20 [==============================] - 0s 5ms/step - loss: 0.4872 - accuracy: 0.7866 - val_loss: 0.4525 - val_accuracy: 0.7987\n",
      "Epoch 37/100\n",
      "20/20 [==============================] - 0s 5ms/step - loss: 0.4674 - accuracy: 0.7769 - val_loss: 0.4507 - val_accuracy: 0.7987\n",
      "Epoch 38/100\n",
      "20/20 [==============================] - 0s 6ms/step - loss: 0.4541 - accuracy: 0.7915 - val_loss: 0.4555 - val_accuracy: 0.7922\n",
      "Epoch 39/100\n",
      "20/20 [==============================] - 0s 6ms/step - loss: 0.4781 - accuracy: 0.7704 - val_loss: 0.4543 - val_accuracy: 0.7922\n",
      "Epoch 40/100\n",
      "20/20 [==============================] - 0s 6ms/step - loss: 0.4789 - accuracy: 0.7736 - val_loss: 0.4571 - val_accuracy: 0.7987\n",
      "Epoch 41/100\n",
      "20/20 [==============================] - 0s 5ms/step - loss: 0.4466 - accuracy: 0.7752 - val_loss: 0.4597 - val_accuracy: 0.7987\n",
      "Epoch 42/100\n",
      "20/20 [==============================] - 0s 5ms/step - loss: 0.4747 - accuracy: 0.7752 - val_loss: 0.4536 - val_accuracy: 0.7857\n",
      "Epoch 43/100\n",
      "15/20 [=====================>........] - ETA: 0s - loss: 0.4674 - accuracy: 0.7875Restoring model weights from the end of the best epoch: 33.\n",
      "20/20 [==============================] - 0s 6ms/step - loss: 0.4701 - accuracy: 0.7769 - val_loss: 0.4595 - val_accuracy: 0.8117\n",
      "Epoch 43: early stopping\n"
     ]
    }
   ],
   "source": [
    "history = model.fit(x_train,y_train,epochs=100,initial_epoch=5,validation_data=(x_test,y_test),callbacks=callback)"
   ]
  },
  {
   "cell_type": "code",
   "execution_count": 63,
   "id": "3b0ee530",
   "metadata": {},
   "outputs": [
    {
     "data": {
      "text/plain": [
       "[<matplotlib.lines.Line2D at 0x151c0d17d90>]"
      ]
     },
     "execution_count": 63,
     "metadata": {},
     "output_type": "execute_result"
    },
    {
     "data": {
      "image/png": "[encoded data removed]",
      "text/plain": [
       "<Figure size 432x288 with 1 Axes>"
      ]
     },
     "metadata": {
      "needs_background": "light"
     },
     "output_type": "display_data"
    }
   ],
   "source": [
    "plt.plot(history.history['loss'])\n",
    "plt.plot(history.history['val_loss'])"
   ]
  },
  {
   "cell_type": "code",
   "execution_count": null,
   "id": "5c66fc45",
   "metadata": {},
   "outputs": [],
   "source": []
  }
 ],
 "metadata": {
  "kernelspec": {
   "display_name": "Python 3 (ipykernel)",
   "language": "python",
   "name": "python3"
  },
  "language_info": {
   "codemirror_mode": {
    "name": "ipython",
    "version": 3
   },
   "file_extension": ".py",
   "mimetype": "text/x-python",
   "name": "python",
   "nbconvert_exporter": "python",
   "pygments_lexer": "ipython3",
   "version": "3.9.7"
  }
 },
 "nbformat": 4,
 "nbformat_minor": 5
}
