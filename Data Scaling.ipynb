{
 "cells": [
  {
   "cell_type": "code",
   "execution_count": 1,
   "id": "87f2fb35",
   "metadata": {},
   "outputs": [],
   "source": [
    "import pandas as pd\n",
    "import numpy as np\n",
    "import matplotlib.pyplot as plt"
   ]
  },
  {
   "cell_type": "code",
   "execution_count": 4,
   "id": "0ef682c0",
   "metadata": {},
   "outputs": [],
   "source": [
    "df = pd.read_csv(\"D:\\study\\ML\\Social_Network_Ads.csv\")"
   ]
  },
  {
   "cell_type": "code",
   "execution_count": 5,
   "id": "e3695364",
   "metadata": {},
   "outputs": [
    {
     "data": {
      "text/html": [
       "<div>\n",
       "<style scoped>\n",
       "    .dataframe tbody tr th:only-of-type {\n",
       "        vertical-align: middle;\n",
       "    }\n",
       "\n",
       "    .dataframe tbody tr th {\n",
       "        vertical-align: top;\n",
       "    }\n",
       "\n",
       "    .dataframe thead th {\n",
       "        text-align: right;\n",
       "    }\n",
       "</style>\n",
       "<table border=\"1\" class=\"dataframe\">\n",
       "  <thead>\n",
       "    <tr style=\"text-align: right;\">\n",
       "      <th></th>\n",
       "      <th>User ID</th>\n",
       "      <th>Gender</th>\n",
       "      <th>Age</th>\n",
       "      <th>EstimatedSalary</th>\n",
       "      <th>Purchased</th>\n",
       "    </tr>\n",
       "  </thead>\n",
       "  <tbody>\n",
       "    <tr>\n",
       "      <th>0</th>\n",
       "      <td>15624510</td>\n",
       "      <td>Male</td>\n",
       "      <td>19</td>\n",
       "      <td>19000</td>\n",
       "      <td>0</td>\n",
       "    </tr>\n",
       "    <tr>\n",
       "      <th>1</th>\n",
       "      <td>15810944</td>\n",
       "      <td>Male</td>\n",
       "      <td>35</td>\n",
       "      <td>20000</td>\n",
       "      <td>0</td>\n",
       "    </tr>\n",
       "    <tr>\n",
       "      <th>2</th>\n",
       "      <td>15668575</td>\n",
       "      <td>Female</td>\n",
       "      <td>26</td>\n",
       "      <td>43000</td>\n",
       "      <td>0</td>\n",
       "    </tr>\n",
       "    <tr>\n",
       "      <th>3</th>\n",
       "      <td>15603246</td>\n",
       "      <td>Female</td>\n",
       "      <td>27</td>\n",
       "      <td>57000</td>\n",
       "      <td>0</td>\n",
       "    </tr>\n",
       "    <tr>\n",
       "      <th>4</th>\n",
       "      <td>15804002</td>\n",
       "      <td>Male</td>\n",
       "      <td>19</td>\n",
       "      <td>76000</td>\n",
       "      <td>0</td>\n",
       "    </tr>\n",
       "  </tbody>\n",
       "</table>\n",
       "</div>"
      ],
      "text/plain": [
       "    User ID  Gender  Age  EstimatedSalary  Purchased\n",
       "0  15624510    Male   19            19000          0\n",
       "1  15810944    Male   35            20000          0\n",
       "2  15668575  Female   26            43000          0\n",
       "3  15603246  Female   27            57000          0\n",
       "4  15804002    Male   19            76000          0"
      ]
     },
     "execution_count": 5,
     "metadata": {},
     "output_type": "execute_result"
    }
   ],
   "source": [
    "df.head()"
   ]
  },
  {
   "cell_type": "code",
   "execution_count": 6,
   "id": "9a5a8870",
   "metadata": {},
   "outputs": [],
   "source": [
    "df = df.iloc[:,2:]"
   ]
  },
  {
   "cell_type": "code",
   "execution_count": 7,
   "id": "4bceb391",
   "metadata": {},
   "outputs": [
    {
     "data": {
      "text/html": [
       "<div>\n",
       "<style scoped>\n",
       "    .dataframe tbody tr th:only-of-type {\n",
       "        vertical-align: middle;\n",
       "    }\n",
       "\n",
       "    .dataframe tbody tr th {\n",
       "        vertical-align: top;\n",
       "    }\n",
       "\n",
       "    .dataframe thead th {\n",
       "        text-align: right;\n",
       "    }\n",
       "</style>\n",
       "<table border=\"1\" class=\"dataframe\">\n",
       "  <thead>\n",
       "    <tr style=\"text-align: right;\">\n",
       "      <th></th>\n",
       "      <th>Age</th>\n",
       "      <th>EstimatedSalary</th>\n",
       "      <th>Purchased</th>\n",
       "    </tr>\n",
       "  </thead>\n",
       "  <tbody>\n",
       "    <tr>\n",
       "      <th>0</th>\n",
       "      <td>19</td>\n",
       "      <td>19000</td>\n",
       "      <td>0</td>\n",
       "    </tr>\n",
       "    <tr>\n",
       "      <th>1</th>\n",
       "      <td>35</td>\n",
       "      <td>20000</td>\n",
       "      <td>0</td>\n",
       "    </tr>\n",
       "    <tr>\n",
       "      <th>2</th>\n",
       "      <td>26</td>\n",
       "      <td>43000</td>\n",
       "      <td>0</td>\n",
       "    </tr>\n",
       "    <tr>\n",
       "      <th>3</th>\n",
       "      <td>27</td>\n",
       "      <td>57000</td>\n",
       "      <td>0</td>\n",
       "    </tr>\n",
       "    <tr>\n",
       "      <th>4</th>\n",
       "      <td>19</td>\n",
       "      <td>76000</td>\n",
       "      <td>0</td>\n",
       "    </tr>\n",
       "  </tbody>\n",
       "</table>\n",
       "</div>"
      ],
      "text/plain": [
       "   Age  EstimatedSalary  Purchased\n",
       "0   19            19000          0\n",
       "1   35            20000          0\n",
       "2   26            43000          0\n",
       "3   27            57000          0\n",
       "4   19            76000          0"
      ]
     },
     "execution_count": 7,
     "metadata": {},
     "output_type": "execute_result"
    }
   ],
   "source": [
    "df.head()"
   ]
  },
  {
   "cell_type": "code",
   "execution_count": 8,
   "id": "75ee8d5c",
   "metadata": {},
   "outputs": [
    {
     "data": {
      "text/plain": [
       "<matplotlib.collections.PathCollection at 0x1cc0170ec70>"
      ]
     },
     "execution_count": 8,
     "metadata": {},
     "output_type": "execute_result"
    },
    {
     "data": {
      "image/png": "[encoded data removed]",
      "text/plain": [
       "<Figure size 432x288 with 1 Axes>"
      ]
     },
     "metadata": {
      "needs_background": "light"
     },
     "output_type": "display_data"
    }
   ],
   "source": [
    "plt.scatter(df.iloc[:,0],df.iloc[:,1])"
   ]
  },
  {
   "cell_type": "code",
   "execution_count": 9,
   "id": "c251f5b7",
   "metadata": {},
   "outputs": [],
   "source": [
    "x = df.iloc[:,:2]\n",
    "y = df.iloc[:,-1]"
   ]
  },
  {
   "cell_type": "code",
   "execution_count": 10,
   "id": "09d5e861",
   "metadata": {},
   "outputs": [
    {
     "name": "stderr",
     "output_type": "stream",
     "text": [
      "C:\\Users\\User\\anaconda3\\lib\\site-packages\\scipy\\__init__.py:146: UserWarning: A NumPy version >=1.16.5 and <1.23.0 is required for this version of SciPy (detected version 1.26.2\n",
      "  warnings.warn(f\"A NumPy version >={np_minversion} and <{np_maxversion}\"\n"
     ]
    }
   ],
   "source": [
    "from sklearn.model_selection import train_test_split\n",
    "x_train,x_test,y_train,y_test = train_test_split(x,y,test_size=0.2,random_state=2)"
   ]
  },
  {
   "cell_type": "code",
   "execution_count": 14,
   "id": "699a9194",
   "metadata": {},
   "outputs": [],
   "source": [
    "import tensorflow as tf\n",
    "from tensorflow import keras\n",
    "from keras import Sequential\n",
    "from keras.layers import Dense"
   ]
  },
  {
   "cell_type": "code",
   "execution_count": 17,
   "id": "3f8d2db8",
   "metadata": {},
   "outputs": [
    {
     "name": "stdout",
     "output_type": "stream",
     "text": [
      "WARNING:tensorflow:From C:\\Users\\User\\anaconda3\\lib\\site-packages\\keras\\src\\backend.py:873: The name tf.get_default_graph is deprecated. Please use tf.compat.v1.get_default_graph instead.\n",
      "\n"
     ]
    }
   ],
   "source": [
    "model = Sequential()\n",
    "\n",
    "model.add(Dense(128,activation='relu',input_dim=2))\n",
    "model.add(Dense(1,activation='sigmoid'))"
   ]
  },
  {
   "cell_type": "code",
   "execution_count": 18,
   "id": "d17dadff",
   "metadata": {},
   "outputs": [
    {
     "name": "stdout",
     "output_type": "stream",
     "text": [
      "Model: \"sequential\"\n",
      "_________________________________________________________________\n",
      " Layer (type)                Output Shape              Param #   \n",
      "=================================================================\n",
      " dense (Dense)               (None, 128)               384       \n",
      "                                                                 \n",
      " dense_1 (Dense)             (None, 1)                 129       \n",
      "                                                                 \n",
      "=================================================================\n",
      "Total params: 513 (2.00 KB)\n",
      "Trainable params: 513 (2.00 KB)\n",
      "Non-trainable params: 0 (0.00 Byte)\n",
      "_________________________________________________________________\n"
     ]
    }
   ],
   "source": [
    "model.summary()"
   ]
  },
  {
   "cell_type": "code",
   "execution_count": 19,
   "id": "d4e48c1b",
   "metadata": {},
   "outputs": [
    {
     "name": "stdout",
     "output_type": "stream",
     "text": [
      "WARNING:tensorflow:From C:\\Users\\User\\anaconda3\\lib\\site-packages\\keras\\src\\optimizers\\__init__.py:309: The name tf.train.Optimizer is deprecated. Please use tf.compat.v1.train.Optimizer instead.\n",
      "\n"
     ]
    }
   ],
   "source": [
    "model.compile(loss='binary_crossentropy',optimizer='adam',metrics=['accuracy'])"
   ]
  },
  {
   "cell_type": "code",
   "execution_count": 22,
   "id": "01db5fb8",
   "metadata": {},
   "outputs": [
    {
     "name": "stdout",
     "output_type": "stream",
     "text": [
      "Epoch 1/100\n",
      "10/10 [==============================] - 0s 10ms/step - loss: 45.3913 - accuracy: 0.4719 - val_loss: 111.5880 - val_accuracy: 0.6000\n",
      "Epoch 2/100\n",
      "10/10 [==============================] - 0s 6ms/step - loss: 51.1315 - accuracy: 0.5344 - val_loss: 52.6252 - val_accuracy: 0.4000\n",
      "Epoch 3/100\n",
      "10/10 [==============================] - 0s 6ms/step - loss: 61.5699 - accuracy: 0.5031 - val_loss: 22.7676 - val_accuracy: 0.6000\n",
      "Epoch 4/100\n",
      "10/10 [==============================] - 0s 6ms/step - loss: 67.2749 - accuracy: 0.4656 - val_loss: 14.2094 - val_accuracy: 0.4000\n",
      "Epoch 5/100\n",
      "10/10 [==============================] - 0s 5ms/step - loss: 140.7145 - accuracy: 0.5156 - val_loss: 66.0360 - val_accuracy: 0.4000\n",
      "Epoch 6/100\n",
      "10/10 [==============================] - 0s 6ms/step - loss: 57.7565 - accuracy: 0.5156 - val_loss: 68.2254 - val_accuracy: 0.6000\n",
      "Epoch 7/100\n",
      "10/10 [==============================] - 0s 6ms/step - loss: 37.3188 - accuracy: 0.5281 - val_loss: 62.1665 - val_accuracy: 0.6000\n",
      "Epoch 8/100\n",
      "10/10 [==============================] - 0s 6ms/step - loss: 63.2904 - accuracy: 0.5656 - val_loss: 1.2491 - val_accuracy: 0.6000\n",
      "Epoch 9/100\n",
      "10/10 [==============================] - 0s 6ms/step - loss: 115.5864 - accuracy: 0.5344 - val_loss: 82.2453 - val_accuracy: 0.6000\n",
      "Epoch 10/100\n",
      "10/10 [==============================] - 0s 6ms/step - loss: 36.9364 - accuracy: 0.5219 - val_loss: 43.0425 - val_accuracy: 0.6000\n",
      "Epoch 11/100\n",
      "10/10 [==============================] - 0s 6ms/step - loss: 22.4501 - accuracy: 0.5625 - val_loss: 27.3400 - val_accuracy: 0.6000\n",
      "Epoch 12/100\n",
      "10/10 [==============================] - 0s 5ms/step - loss: 51.0143 - accuracy: 0.5969 - val_loss: 63.5263 - val_accuracy: 0.4000\n",
      "Epoch 13/100\n",
      "10/10 [==============================] - 0s 6ms/step - loss: 78.1255 - accuracy: 0.5094 - val_loss: 140.0970 - val_accuracy: 0.4000\n",
      "Epoch 14/100\n",
      "10/10 [==============================] - 0s 6ms/step - loss: 83.7796 - accuracy: 0.4969 - val_loss: 47.7636 - val_accuracy: 0.6000\n",
      "Epoch 15/100\n",
      "10/10 [==============================] - 0s 6ms/step - loss: 36.2879 - accuracy: 0.5219 - val_loss: 29.6127 - val_accuracy: 0.6000\n",
      "Epoch 16/100\n",
      "10/10 [==============================] - 0s 5ms/step - loss: 29.9359 - accuracy: 0.5594 - val_loss: 49.2057 - val_accuracy: 0.4000\n",
      "Epoch 17/100\n",
      "10/10 [==============================] - 0s 6ms/step - loss: 45.2150 - accuracy: 0.5031 - val_loss: 39.1163 - val_accuracy: 0.6000\n",
      "Epoch 18/100\n",
      "10/10 [==============================] - 0s 6ms/step - loss: 46.1397 - accuracy: 0.5844 - val_loss: 39.7548 - val_accuracy: 0.4000\n",
      "Epoch 19/100\n",
      "10/10 [==============================] - 0s 5ms/step - loss: 43.0374 - accuracy: 0.5031 - val_loss: 33.8645 - val_accuracy: 0.6000\n",
      "Epoch 20/100\n",
      "10/10 [==============================] - 0s 6ms/step - loss: 40.6350 - accuracy: 0.5969 - val_loss: 71.8526 - val_accuracy: 0.4000\n",
      "Epoch 21/100\n",
      "10/10 [==============================] - 0s 6ms/step - loss: 45.8511 - accuracy: 0.4844 - val_loss: 18.1954 - val_accuracy: 0.4000\n",
      "Epoch 22/100\n",
      "10/10 [==============================] - 0s 6ms/step - loss: 22.8703 - accuracy: 0.4844 - val_loss: 9.9070 - val_accuracy: 0.6000\n",
      "Epoch 23/100\n",
      "10/10 [==============================] - 0s 6ms/step - loss: 42.7661 - accuracy: 0.4594 - val_loss: 20.4081 - val_accuracy: 0.6000\n",
      "Epoch 24/100\n",
      "10/10 [==============================] - 0s 5ms/step - loss: 68.0563 - accuracy: 0.5625 - val_loss: 125.3848 - val_accuracy: 0.4000\n",
      "Epoch 25/100\n",
      "10/10 [==============================] - 0s 5ms/step - loss: 99.6146 - accuracy: 0.4844 - val_loss: 190.9479 - val_accuracy: 0.4000\n",
      "Epoch 26/100\n",
      "10/10 [==============================] - 0s 5ms/step - loss: 151.6244 - accuracy: 0.5250 - val_loss: 82.6419 - val_accuracy: 0.4000\n",
      "Epoch 27/100\n",
      "10/10 [==============================] - 0s 6ms/step - loss: 51.4114 - accuracy: 0.5344 - val_loss: 3.7223 - val_accuracy: 0.6000\n",
      "Epoch 28/100\n",
      "10/10 [==============================] - 0s 5ms/step - loss: 14.3455 - accuracy: 0.5500 - val_loss: 12.8248 - val_accuracy: 0.6000\n",
      "Epoch 29/100\n",
      "10/10 [==============================] - 0s 5ms/step - loss: 46.6741 - accuracy: 0.5719 - val_loss: 90.0488 - val_accuracy: 0.4000\n",
      "Epoch 30/100\n",
      "10/10 [==============================] - 0s 5ms/step - loss: 45.4435 - accuracy: 0.5094 - val_loss: 54.2980 - val_accuracy: 0.4000\n",
      "Epoch 31/100\n",
      "10/10 [==============================] - 0s 5ms/step - loss: 30.0207 - accuracy: 0.4781 - val_loss: 75.8822 - val_accuracy: 0.6000\n",
      "Epoch 32/100\n",
      "10/10 [==============================] - 0s 5ms/step - loss: 48.6180 - accuracy: 0.6094 - val_loss: 12.4653 - val_accuracy: 0.4000\n",
      "Epoch 33/100\n",
      "10/10 [==============================] - 0s 6ms/step - loss: 43.4310 - accuracy: 0.5094 - val_loss: 12.1021 - val_accuracy: 0.4000\n",
      "Epoch 34/100\n",
      "10/10 [==============================] - 0s 5ms/step - loss: 37.8475 - accuracy: 0.5406 - val_loss: 57.3963 - val_accuracy: 0.6000\n",
      "Epoch 35/100\n",
      "10/10 [==============================] - 0s 5ms/step - loss: 54.9307 - accuracy: 0.5594 - val_loss: 122.8071 - val_accuracy: 0.4000\n",
      "Epoch 36/100\n",
      "10/10 [==============================] - 0s 5ms/step - loss: 105.6243 - accuracy: 0.4531 - val_loss: 150.9522 - val_accuracy: 0.4000\n",
      "Epoch 37/100\n",
      "10/10 [==============================] - 0s 5ms/step - loss: 117.5795 - accuracy: 0.5156 - val_loss: 116.5082 - val_accuracy: 0.4000\n",
      "Epoch 38/100\n",
      "10/10 [==============================] - 0s 5ms/step - loss: 99.3184 - accuracy: 0.4719 - val_loss: 167.2477 - val_accuracy: 0.4000\n",
      "Epoch 39/100\n",
      "10/10 [==============================] - 0s 5ms/step - loss: 52.1811 - accuracy: 0.5344 - val_loss: 60.0615 - val_accuracy: 0.4000\n",
      "Epoch 40/100\n",
      "10/10 [==============================] - 0s 5ms/step - loss: 52.2975 - accuracy: 0.4969 - val_loss: 9.0909 - val_accuracy: 0.4000\n",
      "Epoch 41/100\n",
      "10/10 [==============================] - 0s 5ms/step - loss: 79.1326 - accuracy: 0.4469 - val_loss: 15.9858 - val_accuracy: 0.4000\n",
      "Epoch 42/100\n",
      "10/10 [==============================] - 0s 5ms/step - loss: 77.3197 - accuracy: 0.5188 - val_loss: 59.7825 - val_accuracy: 0.6000\n",
      "Epoch 43/100\n",
      "10/10 [==============================] - 0s 5ms/step - loss: 35.1115 - accuracy: 0.5063 - val_loss: 84.7704 - val_accuracy: 0.6000\n",
      "Epoch 44/100\n",
      "10/10 [==============================] - 0s 5ms/step - loss: 59.9903 - accuracy: 0.5844 - val_loss: 79.8553 - val_accuracy: 0.6000\n",
      "Epoch 45/100\n",
      "10/10 [==============================] - 0s 5ms/step - loss: 68.9520 - accuracy: 0.5094 - val_loss: 77.3992 - val_accuracy: 0.4000\n",
      "Epoch 46/100\n",
      "10/10 [==============================] - 0s 5ms/step - loss: 33.4577 - accuracy: 0.4781 - val_loss: 45.1027 - val_accuracy: 0.6000\n",
      "Epoch 47/100\n",
      "10/10 [==============================] - 0s 5ms/step - loss: 29.5455 - accuracy: 0.5656 - val_loss: 35.0412 - val_accuracy: 0.6000\n",
      "Epoch 48/100\n",
      "10/10 [==============================] - 0s 5ms/step - loss: 63.2050 - accuracy: 0.5156 - val_loss: 99.6154 - val_accuracy: 0.6000\n",
      "Epoch 49/100\n",
      "10/10 [==============================] - 0s 5ms/step - loss: 97.0898 - accuracy: 0.5406 - val_loss: 9.6114 - val_accuracy: 0.6000\n",
      "Epoch 50/100\n",
      "10/10 [==============================] - 0s 5ms/step - loss: 137.8605 - accuracy: 0.5094 - val_loss: 218.4422 - val_accuracy: 0.6000\n",
      "Epoch 51/100\n",
      "10/10 [==============================] - 0s 5ms/step - loss: 101.6152 - accuracy: 0.5344 - val_loss: 20.9228 - val_accuracy: 0.6000\n",
      "Epoch 52/100\n",
      "10/10 [==============================] - 0s 5ms/step - loss: 47.1170 - accuracy: 0.5094 - val_loss: 43.5218 - val_accuracy: 0.6000\n",
      "Epoch 53/100\n",
      "10/10 [==============================] - 0s 5ms/step - loss: 56.0274 - accuracy: 0.5094 - val_loss: 100.8474 - val_accuracy: 0.4000\n",
      "Epoch 54/100\n",
      "10/10 [==============================] - 0s 5ms/step - loss: 87.9255 - accuracy: 0.5219 - val_loss: 87.0022 - val_accuracy: 0.4000\n",
      "Epoch 55/100\n",
      "10/10 [==============================] - 0s 5ms/step - loss: 57.0332 - accuracy: 0.5094 - val_loss: 160.6812 - val_accuracy: 0.6000\n",
      "Epoch 56/100\n",
      "10/10 [==============================] - 0s 5ms/step - loss: 95.0303 - accuracy: 0.5781 - val_loss: 200.1493 - val_accuracy: 0.6000\n",
      "Epoch 57/100\n",
      "10/10 [==============================] - 0s 5ms/step - loss: 47.1340 - accuracy: 0.5656 - val_loss: 53.6577 - val_accuracy: 0.4000\n"
     ]
    },
    {
     "name": "stdout",
     "output_type": "stream",
     "text": [
      "Epoch 58/100\n",
      "10/10 [==============================] - 0s 5ms/step - loss: 52.9377 - accuracy: 0.5063 - val_loss: 55.7248 - val_accuracy: 0.6000\n",
      "Epoch 59/100\n",
      "10/10 [==============================] - 0s 5ms/step - loss: 92.6806 - accuracy: 0.5031 - val_loss: 19.1831 - val_accuracy: 0.4000\n",
      "Epoch 60/100\n",
      "10/10 [==============================] - 0s 5ms/step - loss: 37.6625 - accuracy: 0.4719 - val_loss: 47.4540 - val_accuracy: 0.4000\n",
      "Epoch 61/100\n",
      "10/10 [==============================] - 0s 5ms/step - loss: 49.0578 - accuracy: 0.5094 - val_loss: 58.0883 - val_accuracy: 0.6000\n",
      "Epoch 62/100\n",
      "10/10 [==============================] - 0s 5ms/step - loss: 56.4749 - accuracy: 0.5344 - val_loss: 21.2430 - val_accuracy: 0.4000\n",
      "Epoch 63/100\n",
      "10/10 [==============================] - 0s 6ms/step - loss: 15.6096 - accuracy: 0.5750 - val_loss: 46.5233 - val_accuracy: 0.6000\n",
      "Epoch 64/100\n",
      "10/10 [==============================] - 0s 6ms/step - loss: 48.9533 - accuracy: 0.4469 - val_loss: 32.9094 - val_accuracy: 0.6000\n",
      "Epoch 65/100\n",
      "10/10 [==============================] - 0s 5ms/step - loss: 44.1255 - accuracy: 0.5906 - val_loss: 33.3158 - val_accuracy: 0.4000\n",
      "Epoch 66/100\n",
      "10/10 [==============================] - 0s 6ms/step - loss: 34.9002 - accuracy: 0.4906 - val_loss: 60.2785 - val_accuracy: 0.4000\n",
      "Epoch 67/100\n",
      "10/10 [==============================] - 0s 6ms/step - loss: 87.2309 - accuracy: 0.4906 - val_loss: 67.8088 - val_accuracy: 0.4000\n",
      "Epoch 68/100\n",
      "10/10 [==============================] - 0s 6ms/step - loss: 42.3614 - accuracy: 0.4625 - val_loss: 37.1727 - val_accuracy: 0.6000\n",
      "Epoch 69/100\n",
      "10/10 [==============================] - 0s 6ms/step - loss: 40.6566 - accuracy: 0.5406 - val_loss: 4.9799 - val_accuracy: 0.3750\n",
      "Epoch 70/100\n",
      "10/10 [==============================] - 0s 6ms/step - loss: 74.9698 - accuracy: 0.5250 - val_loss: 113.5272 - val_accuracy: 0.6000\n",
      "Epoch 71/100\n",
      "10/10 [==============================] - 0s 5ms/step - loss: 130.6541 - accuracy: 0.5406 - val_loss: 43.5844 - val_accuracy: 0.6000\n",
      "Epoch 72/100\n",
      "10/10 [==============================] - 0s 6ms/step - loss: 81.2232 - accuracy: 0.5406 - val_loss: 161.4100 - val_accuracy: 0.6000\n",
      "Epoch 73/100\n",
      "10/10 [==============================] - 0s 5ms/step - loss: 98.2294 - accuracy: 0.4906 - val_loss: 16.0335 - val_accuracy: 0.6000\n",
      "Epoch 74/100\n",
      "10/10 [==============================] - 0s 5ms/step - loss: 88.1258 - accuracy: 0.5469 - val_loss: 23.1876 - val_accuracy: 0.6000\n",
      "Epoch 75/100\n",
      "10/10 [==============================] - 0s 6ms/step - loss: 139.9064 - accuracy: 0.4906 - val_loss: 192.2177 - val_accuracy: 0.6000\n",
      "Epoch 76/100\n",
      "10/10 [==============================] - 0s 5ms/step - loss: 67.7611 - accuracy: 0.5844 - val_loss: 15.2765 - val_accuracy: 0.6000\n",
      "Epoch 77/100\n",
      "10/10 [==============================] - 0s 6ms/step - loss: 53.2942 - accuracy: 0.4406 - val_loss: 91.1339 - val_accuracy: 0.6000\n",
      "Epoch 78/100\n",
      "10/10 [==============================] - 0s 6ms/step - loss: 68.1329 - accuracy: 0.5531 - val_loss: 68.8938 - val_accuracy: 0.6000\n",
      "Epoch 79/100\n",
      "10/10 [==============================] - 0s 6ms/step - loss: 51.9926 - accuracy: 0.5719 - val_loss: 111.5230 - val_accuracy: 0.4000\n",
      "Epoch 80/100\n",
      "10/10 [==============================] - 0s 5ms/step - loss: 93.4329 - accuracy: 0.4469 - val_loss: 40.3063 - val_accuracy: 0.4000\n",
      "Epoch 81/100\n",
      "10/10 [==============================] - 0s 5ms/step - loss: 52.1898 - accuracy: 0.4656 - val_loss: 62.1075 - val_accuracy: 0.4000\n",
      "Epoch 82/100\n",
      "10/10 [==============================] - 0s 5ms/step - loss: 74.1558 - accuracy: 0.5406 - val_loss: 11.0329 - val_accuracy: 0.6000\n",
      "Epoch 83/100\n",
      "10/10 [==============================] - 0s 5ms/step - loss: 22.3384 - accuracy: 0.5469 - val_loss: 65.0172 - val_accuracy: 0.6000\n",
      "Epoch 84/100\n",
      "10/10 [==============================] - 0s 6ms/step - loss: 25.8221 - accuracy: 0.5719 - val_loss: 27.3175 - val_accuracy: 0.6000\n",
      "Epoch 85/100\n",
      "10/10 [==============================] - 0s 5ms/step - loss: 33.2683 - accuracy: 0.5719 - val_loss: 47.2233 - val_accuracy: 0.6000\n",
      "Epoch 86/100\n",
      "10/10 [==============================] - 0s 5ms/step - loss: 60.1762 - accuracy: 0.5562 - val_loss: 28.9783 - val_accuracy: 0.4000\n",
      "Epoch 87/100\n",
      "10/10 [==============================] - 0s 6ms/step - loss: 39.4268 - accuracy: 0.4281 - val_loss: 110.6032 - val_accuracy: 0.6000\n",
      "Epoch 88/100\n",
      "10/10 [==============================] - 0s 6ms/step - loss: 58.6188 - accuracy: 0.5844 - val_loss: 28.0083 - val_accuracy: 0.4000\n",
      "Epoch 89/100\n",
      "10/10 [==============================] - 0s 5ms/step - loss: 54.3907 - accuracy: 0.5312 - val_loss: 29.5121 - val_accuracy: 0.6000\n",
      "Epoch 90/100\n",
      "10/10 [==============================] - 0s 6ms/step - loss: 32.7127 - accuracy: 0.5906 - val_loss: 2.7789 - val_accuracy: 0.6000\n",
      "Epoch 91/100\n",
      "10/10 [==============================] - 0s 5ms/step - loss: 81.2567 - accuracy: 0.4750 - val_loss: 109.1567 - val_accuracy: 0.4000\n",
      "Epoch 92/100\n",
      "10/10 [==============================] - 0s 6ms/step - loss: 135.0370 - accuracy: 0.5063 - val_loss: 193.9986 - val_accuracy: 0.4000\n",
      "Epoch 93/100\n",
      "10/10 [==============================] - 0s 6ms/step - loss: 129.2847 - accuracy: 0.5781 - val_loss: 222.7074 - val_accuracy: 0.4000\n",
      "Epoch 94/100\n",
      "10/10 [==============================] - 0s 6ms/step - loss: 189.1993 - accuracy: 0.4781 - val_loss: 38.5400 - val_accuracy: 0.4000\n",
      "Epoch 95/100\n",
      "10/10 [==============================] - 0s 6ms/step - loss: 64.6131 - accuracy: 0.5156 - val_loss: 133.5258 - val_accuracy: 0.4000\n",
      "Epoch 96/100\n",
      "10/10 [==============================] - 0s 6ms/step - loss: 126.6392 - accuracy: 0.5156 - val_loss: 137.0363 - val_accuracy: 0.4000\n",
      "Epoch 97/100\n",
      "10/10 [==============================] - 0s 6ms/step - loss: 102.2047 - accuracy: 0.4656 - val_loss: 112.0589 - val_accuracy: 0.4000\n",
      "Epoch 98/100\n",
      "10/10 [==============================] - 0s 5ms/step - loss: 92.6102 - accuracy: 0.5094 - val_loss: 24.2746 - val_accuracy: 0.6000\n",
      "Epoch 99/100\n",
      "10/10 [==============================] - 0s 6ms/step - loss: 17.1162 - accuracy: 0.5656 - val_loss: 12.0929 - val_accuracy: 0.4000\n",
      "Epoch 100/100\n",
      "10/10 [==============================] - 0s 6ms/step - loss: 23.4467 - accuracy: 0.5219 - val_loss: 116.0666 - val_accuracy: 0.6000\n"
     ]
    }
   ],
   "source": [
    "history = model.fit(x_train,y_train,validation_data=(x_test,y_test),epochs=100)"
   ]
  },
  {
   "cell_type": "code",
   "execution_count": 23,
   "id": "dcdbca47",
   "metadata": {},
   "outputs": [
    {
     "data": {
      "text/plain": [
       "[<matplotlib.lines.Line2D at 0x1cc10b0b8b0>]"
      ]
     },
     "execution_count": 23,
     "metadata": {},
     "output_type": "execute_result"
    },
    {
     "data": {
      "image/png": "[encoded data removed]",
      "text/plain": [
       "<Figure size 432x288 with 1 Axes>"
      ]
     },
     "metadata": {
      "needs_background": "light"
     },
     "output_type": "display_data"
    }
   ],
   "source": [
    "plt.plot(history.history['val_accuracy'])"
   ]
  },
  {
   "cell_type": "markdown",
   "id": "1168badf",
   "metadata": {},
   "source": [
    "val accuracy is very unstable and jumpig between 40 and 60 ---> this is due to unscaled data "
   ]
  },
  {
   "cell_type": "raw",
   "id": "08d2e228",
   "metadata": {},
   "source": [
    "two methods:\n",
    "    1) standardization - (xi-mean)/std\n",
    "    2) normalization - (xi-xmin)/(xmax-xmin)"
   ]
  },
  {
   "cell_type": "markdown",
   "id": "390bdc47",
   "metadata": {},
   "source": [
    "# Applying Scaling"
   ]
  },
  {
   "cell_type": "code",
   "execution_count": 25,
   "id": "070c4519",
   "metadata": {},
   "outputs": [],
   "source": [
    "from sklearn.preprocessing import StandardScaler\n",
    "scaler = StandardScaler()\n",
    "\n",
    "x_train_scaled = scaler.fit_transform(x_train)\n",
    "x_test_scaled = scaler.transform(x_test)"
   ]
  },
  {
   "cell_type": "code",
   "execution_count": 26,
   "id": "cd8da2c7",
   "metadata": {},
   "outputs": [],
   "source": [
    "model = Sequential()\n",
    "\n",
    "model.add(Dense(128,activation='relu',input_dim=2))\n",
    "model.add(Dense(1,activation='sigmoid'))"
   ]
  },
  {
   "cell_type": "code",
   "execution_count": 27,
   "id": "0f0b1828",
   "metadata": {},
   "outputs": [
    {
     "name": "stdout",
     "output_type": "stream",
     "text": [
      "Model: \"sequential_1\"\n",
      "_________________________________________________________________\n",
      " Layer (type)                Output Shape              Param #   \n",
      "=================================================================\n",
      " dense_2 (Dense)             (None, 128)               384       \n",
      "                                                                 \n",
      " dense_3 (Dense)             (None, 1)                 129       \n",
      "                                                                 \n",
      "=================================================================\n",
      "Total params: 513 (2.00 KB)\n",
      "Trainable params: 513 (2.00 KB)\n",
      "Non-trainable params: 0 (0.00 Byte)\n",
      "_________________________________________________________________\n"
     ]
    }
   ],
   "source": [
    "model.summary()"
   ]
  },
  {
   "cell_type": "code",
   "execution_count": 28,
   "id": "78fc3945",
   "metadata": {},
   "outputs": [],
   "source": [
    "model.compile(loss='binary_crossentropy',optimizer='adam',metrics=['accuracy'])"
   ]
  },
  {
   "cell_type": "code",
   "execution_count": 29,
   "id": "f115cff6",
   "metadata": {},
   "outputs": [
    {
     "name": "stdout",
     "output_type": "stream",
     "text": [
      "Epoch 1/100\n",
      "10/10 [==============================] - 1s 19ms/step - loss: 0.6860 - accuracy: 0.6438 - val_loss: 0.6593 - val_accuracy: 0.6500\n",
      "Epoch 2/100\n",
      "10/10 [==============================] - 0s 6ms/step - loss: 0.6310 - accuracy: 0.7000 - val_loss: 0.6017 - val_accuracy: 0.7250\n",
      "Epoch 3/100\n",
      "10/10 [==============================] - 0s 5ms/step - loss: 0.5825 - accuracy: 0.7781 - val_loss: 0.5547 - val_accuracy: 0.7625\n",
      "Epoch 4/100\n",
      "10/10 [==============================] - 0s 5ms/step - loss: 0.5425 - accuracy: 0.7969 - val_loss: 0.5143 - val_accuracy: 0.7750\n",
      "Epoch 5/100\n",
      "10/10 [==============================] - 0s 6ms/step - loss: 0.5070 - accuracy: 0.8031 - val_loss: 0.4794 - val_accuracy: 0.7875\n",
      "Epoch 6/100\n",
      "10/10 [==============================] - 0s 5ms/step - loss: 0.4768 - accuracy: 0.8094 - val_loss: 0.4495 - val_accuracy: 0.7875\n",
      "Epoch 7/100\n",
      "10/10 [==============================] - 0s 6ms/step - loss: 0.4494 - accuracy: 0.8156 - val_loss: 0.4244 - val_accuracy: 0.7875\n",
      "Epoch 8/100\n",
      "10/10 [==============================] - 0s 5ms/step - loss: 0.4248 - accuracy: 0.8219 - val_loss: 0.4038 - val_accuracy: 0.8000\n",
      "Epoch 9/100\n",
      "10/10 [==============================] - 0s 5ms/step - loss: 0.4034 - accuracy: 0.8344 - val_loss: 0.3873 - val_accuracy: 0.8125\n",
      "Epoch 10/100\n",
      "10/10 [==============================] - 0s 6ms/step - loss: 0.3848 - accuracy: 0.8500 - val_loss: 0.3715 - val_accuracy: 0.8125\n",
      "Epoch 11/100\n",
      "10/10 [==============================] - 0s 5ms/step - loss: 0.3681 - accuracy: 0.8531 - val_loss: 0.3598 - val_accuracy: 0.8125\n",
      "Epoch 12/100\n",
      "10/10 [==============================] - 0s 5ms/step - loss: 0.3539 - accuracy: 0.8625 - val_loss: 0.3483 - val_accuracy: 0.8125\n",
      "Epoch 13/100\n",
      "10/10 [==============================] - 0s 5ms/step - loss: 0.3413 - accuracy: 0.8719 - val_loss: 0.3400 - val_accuracy: 0.8125\n",
      "Epoch 14/100\n",
      "10/10 [==============================] - 0s 6ms/step - loss: 0.3309 - accuracy: 0.8781 - val_loss: 0.3331 - val_accuracy: 0.8125\n",
      "Epoch 15/100\n",
      "10/10 [==============================] - 0s 6ms/step - loss: 0.3218 - accuracy: 0.8813 - val_loss: 0.3277 - val_accuracy: 0.8125\n",
      "Epoch 16/100\n",
      "10/10 [==============================] - 0s 6ms/step - loss: 0.3141 - accuracy: 0.8844 - val_loss: 0.3217 - val_accuracy: 0.8250\n",
      "Epoch 17/100\n",
      "10/10 [==============================] - 0s 5ms/step - loss: 0.3072 - accuracy: 0.8875 - val_loss: 0.3170 - val_accuracy: 0.8250\n",
      "Epoch 18/100\n",
      "10/10 [==============================] - 0s 5ms/step - loss: 0.3010 - accuracy: 0.8875 - val_loss: 0.3147 - val_accuracy: 0.8250\n",
      "Epoch 19/100\n",
      "10/10 [==============================] - 0s 5ms/step - loss: 0.2957 - accuracy: 0.8875 - val_loss: 0.3116 - val_accuracy: 0.8250\n",
      "Epoch 20/100\n",
      "10/10 [==============================] - 0s 5ms/step - loss: 0.2912 - accuracy: 0.8938 - val_loss: 0.3096 - val_accuracy: 0.8250\n",
      "Epoch 21/100\n",
      "10/10 [==============================] - 0s 5ms/step - loss: 0.2868 - accuracy: 0.8969 - val_loss: 0.3068 - val_accuracy: 0.8250\n",
      "Epoch 22/100\n",
      "10/10 [==============================] - 0s 5ms/step - loss: 0.2830 - accuracy: 0.8969 - val_loss: 0.3045 - val_accuracy: 0.8375\n",
      "Epoch 23/100\n",
      "10/10 [==============================] - 0s 5ms/step - loss: 0.2795 - accuracy: 0.9000 - val_loss: 0.3029 - val_accuracy: 0.8375\n",
      "Epoch 24/100\n",
      "10/10 [==============================] - 0s 5ms/step - loss: 0.2764 - accuracy: 0.9000 - val_loss: 0.3003 - val_accuracy: 0.8375\n",
      "Epoch 25/100\n",
      "10/10 [==============================] - 0s 6ms/step - loss: 0.2736 - accuracy: 0.9000 - val_loss: 0.2968 - val_accuracy: 0.8625\n",
      "Epoch 26/100\n",
      "10/10 [==============================] - 0s 6ms/step - loss: 0.2715 - accuracy: 0.8938 - val_loss: 0.2934 - val_accuracy: 0.8625\n",
      "Epoch 27/100\n",
      "10/10 [==============================] - 0s 5ms/step - loss: 0.2687 - accuracy: 0.8969 - val_loss: 0.2924 - val_accuracy: 0.8625\n",
      "Epoch 28/100\n",
      "10/10 [==============================] - 0s 6ms/step - loss: 0.2665 - accuracy: 0.8969 - val_loss: 0.2927 - val_accuracy: 0.8625\n",
      "Epoch 29/100\n",
      "10/10 [==============================] - 0s 6ms/step - loss: 0.2644 - accuracy: 0.8969 - val_loss: 0.2906 - val_accuracy: 0.8625\n",
      "Epoch 30/100\n",
      "10/10 [==============================] - 0s 6ms/step - loss: 0.2626 - accuracy: 0.8969 - val_loss: 0.2896 - val_accuracy: 0.8625\n",
      "Epoch 31/100\n",
      "10/10 [==============================] - 0s 5ms/step - loss: 0.2609 - accuracy: 0.8969 - val_loss: 0.2875 - val_accuracy: 0.8625\n",
      "Epoch 32/100\n",
      "10/10 [==============================] - 0s 5ms/step - loss: 0.2592 - accuracy: 0.9000 - val_loss: 0.2872 - val_accuracy: 0.8625\n",
      "Epoch 33/100\n",
      "10/10 [==============================] - 0s 5ms/step - loss: 0.2578 - accuracy: 0.9000 - val_loss: 0.2856 - val_accuracy: 0.8625\n",
      "Epoch 34/100\n",
      "10/10 [==============================] - 0s 5ms/step - loss: 0.2563 - accuracy: 0.9031 - val_loss: 0.2848 - val_accuracy: 0.8625\n",
      "Epoch 35/100\n",
      "10/10 [==============================] - 0s 5ms/step - loss: 0.2549 - accuracy: 0.9000 - val_loss: 0.2834 - val_accuracy: 0.8750\n",
      "Epoch 36/100\n",
      "10/10 [==============================] - 0s 5ms/step - loss: 0.2543 - accuracy: 0.9000 - val_loss: 0.2813 - val_accuracy: 0.8750\n",
      "Epoch 37/100\n",
      "10/10 [==============================] - 0s 5ms/step - loss: 0.2528 - accuracy: 0.9000 - val_loss: 0.2823 - val_accuracy: 0.8750\n",
      "Epoch 38/100\n",
      "10/10 [==============================] - 0s 5ms/step - loss: 0.2519 - accuracy: 0.9000 - val_loss: 0.2797 - val_accuracy: 0.8750\n",
      "Epoch 39/100\n",
      "10/10 [==============================] - 0s 5ms/step - loss: 0.2507 - accuracy: 0.9000 - val_loss: 0.2795 - val_accuracy: 0.8750\n",
      "Epoch 40/100\n",
      "10/10 [==============================] - 0s 5ms/step - loss: 0.2498 - accuracy: 0.9000 - val_loss: 0.2782 - val_accuracy: 0.8750\n",
      "Epoch 41/100\n",
      "10/10 [==============================] - 0s 5ms/step - loss: 0.2489 - accuracy: 0.9000 - val_loss: 0.2775 - val_accuracy: 0.8750\n",
      "Epoch 42/100\n",
      "10/10 [==============================] - 0s 5ms/step - loss: 0.2484 - accuracy: 0.9000 - val_loss: 0.2751 - val_accuracy: 0.8750\n",
      "Epoch 43/100\n",
      "10/10 [==============================] - 0s 5ms/step - loss: 0.2471 - accuracy: 0.9000 - val_loss: 0.2752 - val_accuracy: 0.8750\n",
      "Epoch 44/100\n",
      "10/10 [==============================] - 0s 5ms/step - loss: 0.2465 - accuracy: 0.9000 - val_loss: 0.2763 - val_accuracy: 0.8750\n",
      "Epoch 45/100\n",
      "10/10 [==============================] - 0s 5ms/step - loss: 0.2457 - accuracy: 0.9000 - val_loss: 0.2771 - val_accuracy: 0.8750\n",
      "Epoch 46/100\n",
      "10/10 [==============================] - 0s 5ms/step - loss: 0.2451 - accuracy: 0.9000 - val_loss: 0.2755 - val_accuracy: 0.8750\n",
      "Epoch 47/100\n",
      "10/10 [==============================] - 0s 5ms/step - loss: 0.2442 - accuracy: 0.9000 - val_loss: 0.2755 - val_accuracy: 0.8750\n",
      "Epoch 48/100\n",
      "10/10 [==============================] - 0s 5ms/step - loss: 0.2439 - accuracy: 0.9000 - val_loss: 0.2739 - val_accuracy: 0.8875\n",
      "Epoch 49/100\n",
      "10/10 [==============================] - 0s 5ms/step - loss: 0.2434 - accuracy: 0.9000 - val_loss: 0.2726 - val_accuracy: 0.8875\n",
      "Epoch 50/100\n",
      "10/10 [==============================] - 0s 6ms/step - loss: 0.2425 - accuracy: 0.9000 - val_loss: 0.2733 - val_accuracy: 0.8875\n",
      "Epoch 51/100\n",
      "10/10 [==============================] - 0s 5ms/step - loss: 0.2425 - accuracy: 0.9031 - val_loss: 0.2721 - val_accuracy: 0.8750\n",
      "Epoch 52/100\n",
      "10/10 [==============================] - 0s 5ms/step - loss: 0.2420 - accuracy: 0.9000 - val_loss: 0.2756 - val_accuracy: 0.8750\n",
      "Epoch 53/100\n",
      "10/10 [==============================] - 0s 6ms/step - loss: 0.2417 - accuracy: 0.9000 - val_loss: 0.2720 - val_accuracy: 0.8875\n",
      "Epoch 54/100\n",
      "10/10 [==============================] - 0s 7ms/step - loss: 0.2404 - accuracy: 0.9000 - val_loss: 0.2713 - val_accuracy: 0.8875\n",
      "Epoch 55/100\n",
      "10/10 [==============================] - 0s 5ms/step - loss: 0.2400 - accuracy: 0.9031 - val_loss: 0.2718 - val_accuracy: 0.8750\n",
      "Epoch 56/100\n",
      "10/10 [==============================] - 0s 5ms/step - loss: 0.2394 - accuracy: 0.9031 - val_loss: 0.2718 - val_accuracy: 0.8750\n",
      "Epoch 57/100\n",
      "10/10 [==============================] - 0s 5ms/step - loss: 0.2392 - accuracy: 0.9031 - val_loss: 0.2702 - val_accuracy: 0.8875\n",
      "Epoch 58/100\n",
      "10/10 [==============================] - 0s 5ms/step - loss: 0.2386 - accuracy: 0.9031 - val_loss: 0.2693 - val_accuracy: 0.8875\n"
     ]
    },
    {
     "name": "stdout",
     "output_type": "stream",
     "text": [
      "Epoch 59/100\n",
      "10/10 [==============================] - 0s 5ms/step - loss: 0.2386 - accuracy: 0.9031 - val_loss: 0.2678 - val_accuracy: 0.8875\n",
      "Epoch 60/100\n",
      "10/10 [==============================] - 0s 5ms/step - loss: 0.2378 - accuracy: 0.9031 - val_loss: 0.2706 - val_accuracy: 0.8750\n",
      "Epoch 61/100\n",
      "10/10 [==============================] - 0s 5ms/step - loss: 0.2380 - accuracy: 0.9000 - val_loss: 0.2711 - val_accuracy: 0.8875\n",
      "Epoch 62/100\n",
      "10/10 [==============================] - 0s 5ms/step - loss: 0.2374 - accuracy: 0.9000 - val_loss: 0.2709 - val_accuracy: 0.8750\n",
      "Epoch 63/100\n",
      "10/10 [==============================] - 0s 5ms/step - loss: 0.2374 - accuracy: 0.9000 - val_loss: 0.2719 - val_accuracy: 0.8750\n",
      "Epoch 64/100\n",
      "10/10 [==============================] - 0s 5ms/step - loss: 0.2372 - accuracy: 0.9000 - val_loss: 0.2688 - val_accuracy: 0.8750\n",
      "Epoch 65/100\n",
      "10/10 [==============================] - 0s 5ms/step - loss: 0.2364 - accuracy: 0.9031 - val_loss: 0.2679 - val_accuracy: 0.9000\n",
      "Epoch 66/100\n",
      "10/10 [==============================] - 0s 5ms/step - loss: 0.2365 - accuracy: 0.9031 - val_loss: 0.2683 - val_accuracy: 0.8875\n",
      "Epoch 67/100\n",
      "10/10 [==============================] - 0s 5ms/step - loss: 0.2367 - accuracy: 0.8969 - val_loss: 0.2706 - val_accuracy: 0.9125\n",
      "Epoch 68/100\n",
      "10/10 [==============================] - 0s 5ms/step - loss: 0.2355 - accuracy: 0.9031 - val_loss: 0.2683 - val_accuracy: 0.8875\n",
      "Epoch 69/100\n",
      "10/10 [==============================] - 0s 5ms/step - loss: 0.2351 - accuracy: 0.9031 - val_loss: 0.2683 - val_accuracy: 0.8750\n",
      "Epoch 70/100\n",
      "10/10 [==============================] - 0s 5ms/step - loss: 0.2353 - accuracy: 0.9031 - val_loss: 0.2680 - val_accuracy: 0.9250\n",
      "Epoch 71/100\n",
      "10/10 [==============================] - 0s 5ms/step - loss: 0.2348 - accuracy: 0.9031 - val_loss: 0.2683 - val_accuracy: 0.8750\n",
      "Epoch 72/100\n",
      "10/10 [==============================] - 0s 5ms/step - loss: 0.2349 - accuracy: 0.9031 - val_loss: 0.2689 - val_accuracy: 0.9250\n",
      "Epoch 73/100\n",
      "10/10 [==============================] - 0s 5ms/step - loss: 0.2345 - accuracy: 0.9062 - val_loss: 0.2671 - val_accuracy: 0.8875\n",
      "Epoch 74/100\n",
      "10/10 [==============================] - 0s 5ms/step - loss: 0.2345 - accuracy: 0.9031 - val_loss: 0.2690 - val_accuracy: 0.8750\n",
      "Epoch 75/100\n",
      "10/10 [==============================] - 0s 5ms/step - loss: 0.2339 - accuracy: 0.9062 - val_loss: 0.2660 - val_accuracy: 0.9250\n",
      "Epoch 76/100\n",
      "10/10 [==============================] - 0s 5ms/step - loss: 0.2339 - accuracy: 0.9062 - val_loss: 0.2691 - val_accuracy: 0.9125\n",
      "Epoch 77/100\n",
      "10/10 [==============================] - 0s 5ms/step - loss: 0.2330 - accuracy: 0.9062 - val_loss: 0.2679 - val_accuracy: 0.9000\n",
      "Epoch 78/100\n",
      "10/10 [==============================] - 0s 5ms/step - loss: 0.2333 - accuracy: 0.9094 - val_loss: 0.2696 - val_accuracy: 0.8750\n",
      "Epoch 79/100\n",
      "10/10 [==============================] - 0s 5ms/step - loss: 0.2325 - accuracy: 0.9094 - val_loss: 0.2668 - val_accuracy: 0.9125\n",
      "Epoch 80/100\n",
      "10/10 [==============================] - 0s 5ms/step - loss: 0.2329 - accuracy: 0.9031 - val_loss: 0.2644 - val_accuracy: 0.9125\n",
      "Epoch 81/100\n",
      "10/10 [==============================] - 0s 5ms/step - loss: 0.2324 - accuracy: 0.9031 - val_loss: 0.2656 - val_accuracy: 0.9125\n",
      "Epoch 82/100\n",
      "10/10 [==============================] - 0s 5ms/step - loss: 0.2319 - accuracy: 0.9031 - val_loss: 0.2676 - val_accuracy: 0.9125\n",
      "Epoch 83/100\n",
      "10/10 [==============================] - 0s 5ms/step - loss: 0.2317 - accuracy: 0.9062 - val_loss: 0.2670 - val_accuracy: 0.9125\n",
      "Epoch 84/100\n",
      "10/10 [==============================] - 0s 5ms/step - loss: 0.2318 - accuracy: 0.9031 - val_loss: 0.2670 - val_accuracy: 0.9125\n",
      "Epoch 85/100\n",
      "10/10 [==============================] - 0s 5ms/step - loss: 0.2320 - accuracy: 0.9062 - val_loss: 0.2670 - val_accuracy: 0.9125\n",
      "Epoch 86/100\n",
      "10/10 [==============================] - 0s 6ms/step - loss: 0.2314 - accuracy: 0.9062 - val_loss: 0.2648 - val_accuracy: 0.9125\n",
      "Epoch 87/100\n",
      "10/10 [==============================] - 0s 5ms/step - loss: 0.2309 - accuracy: 0.9031 - val_loss: 0.2648 - val_accuracy: 0.9250\n",
      "Epoch 88/100\n",
      "10/10 [==============================] - 0s 5ms/step - loss: 0.2308 - accuracy: 0.9062 - val_loss: 0.2660 - val_accuracy: 0.9125\n",
      "Epoch 89/100\n",
      "10/10 [==============================] - 0s 6ms/step - loss: 0.2308 - accuracy: 0.9062 - val_loss: 0.2667 - val_accuracy: 0.9125\n",
      "Epoch 90/100\n",
      "10/10 [==============================] - 0s 5ms/step - loss: 0.2302 - accuracy: 0.9062 - val_loss: 0.2667 - val_accuracy: 0.9125\n",
      "Epoch 91/100\n",
      "10/10 [==============================] - 0s 5ms/step - loss: 0.2307 - accuracy: 0.9094 - val_loss: 0.2679 - val_accuracy: 0.9125\n",
      "Epoch 92/100\n",
      "10/10 [==============================] - 0s 5ms/step - loss: 0.2300 - accuracy: 0.9094 - val_loss: 0.2664 - val_accuracy: 0.9125\n",
      "Epoch 93/100\n",
      "10/10 [==============================] - 0s 5ms/step - loss: 0.2299 - accuracy: 0.9062 - val_loss: 0.2642 - val_accuracy: 0.9250\n",
      "Epoch 94/100\n",
      "10/10 [==============================] - 0s 5ms/step - loss: 0.2297 - accuracy: 0.9031 - val_loss: 0.2651 - val_accuracy: 0.9125\n",
      "Epoch 95/100\n",
      "10/10 [==============================] - 0s 5ms/step - loss: 0.2295 - accuracy: 0.9062 - val_loss: 0.2646 - val_accuracy: 0.9125\n",
      "Epoch 96/100\n",
      "10/10 [==============================] - 0s 5ms/step - loss: 0.2294 - accuracy: 0.9062 - val_loss: 0.2667 - val_accuracy: 0.9125\n",
      "Epoch 97/100\n",
      "10/10 [==============================] - 0s 5ms/step - loss: 0.2296 - accuracy: 0.9062 - val_loss: 0.2682 - val_accuracy: 0.9125\n",
      "Epoch 98/100\n",
      "10/10 [==============================] - 0s 5ms/step - loss: 0.2295 - accuracy: 0.9094 - val_loss: 0.2667 - val_accuracy: 0.9250\n",
      "Epoch 99/100\n",
      "10/10 [==============================] - 0s 5ms/step - loss: 0.2302 - accuracy: 0.9062 - val_loss: 0.2624 - val_accuracy: 0.9250\n",
      "Epoch 100/100\n",
      "10/10 [==============================] - 0s 5ms/step - loss: 0.2287 - accuracy: 0.9062 - val_loss: 0.2636 - val_accuracy: 0.9125\n"
     ]
    }
   ],
   "source": [
    "history = model.fit(x_train_scaled,y_train,validation_data=(x_test_scaled,y_test),epochs=100)"
   ]
  },
  {
   "cell_type": "code",
   "execution_count": 30,
   "id": "0c60ddf0",
   "metadata": {},
   "outputs": [
    {
     "data": {
      "text/plain": [
       "[<matplotlib.lines.Line2D at 0x1cc11c71160>]"
      ]
     },
     "execution_count": 30,
     "metadata": {},
     "output_type": "execute_result"
    },
    {
     "data": {
      "image/png": "[encoded data removed]",
      "text/plain": [
       "<Figure size 432x288 with 1 Axes>"
      ]
     },
     "metadata": {
      "needs_background": "light"
     },
     "output_type": "display_data"
    }
   ],
   "source": [
    "plt.plot(history.history['val_accuracy'])"
   ]
  },
  {
   "cell_type": "markdown",
   "id": "31c3cc89",
   "metadata": {},
   "source": [
    "After scaling the data the val_accuracy does not ossilate and increases."
   ]
  },
  {
   "cell_type": "code",
   "execution_count": null,
   "id": "b13b519e",
   "metadata": {},
   "outputs": [],
   "source": []
  }
 ],
 "metadata": {
  "kernelspec": {
   "display_name": "Python 3 (ipykernel)",
   "language": "python",
   "name": "python3"
  },
  "language_info": {
   "codemirror_mode": {
    "name": "ipython",
    "version": 3
   },
   "file_extension": ".py",
   "mimetype": "text/x-python",
   "name": "python",
   "nbconvert_exporter": "python",
   "pygments_lexer": "ipython3",
   "version": "3.9.7"
  }
 },
 "nbformat": 4,
 "nbformat_minor": 5
}
