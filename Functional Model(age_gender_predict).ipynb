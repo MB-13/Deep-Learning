{
 "cells": [
  {
   "cell_type": "code",
   "execution_count": null,
   "metadata": {
    "colab": {
     "base_uri": "https://localhost:8080/",
     "height": 699
    },
    "id": "GmmjVIOxITAW",
    "outputId": "910e5080-7051-4e99-b49d-4b029b5b9aff"
   },
   "outputs": [
    {
     "name": "stdout",
     "output_type": "stream",
     "text": [
      "Model: \"model\"\n",
      "__________________________________________________________________________________________________\n",
      " Layer (type)                Output Shape                 Param #   Connected to                  \n",
      "==================================================================================================\n",
      " input_1 (InputLayer)        [(None, 3)]                  0         []                            \n",
      "                                                                                                  \n",
      " dense (Dense)               (None, 128)                  512       ['input_1[0][0]']             \n",
      "                                                                                                  \n",
      " dense_1 (Dense)             (None, 64)                   8256      ['dense[0][0]']               \n",
      "                                                                                                  \n",
      " dense_2 (Dense)             (None, 1)                    65        ['dense_1[0][0]']             \n",
      "                                                                                                  \n",
      " dense_3 (Dense)             (None, 1)                    65        ['dense_1[0][0]']             \n",
      "                                                                                                  \n",
      "==================================================================================================\n",
      "Total params: 8898 (34.76 KB)\n",
      "Trainable params: 8898 (34.76 KB)\n",
      "Non-trainable params: 0 (0.00 Byte)\n",
      "__________________________________________________________________________________________________\n"
     ]
    },
    {
     "data": {
      "image/png": "[encoded data removed]",
      "text/plain": [
       "<IPython.core.display.Image object>"
      ]
     },
     "execution_count": 2,
     "metadata": {},
     "output_type": "execute_result"
    }
   ],
   "source": [
    "import numpy as np\n",
    "import pandas as pd\n",
    "import matplotlib.pyplot as plt\n",
    "\n",
    "# Functional API Demo\n",
    "\n",
    "from keras.models import Model\n",
    "\n",
    "from keras.layers import *\n",
    "\n",
    "x = Input(shape=(3,))\n",
    "\n",
    "hidden1 = Dense(128,activation='relu')(x)\n",
    "hidden2 = Dense(64,activation='relu')(hidden1)\n",
    "\n",
    "output1 = Dense(1,activation='linear')(hidden2)\n",
    "output2 = Dense(1,activation='sigmoid')(hidden2)\n",
    "\n",
    "model = Model(inputs =x, outputs = [output1,output2] )\n",
    "\n",
    "model.summary()\n",
    "\n",
    "from keras.utils import plot_model\n",
    "\n",
    "plot_model(model)\n",
    "\n"
   ]
  },
  {
   "cell_type": "code",
   "execution_count": null,
   "metadata": {
    "colab": {
     "base_uri": "https://localhost:8080/",
     "height": 1000
    },
    "id": "if8nbSw0Iyp-",
    "outputId": "177af19a-695a-4742-ed18-4d59553a6fa7"
   },
   "outputs": [
    {
     "name": "stdout",
     "output_type": "stream",
     "text": [
      "Model: \"model_1\"\n",
      "__________________________________________________________________________________________________\n",
      " Layer (type)                Output Shape                 Param #   Connected to                  \n",
      "==================================================================================================\n",
      " input_3 (InputLayer)        [(None, 128)]                0         []                            \n",
      "                                                                                                  \n",
      " input_2 (InputLayer)        [(None, 32)]                 0         []                            \n",
      "                                                                                                  \n",
      " dense_6 (Dense)             (None, 64)                   8256      ['input_3[0][0]']             \n",
      "                                                                                                  \n",
      " dense_4 (Dense)             (None, 8)                    264       ['input_2[0][0]']             \n",
      "                                                                                                  \n",
      " dense_7 (Dense)             (None, 32)                   2080      ['dense_6[0][0]']             \n",
      "                                                                                                  \n",
      " dense_5 (Dense)             (None, 4)                    36        ['dense_4[0][0]']             \n",
      "                                                                                                  \n",
      " dense_8 (Dense)             (None, 4)                    132       ['dense_7[0][0]']             \n",
      "                                                                                                  \n",
      " concatenate (Concatenate)   (None, 8)                    0         ['dense_5[0][0]',             \n",
      "                                                                     'dense_8[0][0]']             \n",
      "                                                                                                  \n",
      " dense_9 (Dense)             (None, 2)                    18        ['concatenate[0][0]']         \n",
      "                                                                                                  \n",
      " dense_10 (Dense)            (None, 1)                    3         ['dense_9[0][0]']             \n",
      "                                                                                                  \n",
      "==================================================================================================\n",
      "Total params: 10789 (42.14 KB)\n",
      "Trainable params: 10789 (42.14 KB)\n",
      "Non-trainable params: 0 (0.00 Byte)\n",
      "__________________________________________________________________________________________________\n"
     ]
    },
    {
     "data": {
      "image/png": "[encoded data removed]",
      "text/plain": [
       "<IPython.core.display.Image object>"
      ]
     },
     "execution_count": 3,
     "metadata": {},
     "output_type": "execute_result"
    }
   ],
   "source": [
    "#  2- Input and 1- Output\n",
    "\n",
    "inputA = Input(shape=(32,))\n",
    "inputB = Input(shape=(128,))\n",
    "\n",
    "x = Dense(8,activation='relu')(inputA)\n",
    "x1 = Dense(4,activation='relu')(x)\n",
    "\n",
    "y = Dense(64,activation='relu')(inputB)\n",
    "y1 = Dense(32,activation='relu')(y)\n",
    "y2 = Dense(4,activation='relu')(y1)\n",
    "\n",
    "combined = concatenate([x1,y2])\n",
    "\n",
    "z = Dense(2,activation='relu')(combined)\n",
    "z1 = Dense(1,activation='relu')(z)\n",
    "\n",
    "model = Model(inputs=[inputA,inputB],outputs=[z1])\n",
    "\n",
    "model.summary()\n",
    "\n",
    "from keras.utils import plot_model\n",
    "\n",
    "plot_model(model)"
   ]
  },
  {
   "cell_type": "code",
   "execution_count": null,
   "metadata": {
    "id": "eHAMBX_rI6LO"
   },
   "outputs": [],
   "source": [
    "!mkdir -p ~/.kaggle\n",
    "!cp kaggle.json ~/.kaggle/"
   ]
  },
  {
   "cell_type": "code",
   "execution_count": null,
   "metadata": {
    "colab": {
     "base_uri": "https://localhost:8080/"
    },
    "id": "f2Ps1XSrJkhZ",
    "outputId": "bb646938-4a2d-4aa1-a68e-b29333389a12"
   },
   "outputs": [
    {
     "name": "stdout",
     "output_type": "stream",
     "text": [
      "Warning: Your Kaggle API key is readable by other users on this system! To fix this, you can run 'chmod 600 /root/.kaggle/kaggle.json'\n",
      "Downloading utkface-new.zip to /content\n",
      "100% 330M/331M [00:05<00:00, 20.5MB/s]\n",
      "100% 331M/331M [00:05<00:00, 65.4MB/s]\n"
     ]
    }
   ],
   "source": [
    "!kaggle datasets download -d jangedoo/utkface-new"
   ]
  },
  {
   "cell_type": "code",
   "execution_count": null,
   "metadata": {
    "id": "V4A60VofJ9xD"
   },
   "outputs": [],
   "source": [
    "import zipfile\n",
    "zip = zipfile.ZipFile('/content/utkface-new.zip')\n",
    "zip.extractall('/content')\n",
    "zip.close()"
   ]
  },
  {
   "cell_type": "code",
   "execution_count": null,
   "metadata": {
    "id": "VlhKBy9yKeyJ"
   },
   "outputs": [],
   "source": [
    "import os\n",
    "import numpy as np\n",
    "import pandas as pd\n",
    "from keras.preprocessing.image import ImageDataGenerator"
   ]
  },
  {
   "cell_type": "code",
   "execution_count": null,
   "metadata": {
    "id": "OeyotJohL_hI"
   },
   "outputs": [],
   "source": [
    "folder_path = '/content/utkface_aligned_cropped/UTKFace'"
   ]
  },
  {
   "cell_type": "code",
   "execution_count": null,
   "metadata": {
    "id": "LIkHIsujLtIP"
   },
   "outputs": [],
   "source": [
    "age = []\n",
    "gender = []\n",
    "img_path = []\n",
    "for file in os.listdir(folder_path):\n",
    "  age.append(int(file.split('_')[0]))\n",
    "  gender.append(int(file.split('_')[1]))\n",
    "  img_path.append(file)"
   ]
  },
  {
   "cell_type": "code",
   "execution_count": null,
   "metadata": {
    "colab": {
     "base_uri": "https://localhost:8080/"
    },
    "id": "8y20mQc0NerN",
    "outputId": "62762e5f-c3bb-4b1f-941f-14ed01af2189"
   },
   "outputs": [
    {
     "data": {
      "text/plain": [
       "23708"
      ]
     },
     "execution_count": 12,
     "metadata": {},
     "output_type": "execute_result"
    }
   ],
   "source": [
    "len(age)"
   ]
  },
  {
   "cell_type": "code",
   "execution_count": null,
   "metadata": {
    "id": "1Op5d5MSNlae"
   },
   "outputs": [],
   "source": [
    "\n",
    "\n",
    "df = pd.DataFrame({'age':age,'gender':gender,'img_path':img_path})"
   ]
  },
  {
   "cell_type": "code",
   "execution_count": null,
   "metadata": {
    "colab": {
     "base_uri": "https://localhost:8080/"
    },
    "id": "Rwx-mkI5N3Y1",
    "outputId": "aaa532f6-deba-44b8-f9cd-9873b45abe77"
   },
   "outputs": [
    {
     "data": {
      "text/plain": [
       "(23708, 3)"
      ]
     },
     "execution_count": 14,
     "metadata": {},
     "output_type": "execute_result"
    }
   ],
   "source": [
    "df.shape"
   ]
  },
  {
   "cell_type": "code",
   "execution_count": null,
   "metadata": {
    "colab": {
     "base_uri": "https://localhost:8080/",
     "height": 206
    },
    "id": "KmGqtBnfN49H",
    "outputId": "6dbdb45c-f9d6-46db-e1f9-75eb748bee53"
   },
   "outputs": [
    {
     "data": {
      "text/html": [
       "\n",
       "  <div id=\"df-8f58e2cf-a92b-4d61-b892-9d039bad31ed\" class=\"colab-df-container\">\n",
       "    <div>\n",
       "<style scoped>\n",
       "    .dataframe tbody tr th:only-of-type {\n",
       "        vertical-align: middle;\n",
       "    }\n",
       "\n",
       "    .dataframe tbody tr th {\n",
       "        vertical-align: top;\n",
       "    }\n",
       "\n",
       "    .dataframe thead th {\n",
       "        text-align: right;\n",
       "    }\n",
       "</style>\n",
       "<table border=\"1\" class=\"dataframe\">\n",
       "  <thead>\n",
       "    <tr style=\"text-align: right;\">\n",
       "      <th></th>\n",
       "      <th>age</th>\n",
       "      <th>gender</th>\n",
       "      <th>img_path</th>\n",
       "    </tr>\n",
       "  </thead>\n",
       "  <tbody>\n",
       "    <tr>\n",
       "      <th>0</th>\n",
       "      <td>32</td>\n",
       "      <td>1</td>\n",
       "      <td>32_1_0_20170112235000656.jpg.chip.jpg</td>\n",
       "    </tr>\n",
       "    <tr>\n",
       "      <th>1</th>\n",
       "      <td>1</td>\n",
       "      <td>0</td>\n",
       "      <td>1_0_2_20161219195848259.jpg.chip.jpg</td>\n",
       "    </tr>\n",
       "    <tr>\n",
       "      <th>2</th>\n",
       "      <td>2</td>\n",
       "      <td>0</td>\n",
       "      <td>2_0_2_20161219190009084.jpg.chip.jpg</td>\n",
       "    </tr>\n",
       "    <tr>\n",
       "      <th>3</th>\n",
       "      <td>46</td>\n",
       "      <td>0</td>\n",
       "      <td>46_0_0_20170113181514861.jpg.chip.jpg</td>\n",
       "    </tr>\n",
       "    <tr>\n",
       "      <th>4</th>\n",
       "      <td>89</td>\n",
       "      <td>0</td>\n",
       "      <td>89_0_1_20170116024131102.jpg.chip.jpg</td>\n",
       "    </tr>\n",
       "  </tbody>\n",
       "</table>\n",
       "</div>\n",
       "    <div class=\"colab-df-buttons\">\n",
       "\n",
       "  <div class=\"colab-df-container\">\n",
       "    <button class=\"colab-df-convert\" onclick=\"convertToInteractive('df-8f58e2cf-a92b-4d61-b892-9d039bad31ed')\"\n",
       "            title=\"Convert this dataframe to an interactive table.\"\n",
       "            style=\"display:none;\">\n",
       "\n",
       "  <svg xmlns=\"http://www.w3.org/2000/svg\" height=\"24px\" viewBox=\"0 -960 960 960\">\n",
       "    <path d=\"M120-120v-720h720v720H120Zm60-500h600v-160H180v160Zm220 220h160v-160H400v160Zm0 220h160v-160H400v160ZM180-400h160v-160H180v160Zm440 0h160v-160H620v160ZM180-180h160v-160H180v160Zm440 0h160v-160H620v160Z\"/>\n",
       "  </svg>\n",
       "    </button>\n",
       "\n",
       "  <style>\n",
       "    .colab-df-container {\n",
       "      display:flex;\n",
       "      gap: 12px;\n",
       "    }\n",
       "\n",
       "    .colab-df-convert {\n",
       "      background-color: #E8F0FE;\n",
       "      border: none;\n",
       "      border-radius: 50%;\n",
       "      cursor: pointer;\n",
       "      display: none;\n",
       "      fill: #1967D2;\n",
       "      height: 32px;\n",
       "      padding: 0 0 0 0;\n",
       "      width: 32px;\n",
       "    }\n",
       "\n",
       "    .colab-df-convert:hover {\n",
       "      background-color: #E2EBFA;\n",
       "      box-shadow: 0px 1px 2px rgba(60, 64, 67, 0.3), 0px 1px 3px 1px rgba(60, 64, 67, 0.15);\n",
       "      fill: #174EA6;\n",
       "    }\n",
       "\n",
       "    .colab-df-buttons div {\n",
       "      margin-bottom: 4px;\n",
       "    }\n",
       "\n",
       "    [theme=dark] .colab-df-convert {\n",
       "      background-color: #3B4455;\n",
       "      fill: #D2E3FC;\n",
       "    }\n",
       "\n",
       "    [theme=dark] .colab-df-convert:hover {\n",
       "      background-color: #434B5C;\n",
       "      box-shadow: 0px 1px 3px 1px rgba(0, 0, 0, 0.15);\n",
       "      filter: drop-shadow(0px 1px 2px rgba(0, 0, 0, 0.3));\n",
       "      fill: #FFFFFF;\n",
       "    }\n",
       "  </style>\n",
       "\n",
       "    <script>\n",
       "      const buttonEl =\n",
       "        document.querySelector('#df-8f58e2cf-a92b-4d61-b892-9d039bad31ed button.colab-df-convert');\n",
       "      buttonEl.style.display =\n",
       "        google.colab.kernel.accessAllowed ? 'block' : 'none';\n",
       "\n",
       "      async function convertToInteractive(key) {\n",
       "        const element = document.querySelector('#df-8f58e2cf-a92b-4d61-b892-9d039bad31ed');\n",
       "        const dataTable =\n",
       "          await google.colab.kernel.invokeFunction('convertToInteractive',\n",
       "                                                    [key], {});\n",
       "        if (!dataTable) return;\n",
       "\n",
       "        const docLinkHtml = 'Like what you see? Visit the ' +\n",
       "          '<a target=\"_blank\" href=https://colab.research.google.com/notebooks/data_table.ipynb>data table notebook</a>'\n",
       "          + ' to learn more about interactive tables.';\n",
       "        element.innerHTML = '';\n",
       "        dataTable['output_type'] = 'display_data';\n",
       "        await google.colab.output.renderOutput(dataTable, element);\n",
       "        const docLink = document.createElement('div');\n",
       "        docLink.innerHTML = docLinkHtml;\n",
       "        element.appendChild(docLink);\n",
       "      }\n",
       "    </script>\n",
       "  </div>\n",
       "\n",
       "\n",
       "<div id=\"df-49cd0154-59d9-46db-8bee-13185128a15b\">\n",
       "  <button class=\"colab-df-quickchart\" onclick=\"quickchart('df-49cd0154-59d9-46db-8bee-13185128a15b')\"\n",
       "            title=\"Suggest charts\"\n",
       "            style=\"display:none;\">\n",
       "\n",
       "<svg xmlns=\"http://www.w3.org/2000/svg\" height=\"24px\"viewBox=\"0 0 24 24\"\n",
       "     width=\"24px\">\n",
       "    <g>\n",
       "        <path d=\"M19 3H5c-1.1 0-2 .9-2 2v14c0 1.1.9 2 2 2h14c1.1 0 2-.9 2-2V5c0-1.1-.9-2-2-2zM9 17H7v-7h2v7zm4 0h-2V7h2v10zm4 0h-2v-4h2v4z\"/>\n",
       "    </g>\n",
       "</svg>\n",
       "  </button>\n",
       "\n",
       "<style>\n",
       "  .colab-df-quickchart {\n",
       "      --bg-color: #E8F0FE;\n",
       "      --fill-color: #1967D2;\n",
       "      --hover-bg-color: #E2EBFA;\n",
       "      --hover-fill-color: #174EA6;\n",
       "      --disabled-fill-color: #AAA;\n",
       "      --disabled-bg-color: #DDD;\n",
       "  }\n",
       "\n",
       "  [theme=dark] .colab-df-quickchart {\n",
       "      --bg-color: #3B4455;\n",
       "      --fill-color: #D2E3FC;\n",
       "      --hover-bg-color: #434B5C;\n",
       "      --hover-fill-color: #FFFFFF;\n",
       "      --disabled-bg-color: #3B4455;\n",
       "      --disabled-fill-color: #666;\n",
       "  }\n",
       "\n",
       "  .colab-df-quickchart {\n",
       "    background-color: var(--bg-color);\n",
       "    border: none;\n",
       "    border-radius: 50%;\n",
       "    cursor: pointer;\n",
       "    display: none;\n",
       "    fill: var(--fill-color);\n",
       "    height: 32px;\n",
       "    padding: 0;\n",
       "    width: 32px;\n",
       "  }\n",
       "\n",
       "  .colab-df-quickchart:hover {\n",
       "    background-color: var(--hover-bg-color);\n",
       "    box-shadow: 0 1px 2px rgba(60, 64, 67, 0.3), 0 1px 3px 1px rgba(60, 64, 67, 0.15);\n",
       "    fill: var(--button-hover-fill-color);\n",
       "  }\n",
       "\n",
       "  .colab-df-quickchart-complete:disabled,\n",
       "  .colab-df-quickchart-complete:disabled:hover {\n",
       "    background-color: var(--disabled-bg-color);\n",
       "    fill: var(--disabled-fill-color);\n",
       "    box-shadow: none;\n",
       "  }\n",
       "\n",
       "  .colab-df-spinner {\n",
       "    border: 2px solid var(--fill-color);\n",
       "    border-color: transparent;\n",
       "    border-bottom-color: var(--fill-color);\n",
       "    animation:\n",
       "      spin 1s steps(1) infinite;\n",
       "  }\n",
       "\n",
       "  @keyframes spin {\n",
       "    0% {\n",
       "      border-color: transparent;\n",
       "      border-bottom-color: var(--fill-color);\n",
       "      border-left-color: var(--fill-color);\n",
       "    }\n",
       "    20% {\n",
       "      border-color: transparent;\n",
       "      border-left-color: var(--fill-color);\n",
       "      border-top-color: var(--fill-color);\n",
       "    }\n",
       "    30% {\n",
       "      border-color: transparent;\n",
       "      border-left-color: var(--fill-color);\n",
       "      border-top-color: var(--fill-color);\n",
       "      border-right-color: var(--fill-color);\n",
       "    }\n",
       "    40% {\n",
       "      border-color: transparent;\n",
       "      border-right-color: var(--fill-color);\n",
       "      border-top-color: var(--fill-color);\n",
       "    }\n",
       "    60% {\n",
       "      border-color: transparent;\n",
       "      border-right-color: var(--fill-color);\n",
       "    }\n",
       "    80% {\n",
       "      border-color: transparent;\n",
       "      border-right-color: var(--fill-color);\n",
       "      border-bottom-color: var(--fill-color);\n",
       "    }\n",
       "    90% {\n",
       "      border-color: transparent;\n",
       "      border-bottom-color: var(--fill-color);\n",
       "    }\n",
       "  }\n",
       "</style>\n",
       "\n",
       "  <script>\n",
       "    async function quickchart(key) {\n",
       "      const quickchartButtonEl =\n",
       "        document.querySelector('#' + key + ' button');\n",
       "      quickchartButtonEl.disabled = true;  // To prevent multiple clicks.\n",
       "      quickchartButtonEl.classList.add('colab-df-spinner');\n",
       "      try {\n",
       "        const charts = await google.colab.kernel.invokeFunction(\n",
       "            'suggestCharts', [key], {});\n",
       "      } catch (error) {\n",
       "        console.error('Error during call to suggestCharts:', error);\n",
       "      }\n",
       "      quickchartButtonEl.classList.remove('colab-df-spinner');\n",
       "      quickchartButtonEl.classList.add('colab-df-quickchart-complete');\n",
       "    }\n",
       "    (() => {\n",
       "      let quickchartButtonEl =\n",
       "        document.querySelector('#df-49cd0154-59d9-46db-8bee-13185128a15b button');\n",
       "      quickchartButtonEl.style.display =\n",
       "        google.colab.kernel.accessAllowed ? 'block' : 'none';\n",
       "    })();\n",
       "  </script>\n",
       "</div>\n",
       "\n",
       "    </div>\n",
       "  </div>\n"
      ],
      "text/plain": [
       "   age  gender                               img_path\n",
       "0   32       1  32_1_0_20170112235000656.jpg.chip.jpg\n",
       "1    1       0   1_0_2_20161219195848259.jpg.chip.jpg\n",
       "2    2       0   2_0_2_20161219190009084.jpg.chip.jpg\n",
       "3   46       0  46_0_0_20170113181514861.jpg.chip.jpg\n",
       "4   89       0  89_0_1_20170116024131102.jpg.chip.jpg"
      ]
     },
     "execution_count": 15,
     "metadata": {},
     "output_type": "execute_result"
    }
   ],
   "source": [
    "\n",
    "df.head()"
   ]
  },
  {
   "cell_type": "code",
   "execution_count": null,
   "metadata": {
    "id": "HAGAKWsEN_g-"
   },
   "outputs": [],
   "source": [
    "train_df = df.sample(frac=1,random_state=0).iloc[:20000]\n",
    "test_df = df.sample(frac=1,random_state=0).iloc[20000:]"
   ]
  },
  {
   "cell_type": "code",
   "execution_count": null,
   "metadata": {
    "colab": {
     "base_uri": "https://localhost:8080/"
    },
    "id": "89aNPR3Ze1eT",
    "outputId": "a915ef0f-3074-4b90-ff77-970a9bc0ef2f"
   },
   "outputs": [
    {
     "data": {
      "text/plain": [
       "(20000, 3)"
      ]
     },
     "execution_count": 17,
     "metadata": {},
     "output_type": "execute_result"
    }
   ],
   "source": [
    "train_df.shape"
   ]
  },
  {
   "cell_type": "code",
   "execution_count": null,
   "metadata": {
    "id": "qwSBa0ZwfPQB"
   },
   "outputs": [],
   "source": [
    "train_datagen = ImageDataGenerator(\n",
    "    rescale=1./255,\n",
    "    rotation_range = 30,\n",
    "    width_shift_range = 0.2,\n",
    "    height_shift_range = 0.2,\n",
    "    shear_range = 0.2,\n",
    "    zoom_range = 0.2,\n",
    "    horizontal_flip=True\n",
    ")\n",
    "\n",
    "test_datagen = ImageDataGenerator(\n",
    "    rescale = 1./255\n",
    ")"
   ]
  },
  {
   "cell_type": "code",
   "execution_count": null,
   "metadata": {
    "colab": {
     "base_uri": "https://localhost:8080/"
    },
    "id": "f6jN2zeoirsB",
    "outputId": "3b728bde-4d46-47dc-daca-4e32b27a3c91"
   },
   "outputs": [
    {
     "name": "stdout",
     "output_type": "stream",
     "text": [
      "Found 20000 validated image filenames.\n",
      "Found 3708 validated image filenames.\n"
     ]
    }
   ],
   "source": [
    "# flow_from_((dataframe))\n",
    "train_generator = train_datagen.flow_from_dataframe(train_df,\n",
    "                                                    directory=folder_path,\n",
    "                                                    x_col='img_path',\n",
    "                                                    y_col=['age','gender'],\n",
    "                                                    target_size=(200,200),\n",
    "                                                    class_mode='multi_output')\n",
    "\n",
    "test_generator = test_datagen.flow_from_dataframe(test_df,\n",
    "                                                    directory=folder_path,\n",
    "                                                    x_col='img_path',\n",
    "                                                    y_col=['age','gender'],\n",
    "                                                    target_size=(200,200),\n",
    "                                                  class_mode='multi_output')"
   ]
  },
  {
   "cell_type": "code",
   "execution_count": null,
   "metadata": {
    "id": "wxMayHHmf5fn"
   },
   "outputs": [],
   "source": [
    "from keras.applications.resnet50 import ResNet50\n",
    "from keras.layers import *\n",
    "from keras.models import Model"
   ]
  },
  {
   "cell_type": "code",
   "execution_count": null,
   "metadata": {
    "colab": {
     "base_uri": "https://localhost:8080/"
    },
    "id": "7ZfmjqgriTva",
    "outputId": "4a90da46-da00-43af-eea2-4918b372bb27"
   },
   "outputs": [
    {
     "name": "stdout",
     "output_type": "stream",
     "text": [
      "Downloading data from https://storage.googleapis.com/tensorflow/keras-applications/resnet/resnet50_weights_tf_dim_ordering_tf_kernels_notop.h5\n",
      "94765736/94765736 [==============================] - 0s 0us/step\n"
     ]
    }
   ],
   "source": [
    "resnet = ResNet50(include_top=False,input_shape=(200,200,3))"
   ]
  },
  {
   "cell_type": "code",
   "execution_count": null,
   "metadata": {
    "id": "OsjzmvxtmNVE"
   },
   "outputs": [],
   "source": [
    "resnet.trainable=False"
   ]
  },
  {
   "cell_type": "code",
   "execution_count": null,
   "metadata": {
    "id": "MWpB7ZqpmX55"
   },
   "outputs": [],
   "source": [
    "output = resnet.layers[-1].output\n",
    "\n",
    "flatten = Flatten()(output)\n",
    "\n",
    "dense1 = Dense(512,activation='relu')(flatten)\n",
    "dense2 = Dense(512,activation='relu')(flatten)\n",
    "\n",
    "dense3 = Dense(512,activation='relu')(dense1)\n",
    "dense4 = Dense(512,activation='relu')(dense2)\n",
    "\n",
    "output1 = Dense(1,activation='linear',name='age')(dense3)\n",
    "output2 = Dense(1,activation='sigmoid',name='gender')(dense4)"
   ]
  },
  {
   "cell_type": "code",
   "execution_count": null,
   "metadata": {
    "id": "ssCvP6RWnpim"
   },
   "outputs": [],
   "source": [
    "model = Model(inputs = resnet.input , outputs = [output1,output2])"
   ]
  },
  {
   "cell_type": "code",
   "execution_count": null,
   "metadata": {
    "id": "lqc0ELbEn6KP"
   },
   "outputs": [],
   "source": [
    "model.compile(optimizer='adam' , loss = {'age':'mse','gender':'binary_crossentropy'} , metrics = {'age':'mae','gender':'accuracy'}, loss_weights= {'age':1,'gender':99})"
   ]
  },
  {
   "cell_type": "code",
   "execution_count": null,
   "metadata": {
    "colab": {
     "base_uri": "https://localhost:8080/"
    },
    "id": "NSXPLCRLojmM",
    "outputId": "7bad032a-c37a-41e6-e7fc-dfa98d69eb50"
   },
   "outputs": [
    {
     "name": "stdout",
     "output_type": "stream",
     "text": [
      "Epoch 1/10\n",
      "625/625 [==============================] - 252s 384ms/step - loss: 500.1753 - age_loss: 414.9380 - gender_loss: 0.8610 - age_mae: 15.7261 - gender_accuracy: 0.5125 - val_loss: 461.9040 - val_age_loss: 393.3736 - val_gender_loss: 0.6922 - val_age_mae: 14.9047 - val_gender_accuracy: 0.5286\n",
      "Epoch 2/10\n",
      "625/625 [==============================] - 236s 378ms/step - loss: 460.2416 - age_loss: 391.6738 - gender_loss: 0.6926 - age_mae: 15.2919 - gender_accuracy: 0.5217 - val_loss: 461.7961 - val_age_loss: 393.3351 - val_gender_loss: 0.6915 - val_age_mae: 16.0902 - val_gender_accuracy: 0.5286\n",
      "Epoch 3/10\n",
      "625/625 [==============================] - 238s 381ms/step - loss: 451.5182 - age_loss: 382.9802 - gender_loss: 0.6923 - age_mae: 15.1077 - gender_accuracy: 0.5217 - val_loss: 424.2119 - val_age_loss: 355.7395 - val_gender_loss: 0.6916 - val_age_mae: 14.6586 - val_gender_accuracy: 0.5286\n",
      "Epoch 4/10\n",
      "625/625 [==============================] - 237s 379ms/step - loss: 446.7411 - age_loss: 378.1366 - gender_loss: 0.6930 - age_mae: 15.0123 - gender_accuracy: 0.5221 - val_loss: 452.2992 - val_age_loss: 383.8214 - val_gender_loss: 0.6917 - val_age_mae: 14.5020 - val_gender_accuracy: 0.5286\n",
      "Epoch 5/10\n",
      "625/625 [==============================] - 237s 379ms/step - loss: 433.0860 - age_loss: 364.3799 - gender_loss: 0.6940 - age_mae: 14.7831 - gender_accuracy: 0.5217 - val_loss: 397.8208 - val_age_loss: 329.2564 - val_gender_loss: 0.6926 - val_age_mae: 14.2033 - val_gender_accuracy: 0.5286\n",
      "Epoch 6/10\n",
      "625/625 [==============================] - 239s 382ms/step - loss: 429.2063 - age_loss: 360.6601 - gender_loss: 0.6924 - age_mae: 14.7001 - gender_accuracy: 0.5215 - val_loss: 393.8290 - val_age_loss: 325.3691 - val_gender_loss: 0.6915 - val_age_mae: 13.8247 - val_gender_accuracy: 0.5286\n",
      "Epoch 7/10\n",
      "625/625 [==============================] - 238s 381ms/step - loss: 423.8485 - age_loss: 355.3092 - gender_loss: 0.6923 - age_mae: 14.5996 - gender_accuracy: 0.5215 - val_loss: 382.5900 - val_age_loss: 314.1257 - val_gender_loss: 0.6916 - val_age_mae: 13.6497 - val_gender_accuracy: 0.5286\n",
      "Epoch 8/10\n",
      "625/625 [==============================] - 241s 386ms/step - loss: 428.3995 - age_loss: 359.8402 - gender_loss: 0.6925 - age_mae: 14.6801 - gender_accuracy: 0.5213 - val_loss: 398.5245 - val_age_loss: 330.0649 - val_gender_loss: 0.6915 - val_age_mae: 13.7866 - val_gender_accuracy: 0.5286\n",
      "Epoch 9/10\n",
      "625/625 [==============================] - 249s 399ms/step - loss: 415.6955 - age_loss: 347.1324 - gender_loss: 0.6926 - age_mae: 14.4379 - gender_accuracy: 0.5215 - val_loss: 378.7206 - val_age_loss: 310.2477 - val_gender_loss: 0.6916 - val_age_mae: 13.5369 - val_gender_accuracy: 0.5286\n",
      "Epoch 10/10\n",
      "625/625 [==============================] - 240s 384ms/step - loss: 414.2625 - age_loss: 345.4229 - gender_loss: 0.6954 - age_mae: 14.4538 - gender_accuracy: 0.5213 - val_loss: 389.2593 - val_age_loss: 320.7868 - val_gender_loss: 0.6916 - val_age_mae: 14.4122 - val_gender_accuracy: 0.5286\n"
     ]
    },
    {
     "data": {
      "text/plain": [
       "<keras.src.callbacks.History at 0x79632c0804f0>"
      ]
     },
     "execution_count": 36,
     "metadata": {},
     "output_type": "execute_result"
    }
   ],
   "source": [
    "model.fit(train_generator, batch_size=32, epochs=10, validation_data=test_generator)"
   ]
  },
  {
   "cell_type": "code",
   "execution_count": null,
   "metadata": {
    "id": "QbAf1X0uooz1"
   },
   "outputs": [],
   "source": []
  }
 ],
 "metadata": {
  "accelerator": "GPU",
  "colab": {
   "gpuType": "T4",
   "provenance": []
  },
  "kernelspec": {
   "display_name": "Python 3",
   "name": "python3"
  },
  "language_info": {
   "name": "python"
  }
 },
 "nbformat": 4,
 "nbformat_minor": 0
}
