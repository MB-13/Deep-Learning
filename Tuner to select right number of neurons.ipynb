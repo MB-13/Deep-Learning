{
 "cells": [
  {
   "cell_type": "code",
   "execution_count": 1,
   "id": "d8c08b84",
   "metadata": {},
   "outputs": [],
   "source": [
    "import numpy as np\n",
    "import matplotlib.pyplot as plt\n",
    "import pandas as pd"
   ]
  },
  {
   "cell_type": "code",
   "execution_count": 2,
   "id": "ff6a2412",
   "metadata": {},
   "outputs": [
    {
     "name": "stderr",
     "output_type": "stream",
     "text": [
      "C:\\Users\\User\\anaconda3\\lib\\site-packages\\scipy\\__init__.py:146: UserWarning: A NumPy version >=1.16.5 and <1.23.0 is required for this version of SciPy (detected version 1.26.2\n",
      "  warnings.warn(f\"A NumPy version >={np_minversion} and <{np_maxversion}\"\n"
     ]
    },
    {
     "name": "stdout",
     "output_type": "stream",
     "text": [
      "WARNING:tensorflow:From C:\\Users\\User\\anaconda3\\lib\\site-packages\\keras\\src\\losses.py:2976: The name tf.losses.sparse_softmax_cross_entropy is deprecated. Please use tf.compat.v1.losses.sparse_softmax_cross_entropy instead.\n",
      "\n"
     ]
    }
   ],
   "source": [
    "import tensorflow \n",
    "from tensorflow import keras\n",
    "from tensorflow.keras import Sequential\n",
    "from tensorflow.keras.layers import Dense"
   ]
  },
  {
   "cell_type": "code",
   "execution_count": 3,
   "id": "84444d20",
   "metadata": {},
   "outputs": [],
   "source": [
    "df = pd.read_csv(\"D:\\study\\ML\\diabetes.csv\")"
   ]
  },
  {
   "cell_type": "code",
   "execution_count": 4,
   "id": "562e2473",
   "metadata": {},
   "outputs": [],
   "source": [
    "X = df.iloc[:,:-1].values\n",
    "y = df.iloc[:,-1].values"
   ]
  },
  {
   "cell_type": "code",
   "execution_count": 5,
   "id": "8205d6db",
   "metadata": {},
   "outputs": [],
   "source": [
    "from sklearn.preprocessing import StandardScaler\n",
    "scaler = StandardScaler()\n",
    "X_skl = scaler.fit_transform(X)"
   ]
  },
  {
   "cell_type": "code",
   "execution_count": 6,
   "id": "549ac381",
   "metadata": {},
   "outputs": [],
   "source": [
    "from sklearn.model_selection import train_test_split\n",
    "x_train,x_test,y_train,y_test = train_test_split(X_skl,y,test_size=0.2,random_state=1)"
   ]
  },
  {
   "cell_type": "code",
   "execution_count": 8,
   "id": "ac10519a",
   "metadata": {},
   "outputs": [],
   "source": [
    "import keras_tuner as kt"
   ]
  },
  {
   "cell_type": "code",
   "execution_count": 19,
   "id": "0ccfa0e6",
   "metadata": {},
   "outputs": [],
   "source": [
    "def build_model(hp):\n",
    "    model = Sequential()\n",
    "    \n",
    "    units = hp.Int('units',8,128) # name,min_val,max_val,step\n",
    "    model.add(Dense(units=units,activation='relu',input_dim=8))\n",
    "    model.add(Dense(1,activation='sigmoid'))\n",
    "    \n",
    "    model.compile(optimizer='rmsprop',loss='binary_crossentropy',metrics=['accuracy'])\n",
    "    \n",
    "    return model"
   ]
  },
  {
   "cell_type": "code",
   "execution_count": 23,
   "id": "df3e47cf",
   "metadata": {},
   "outputs": [],
   "source": [
    "tuner = kt.RandomSearch(build_model,\n",
    "                       objective='val_accuracy',\n",
    "                       max_trials=5,\n",
    "                       directory='my_dict',\n",
    "                       project_name='Tuner to select right number of neurons_1')"
   ]
  },
  {
   "cell_type": "code",
   "execution_count": 24,
   "id": "b2a6231a",
   "metadata": {},
   "outputs": [
    {
     "name": "stdout",
     "output_type": "stream",
     "text": [
      "Trial 5 Complete [00h 00m 01s]\n",
      "val_accuracy: 0.8051947951316833\n",
      "\n",
      "Best val_accuracy So Far: 0.8181818127632141\n",
      "Total elapsed time: 00h 00m 06s\n"
     ]
    }
   ],
   "source": [
    "tuner.search(x_train,y_train,epochs=5,validation_data=(x_test,y_test))"
   ]
  },
  {
   "cell_type": "code",
   "execution_count": 25,
   "id": "0721c7cd",
   "metadata": {},
   "outputs": [
    {
     "data": {
      "text/plain": [
       "{'units': 104}"
      ]
     },
     "execution_count": 25,
     "metadata": {},
     "output_type": "execute_result"
    }
   ],
   "source": [
    "tuner.get_best_hyperparameters()[0].values"
   ]
  },
  {
   "cell_type": "code",
   "execution_count": 26,
   "id": "11d54eef",
   "metadata": {},
   "outputs": [],
   "source": [
    "model = tuner.get_best_models(num_models=1)[0]"
   ]
  },
  {
   "cell_type": "code",
   "execution_count": 27,
   "id": "83fef903",
   "metadata": {},
   "outputs": [
    {
     "name": "stdout",
     "output_type": "stream",
     "text": [
      "Epoch 6/100\n",
      "20/20 [==============================] - 1s 11ms/step - loss: 0.4856 - accuracy: 0.7785 - val_loss: 0.4673 - val_accuracy: 0.7987\n",
      "Epoch 7/100\n",
      "20/20 [==============================] - 0s 3ms/step - loss: 0.4765 - accuracy: 0.7769 - val_loss: 0.4610 - val_accuracy: 0.8052\n",
      "Epoch 8/100\n",
      "20/20 [==============================] - 0s 4ms/step - loss: 0.4703 - accuracy: 0.7785 - val_loss: 0.4588 - val_accuracy: 0.7987\n",
      "Epoch 9/100\n",
      "20/20 [==============================] - 0s 4ms/step - loss: 0.4653 - accuracy: 0.7704 - val_loss: 0.4581 - val_accuracy: 0.7987\n",
      "Epoch 10/100\n",
      "20/20 [==============================] - 0s 4ms/step - loss: 0.4612 - accuracy: 0.7818 - val_loss: 0.4570 - val_accuracy: 0.7857\n",
      "Epoch 11/100\n",
      "20/20 [==============================] - 0s 4ms/step - loss: 0.4580 - accuracy: 0.7818 - val_loss: 0.4560 - val_accuracy: 0.7922\n",
      "Epoch 12/100\n",
      "20/20 [==============================] - 0s 4ms/step - loss: 0.4556 - accuracy: 0.7834 - val_loss: 0.4560 - val_accuracy: 0.7922\n",
      "Epoch 13/100\n",
      "20/20 [==============================] - 0s 5ms/step - loss: 0.4543 - accuracy: 0.7801 - val_loss: 0.4568 - val_accuracy: 0.7857\n",
      "Epoch 14/100\n",
      "20/20 [==============================] - 0s 4ms/step - loss: 0.4515 - accuracy: 0.7801 - val_loss: 0.4583 - val_accuracy: 0.7857\n",
      "Epoch 15/100\n",
      "20/20 [==============================] - 0s 5ms/step - loss: 0.4496 - accuracy: 0.7850 - val_loss: 0.4573 - val_accuracy: 0.7857\n",
      "Epoch 16/100\n",
      "20/20 [==============================] - 0s 5ms/step - loss: 0.4481 - accuracy: 0.7818 - val_loss: 0.4554 - val_accuracy: 0.7922\n",
      "Epoch 17/100\n",
      "20/20 [==============================] - 0s 4ms/step - loss: 0.4469 - accuracy: 0.7801 - val_loss: 0.4572 - val_accuracy: 0.7922\n",
      "Epoch 18/100\n",
      "20/20 [==============================] - 0s 4ms/step - loss: 0.4453 - accuracy: 0.7818 - val_loss: 0.4577 - val_accuracy: 0.7922\n",
      "Epoch 19/100\n",
      "20/20 [==============================] - 0s 4ms/step - loss: 0.4442 - accuracy: 0.7769 - val_loss: 0.4589 - val_accuracy: 0.7857\n",
      "Epoch 20/100\n",
      "20/20 [==============================] - 0s 4ms/step - loss: 0.4428 - accuracy: 0.7769 - val_loss: 0.4592 - val_accuracy: 0.7922\n",
      "Epoch 21/100\n",
      "20/20 [==============================] - 0s 4ms/step - loss: 0.4419 - accuracy: 0.7850 - val_loss: 0.4580 - val_accuracy: 0.7987\n",
      "Epoch 22/100\n",
      "20/20 [==============================] - 0s 4ms/step - loss: 0.4406 - accuracy: 0.7736 - val_loss: 0.4598 - val_accuracy: 0.7792\n",
      "Epoch 23/100\n",
      "20/20 [==============================] - 0s 4ms/step - loss: 0.4392 - accuracy: 0.7850 - val_loss: 0.4580 - val_accuracy: 0.7987\n",
      "Epoch 24/100\n",
      "20/20 [==============================] - 0s 4ms/step - loss: 0.4390 - accuracy: 0.7801 - val_loss: 0.4579 - val_accuracy: 0.8052\n",
      "Epoch 25/100\n",
      "20/20 [==============================] - 0s 4ms/step - loss: 0.4378 - accuracy: 0.7866 - val_loss: 0.4570 - val_accuracy: 0.8117\n",
      "Epoch 26/100\n",
      "20/20 [==============================] - 0s 4ms/step - loss: 0.4366 - accuracy: 0.7801 - val_loss: 0.4571 - val_accuracy: 0.8117\n",
      "Epoch 27/100\n",
      "20/20 [==============================] - 0s 4ms/step - loss: 0.4354 - accuracy: 0.7785 - val_loss: 0.4574 - val_accuracy: 0.8052\n",
      "Epoch 28/100\n",
      "20/20 [==============================] - 0s 4ms/step - loss: 0.4346 - accuracy: 0.7866 - val_loss: 0.4572 - val_accuracy: 0.8052\n",
      "Epoch 29/100\n",
      "20/20 [==============================] - 0s 4ms/step - loss: 0.4348 - accuracy: 0.7834 - val_loss: 0.4579 - val_accuracy: 0.8052\n",
      "Epoch 30/100\n",
      "20/20 [==============================] - 0s 4ms/step - loss: 0.4334 - accuracy: 0.7866 - val_loss: 0.4587 - val_accuracy: 0.8117\n",
      "Epoch 31/100\n",
      "20/20 [==============================] - 0s 4ms/step - loss: 0.4319 - accuracy: 0.7834 - val_loss: 0.4568 - val_accuracy: 0.8052\n",
      "Epoch 32/100\n",
      "20/20 [==============================] - 0s 3ms/step - loss: 0.4315 - accuracy: 0.7866 - val_loss: 0.4578 - val_accuracy: 0.8117\n",
      "Epoch 33/100\n",
      "20/20 [==============================] - 0s 4ms/step - loss: 0.4310 - accuracy: 0.7850 - val_loss: 0.4577 - val_accuracy: 0.8052\n",
      "Epoch 34/100\n",
      "20/20 [==============================] - 0s 4ms/step - loss: 0.4304 - accuracy: 0.7801 - val_loss: 0.4570 - val_accuracy: 0.8117\n",
      "Epoch 35/100\n",
      "20/20 [==============================] - 0s 4ms/step - loss: 0.4297 - accuracy: 0.7850 - val_loss: 0.4571 - val_accuracy: 0.8052\n",
      "Epoch 36/100\n",
      "20/20 [==============================] - 0s 4ms/step - loss: 0.4284 - accuracy: 0.7883 - val_loss: 0.4551 - val_accuracy: 0.8117\n",
      "Epoch 37/100\n",
      "20/20 [==============================] - 0s 3ms/step - loss: 0.4281 - accuracy: 0.7866 - val_loss: 0.4552 - val_accuracy: 0.8182\n",
      "Epoch 38/100\n",
      "20/20 [==============================] - 0s 3ms/step - loss: 0.4266 - accuracy: 0.7899 - val_loss: 0.4563 - val_accuracy: 0.8247\n",
      "Epoch 39/100\n",
      "20/20 [==============================] - 0s 4ms/step - loss: 0.4267 - accuracy: 0.7899 - val_loss: 0.4577 - val_accuracy: 0.8117\n",
      "Epoch 40/100\n",
      "20/20 [==============================] - 0s 4ms/step - loss: 0.4262 - accuracy: 0.7948 - val_loss: 0.4576 - val_accuracy: 0.8182\n",
      "Epoch 41/100\n",
      "20/20 [==============================] - 0s 4ms/step - loss: 0.4255 - accuracy: 0.7866 - val_loss: 0.4569 - val_accuracy: 0.8052\n",
      "Epoch 42/100\n",
      "20/20 [==============================] - 0s 4ms/step - loss: 0.4246 - accuracy: 0.7915 - val_loss: 0.4581 - val_accuracy: 0.8052\n",
      "Epoch 43/100\n",
      "20/20 [==============================] - 0s 4ms/step - loss: 0.4237 - accuracy: 0.7932 - val_loss: 0.4579 - val_accuracy: 0.8117\n",
      "Epoch 44/100\n",
      "20/20 [==============================] - 0s 4ms/step - loss: 0.4229 - accuracy: 0.7964 - val_loss: 0.4581 - val_accuracy: 0.8247\n",
      "Epoch 45/100\n",
      "20/20 [==============================] - 0s 4ms/step - loss: 0.4222 - accuracy: 0.7948 - val_loss: 0.4569 - val_accuracy: 0.8247\n",
      "Epoch 46/100\n",
      "20/20 [==============================] - 0s 4ms/step - loss: 0.4213 - accuracy: 0.7980 - val_loss: 0.4554 - val_accuracy: 0.8182\n",
      "Epoch 47/100\n",
      "20/20 [==============================] - 0s 4ms/step - loss: 0.4211 - accuracy: 0.7948 - val_loss: 0.4555 - val_accuracy: 0.8247\n",
      "Epoch 48/100\n",
      "20/20 [==============================] - 0s 4ms/step - loss: 0.4205 - accuracy: 0.7980 - val_loss: 0.4546 - val_accuracy: 0.8052\n",
      "Epoch 49/100\n",
      "20/20 [==============================] - 0s 3ms/step - loss: 0.4205 - accuracy: 0.7932 - val_loss: 0.4557 - val_accuracy: 0.8117\n",
      "Epoch 50/100\n",
      "20/20 [==============================] - 0s 4ms/step - loss: 0.4201 - accuracy: 0.7964 - val_loss: 0.4573 - val_accuracy: 0.8247\n",
      "Epoch 51/100\n",
      "20/20 [==============================] - 0s 4ms/step - loss: 0.4197 - accuracy: 0.7980 - val_loss: 0.4596 - val_accuracy: 0.8117\n",
      "Epoch 52/100\n",
      "20/20 [==============================] - 0s 4ms/step - loss: 0.4177 - accuracy: 0.7980 - val_loss: 0.4581 - val_accuracy: 0.8247\n",
      "Epoch 53/100\n",
      "20/20 [==============================] - 0s 3ms/step - loss: 0.4183 - accuracy: 0.7932 - val_loss: 0.4574 - val_accuracy: 0.8247\n",
      "Epoch 54/100\n",
      "20/20 [==============================] - 0s 3ms/step - loss: 0.4168 - accuracy: 0.7980 - val_loss: 0.4564 - val_accuracy: 0.8117\n",
      "Epoch 55/100\n",
      "20/20 [==============================] - 0s 4ms/step - loss: 0.4160 - accuracy: 0.7997 - val_loss: 0.4576 - val_accuracy: 0.8117\n",
      "Epoch 56/100\n",
      "20/20 [==============================] - 0s 3ms/step - loss: 0.4162 - accuracy: 0.8013 - val_loss: 0.4561 - val_accuracy: 0.8117\n",
      "Epoch 57/100\n",
      "20/20 [==============================] - 0s 4ms/step - loss: 0.4153 - accuracy: 0.8013 - val_loss: 0.4576 - val_accuracy: 0.8247\n",
      "Epoch 58/100\n",
      "20/20 [==============================] - 0s 4ms/step - loss: 0.4154 - accuracy: 0.8046 - val_loss: 0.4592 - val_accuracy: 0.8247\n",
      "Epoch 59/100\n",
      "20/20 [==============================] - 0s 4ms/step - loss: 0.4137 - accuracy: 0.8078 - val_loss: 0.4591 - val_accuracy: 0.8117\n",
      "Epoch 60/100\n",
      "20/20 [==============================] - 0s 4ms/step - loss: 0.4139 - accuracy: 0.8094 - val_loss: 0.4566 - val_accuracy: 0.8182\n",
      "Epoch 61/100\n",
      "20/20 [==============================] - 0s 4ms/step - loss: 0.4124 - accuracy: 0.8046 - val_loss: 0.4582 - val_accuracy: 0.8052\n",
      "Epoch 62/100\n",
      "20/20 [==============================] - 0s 4ms/step - loss: 0.4122 - accuracy: 0.8046 - val_loss: 0.4588 - val_accuracy: 0.8117\n",
      "Epoch 63/100\n",
      "20/20 [==============================] - 0s 4ms/step - loss: 0.4118 - accuracy: 0.8143 - val_loss: 0.4584 - val_accuracy: 0.8182\n"
     ]
    },
    {
     "name": "stdout",
     "output_type": "stream",
     "text": [
      "Epoch 64/100\n",
      "20/20 [==============================] - 0s 4ms/step - loss: 0.4114 - accuracy: 0.8094 - val_loss: 0.4580 - val_accuracy: 0.8247\n",
      "Epoch 65/100\n",
      "20/20 [==============================] - 0s 4ms/step - loss: 0.4102 - accuracy: 0.8111 - val_loss: 0.4618 - val_accuracy: 0.8182\n",
      "Epoch 66/100\n",
      "20/20 [==============================] - 0s 4ms/step - loss: 0.4096 - accuracy: 0.8127 - val_loss: 0.4584 - val_accuracy: 0.8247\n",
      "Epoch 67/100\n",
      "20/20 [==============================] - 0s 3ms/step - loss: 0.4106 - accuracy: 0.8160 - val_loss: 0.4563 - val_accuracy: 0.8247\n",
      "Epoch 68/100\n",
      "20/20 [==============================] - 0s 4ms/step - loss: 0.4083 - accuracy: 0.8143 - val_loss: 0.4578 - val_accuracy: 0.8247\n",
      "Epoch 69/100\n",
      "20/20 [==============================] - 0s 3ms/step - loss: 0.4090 - accuracy: 0.8160 - val_loss: 0.4563 - val_accuracy: 0.8182\n",
      "Epoch 70/100\n",
      "20/20 [==============================] - 0s 4ms/step - loss: 0.4085 - accuracy: 0.8143 - val_loss: 0.4568 - val_accuracy: 0.8182\n",
      "Epoch 71/100\n",
      "20/20 [==============================] - 0s 3ms/step - loss: 0.4071 - accuracy: 0.8143 - val_loss: 0.4564 - val_accuracy: 0.8182\n",
      "Epoch 72/100\n",
      "20/20 [==============================] - 0s 4ms/step - loss: 0.4074 - accuracy: 0.8192 - val_loss: 0.4568 - val_accuracy: 0.8182\n",
      "Epoch 73/100\n",
      "20/20 [==============================] - 0s 4ms/step - loss: 0.4062 - accuracy: 0.8160 - val_loss: 0.4589 - val_accuracy: 0.8312\n",
      "Epoch 74/100\n",
      "20/20 [==============================] - 0s 4ms/step - loss: 0.4060 - accuracy: 0.8176 - val_loss: 0.4593 - val_accuracy: 0.8312\n",
      "Epoch 75/100\n",
      "20/20 [==============================] - 0s 4ms/step - loss: 0.4056 - accuracy: 0.8257 - val_loss: 0.4564 - val_accuracy: 0.8247\n",
      "Epoch 76/100\n",
      "20/20 [==============================] - 0s 3ms/step - loss: 0.4054 - accuracy: 0.8143 - val_loss: 0.4575 - val_accuracy: 0.8312\n",
      "Epoch 77/100\n",
      "20/20 [==============================] - 0s 4ms/step - loss: 0.4051 - accuracy: 0.8127 - val_loss: 0.4578 - val_accuracy: 0.8312\n",
      "Epoch 78/100\n",
      "20/20 [==============================] - 0s 4ms/step - loss: 0.4049 - accuracy: 0.8160 - val_loss: 0.4589 - val_accuracy: 0.8312\n",
      "Epoch 79/100\n",
      "20/20 [==============================] - 0s 4ms/step - loss: 0.4037 - accuracy: 0.8176 - val_loss: 0.4586 - val_accuracy: 0.8247\n",
      "Epoch 80/100\n",
      "20/20 [==============================] - 0s 3ms/step - loss: 0.4035 - accuracy: 0.8208 - val_loss: 0.4582 - val_accuracy: 0.8247\n",
      "Epoch 81/100\n",
      "20/20 [==============================] - 0s 4ms/step - loss: 0.4025 - accuracy: 0.8208 - val_loss: 0.4599 - val_accuracy: 0.8247\n",
      "Epoch 82/100\n",
      "20/20 [==============================] - 0s 3ms/step - loss: 0.4023 - accuracy: 0.8208 - val_loss: 0.4620 - val_accuracy: 0.8247\n",
      "Epoch 83/100\n",
      "20/20 [==============================] - 0s 4ms/step - loss: 0.4015 - accuracy: 0.8225 - val_loss: 0.4611 - val_accuracy: 0.8247\n",
      "Epoch 84/100\n",
      "20/20 [==============================] - 0s 4ms/step - loss: 0.4016 - accuracy: 0.8225 - val_loss: 0.4595 - val_accuracy: 0.8247\n",
      "Epoch 85/100\n",
      "20/20 [==============================] - 0s 3ms/step - loss: 0.4011 - accuracy: 0.8208 - val_loss: 0.4594 - val_accuracy: 0.8247\n",
      "Epoch 86/100\n",
      "20/20 [==============================] - 0s 4ms/step - loss: 0.4003 - accuracy: 0.8257 - val_loss: 0.4625 - val_accuracy: 0.8247\n",
      "Epoch 87/100\n",
      "20/20 [==============================] - 0s 4ms/step - loss: 0.3999 - accuracy: 0.8208 - val_loss: 0.4621 - val_accuracy: 0.8182\n",
      "Epoch 88/100\n",
      "20/20 [==============================] - 0s 4ms/step - loss: 0.3994 - accuracy: 0.8257 - val_loss: 0.4590 - val_accuracy: 0.8182\n",
      "Epoch 89/100\n",
      "20/20 [==============================] - 0s 3ms/step - loss: 0.3985 - accuracy: 0.8225 - val_loss: 0.4610 - val_accuracy: 0.8182\n",
      "Epoch 90/100\n",
      "20/20 [==============================] - 0s 3ms/step - loss: 0.3985 - accuracy: 0.8241 - val_loss: 0.4586 - val_accuracy: 0.8182\n",
      "Epoch 91/100\n",
      "20/20 [==============================] - 0s 4ms/step - loss: 0.3978 - accuracy: 0.8241 - val_loss: 0.4607 - val_accuracy: 0.8312\n",
      "Epoch 92/100\n",
      "20/20 [==============================] - 0s 4ms/step - loss: 0.3977 - accuracy: 0.8274 - val_loss: 0.4623 - val_accuracy: 0.8182\n",
      "Epoch 93/100\n",
      "20/20 [==============================] - 0s 4ms/step - loss: 0.3962 - accuracy: 0.8241 - val_loss: 0.4595 - val_accuracy: 0.8182\n",
      "Epoch 94/100\n",
      "20/20 [==============================] - 0s 4ms/step - loss: 0.3964 - accuracy: 0.8225 - val_loss: 0.4582 - val_accuracy: 0.8377\n",
      "Epoch 95/100\n",
      "20/20 [==============================] - 0s 3ms/step - loss: 0.3959 - accuracy: 0.8225 - val_loss: 0.4598 - val_accuracy: 0.8247\n",
      "Epoch 96/100\n",
      "20/20 [==============================] - 0s 3ms/step - loss: 0.3961 - accuracy: 0.8208 - val_loss: 0.4612 - val_accuracy: 0.8247\n",
      "Epoch 97/100\n",
      "20/20 [==============================] - 0s 4ms/step - loss: 0.3946 - accuracy: 0.8274 - val_loss: 0.4632 - val_accuracy: 0.8182\n",
      "Epoch 98/100\n",
      "20/20 [==============================] - 0s 4ms/step - loss: 0.3947 - accuracy: 0.8192 - val_loss: 0.4634 - val_accuracy: 0.8182\n",
      "Epoch 99/100\n",
      "20/20 [==============================] - 0s 4ms/step - loss: 0.3941 - accuracy: 0.8274 - val_loss: 0.4617 - val_accuracy: 0.8182\n",
      "Epoch 100/100\n",
      "20/20 [==============================] - 0s 4ms/step - loss: 0.3936 - accuracy: 0.8322 - val_loss: 0.4610 - val_accuracy: 0.8182\n"
     ]
    },
    {
     "data": {
      "text/plain": [
       "<keras.src.callbacks.History at 0x27a03377610>"
      ]
     },
     "execution_count": 27,
     "metadata": {},
     "output_type": "execute_result"
    }
   ],
   "source": [
    "model.fit(x_train,y_train,epochs=100,initial_epoch=5,validation_data=(x_test,y_test))"
   ]
  },
  {
   "cell_type": "code",
   "execution_count": null,
   "id": "2aea86fb",
   "metadata": {},
   "outputs": [],
   "source": []
  }
 ],
 "metadata": {
  "kernelspec": {
   "display_name": "Python 3 (ipykernel)",
   "language": "python",
   "name": "python3"
  },
  "language_info": {
   "codemirror_mode": {
    "name": "ipython",
    "version": 3
   },
   "file_extension": ".py",
   "mimetype": "text/x-python",
   "name": "python",
   "nbconvert_exporter": "python",
   "pygments_lexer": "ipython3",
   "version": "3.9.7"
  }
 },
 "nbformat": 4,
 "nbformat_minor": 5
}
