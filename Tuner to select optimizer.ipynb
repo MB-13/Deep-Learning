{
 "cells": [
  {
   "cell_type": "code",
   "execution_count": 1,
   "id": "397be82a",
   "metadata": {},
   "outputs": [],
   "source": [
    "import pandas as pd\n",
    "import numpy as np\n",
    "import matplotlib.pyplot as plt"
   ]
  },
  {
   "cell_type": "code",
   "execution_count": 2,
   "id": "c528d0b9",
   "metadata": {},
   "outputs": [],
   "source": [
    "df = pd.read_csv(\"D:\\study\\ML\\diabetes.csv\")"
   ]
  },
  {
   "cell_type": "code",
   "execution_count": 3,
   "id": "eeb61dc4",
   "metadata": {},
   "outputs": [
    {
     "data": {
      "text/html": [
       "<div>\n",
       "<style scoped>\n",
       "    .dataframe tbody tr th:only-of-type {\n",
       "        vertical-align: middle;\n",
       "    }\n",
       "\n",
       "    .dataframe tbody tr th {\n",
       "        vertical-align: top;\n",
       "    }\n",
       "\n",
       "    .dataframe thead th {\n",
       "        text-align: right;\n",
       "    }\n",
       "</style>\n",
       "<table border=\"1\" class=\"dataframe\">\n",
       "  <thead>\n",
       "    <tr style=\"text-align: right;\">\n",
       "      <th></th>\n",
       "      <th>Pregnancies</th>\n",
       "      <th>Glucose</th>\n",
       "      <th>BloodPressure</th>\n",
       "      <th>SkinThickness</th>\n",
       "      <th>Insulin</th>\n",
       "      <th>BMI</th>\n",
       "      <th>DiabetesPedigreeFunction</th>\n",
       "      <th>Age</th>\n",
       "      <th>Outcome</th>\n",
       "    </tr>\n",
       "  </thead>\n",
       "  <tbody>\n",
       "    <tr>\n",
       "      <th>0</th>\n",
       "      <td>6</td>\n",
       "      <td>148</td>\n",
       "      <td>72</td>\n",
       "      <td>35</td>\n",
       "      <td>0</td>\n",
       "      <td>33.6</td>\n",
       "      <td>0.627</td>\n",
       "      <td>50</td>\n",
       "      <td>1</td>\n",
       "    </tr>\n",
       "    <tr>\n",
       "      <th>1</th>\n",
       "      <td>1</td>\n",
       "      <td>85</td>\n",
       "      <td>66</td>\n",
       "      <td>29</td>\n",
       "      <td>0</td>\n",
       "      <td>26.6</td>\n",
       "      <td>0.351</td>\n",
       "      <td>31</td>\n",
       "      <td>0</td>\n",
       "    </tr>\n",
       "    <tr>\n",
       "      <th>2</th>\n",
       "      <td>8</td>\n",
       "      <td>183</td>\n",
       "      <td>64</td>\n",
       "      <td>0</td>\n",
       "      <td>0</td>\n",
       "      <td>23.3</td>\n",
       "      <td>0.672</td>\n",
       "      <td>32</td>\n",
       "      <td>1</td>\n",
       "    </tr>\n",
       "    <tr>\n",
       "      <th>3</th>\n",
       "      <td>1</td>\n",
       "      <td>89</td>\n",
       "      <td>66</td>\n",
       "      <td>23</td>\n",
       "      <td>94</td>\n",
       "      <td>28.1</td>\n",
       "      <td>0.167</td>\n",
       "      <td>21</td>\n",
       "      <td>0</td>\n",
       "    </tr>\n",
       "    <tr>\n",
       "      <th>4</th>\n",
       "      <td>0</td>\n",
       "      <td>137</td>\n",
       "      <td>40</td>\n",
       "      <td>35</td>\n",
       "      <td>168</td>\n",
       "      <td>43.1</td>\n",
       "      <td>2.288</td>\n",
       "      <td>33</td>\n",
       "      <td>1</td>\n",
       "    </tr>\n",
       "  </tbody>\n",
       "</table>\n",
       "</div>"
      ],
      "text/plain": [
       "   Pregnancies  Glucose  BloodPressure  SkinThickness  Insulin   BMI  \\\n",
       "0            6      148             72             35        0  33.6   \n",
       "1            1       85             66             29        0  26.6   \n",
       "2            8      183             64              0        0  23.3   \n",
       "3            1       89             66             23       94  28.1   \n",
       "4            0      137             40             35      168  43.1   \n",
       "\n",
       "   DiabetesPedigreeFunction  Age  Outcome  \n",
       "0                     0.627   50        1  \n",
       "1                     0.351   31        0  \n",
       "2                     0.672   32        1  \n",
       "3                     0.167   21        0  \n",
       "4                     2.288   33        1  "
      ]
     },
     "execution_count": 3,
     "metadata": {},
     "output_type": "execute_result"
    }
   ],
   "source": [
    "df.head()"
   ]
  },
  {
   "cell_type": "code",
   "execution_count": 4,
   "id": "50c1a3be",
   "metadata": {},
   "outputs": [
    {
     "data": {
      "text/plain": [
       "Pregnancies                 0.221898\n",
       "Glucose                     0.466581\n",
       "BloodPressure               0.065068\n",
       "SkinThickness               0.074752\n",
       "Insulin                     0.130548\n",
       "BMI                         0.292695\n",
       "DiabetesPedigreeFunction    0.173844\n",
       "Age                         0.238356\n",
       "Outcome                     1.000000\n",
       "Name: Outcome, dtype: float64"
      ]
     },
     "execution_count": 4,
     "metadata": {},
     "output_type": "execute_result"
    }
   ],
   "source": [
    "df.corr()['Outcome']"
   ]
  },
  {
   "cell_type": "code",
   "execution_count": 5,
   "id": "8af36b27",
   "metadata": {},
   "outputs": [],
   "source": [
    "X = df.iloc[:,:-1].values\n",
    "y = df.iloc[:,-1].values"
   ]
  },
  {
   "cell_type": "code",
   "execution_count": 6,
   "id": "990b3e3a",
   "metadata": {},
   "outputs": [
    {
     "name": "stderr",
     "output_type": "stream",
     "text": [
      "C:\\Users\\User\\anaconda3\\lib\\site-packages\\scipy\\__init__.py:146: UserWarning: A NumPy version >=1.16.5 and <1.23.0 is required for this version of SciPy (detected version 1.26.2\n",
      "  warnings.warn(f\"A NumPy version >={np_minversion} and <{np_maxversion}\"\n"
     ]
    }
   ],
   "source": [
    "from sklearn.preprocessing import StandardScaler\n",
    "scaler = StandardScaler()\n",
    "X_skl = scaler.fit_transform(X)"
   ]
  },
  {
   "cell_type": "code",
   "execution_count": 7,
   "id": "00bc1786",
   "metadata": {},
   "outputs": [
    {
     "data": {
      "text/plain": [
       "(768, 8)"
      ]
     },
     "execution_count": 7,
     "metadata": {},
     "output_type": "execute_result"
    }
   ],
   "source": [
    "X_skl.shape"
   ]
  },
  {
   "cell_type": "code",
   "execution_count": 8,
   "id": "fef1b774",
   "metadata": {},
   "outputs": [],
   "source": [
    "from sklearn.model_selection import train_test_split\n",
    "x_train,x_test,y_train,y_test = train_test_split(X_skl,y,test_size=0.2,random_state=1)"
   ]
  },
  {
   "cell_type": "code",
   "execution_count": 9,
   "id": "dcf48cba",
   "metadata": {},
   "outputs": [
    {
     "name": "stdout",
     "output_type": "stream",
     "text": [
      "WARNING:tensorflow:From C:\\Users\\User\\anaconda3\\lib\\site-packages\\keras\\src\\losses.py:2976: The name tf.losses.sparse_softmax_cross_entropy is deprecated. Please use tf.compat.v1.losses.sparse_softmax_cross_entropy instead.\n",
      "\n"
     ]
    }
   ],
   "source": [
    "import tensorflow\n",
    "from tensorflow import keras\n",
    "from tensorflow.keras import Sequential\n",
    "from tensorflow.keras.layers import Dense"
   ]
  },
  {
   "cell_type": "code",
   "execution_count": 10,
   "id": "11a236b6",
   "metadata": {},
   "outputs": [
    {
     "name": "stdout",
     "output_type": "stream",
     "text": [
      "WARNING:tensorflow:From C:\\Users\\User\\anaconda3\\lib\\site-packages\\keras\\src\\backend.py:873: The name tf.get_default_graph is deprecated. Please use tf.compat.v1.get_default_graph instead.\n",
      "\n",
      "WARNING:tensorflow:From C:\\Users\\User\\anaconda3\\lib\\site-packages\\keras\\src\\optimizers\\__init__.py:309: The name tf.train.Optimizer is deprecated. Please use tf.compat.v1.train.Optimizer instead.\n",
      "\n"
     ]
    }
   ],
   "source": [
    "model = Sequential()\n",
    "\n",
    "model.add(Dense(32,activation='relu',input_dim=8))\n",
    "model.add(Dense(1,activation='sigmoid'))\n",
    "\n",
    "model.compile(optimizer='Adam',loss='binary_crossentropy',metrics=['accuracy'])"
   ]
  },
  {
   "cell_type": "code",
   "execution_count": 11,
   "id": "54cd98a9",
   "metadata": {},
   "outputs": [
    {
     "name": "stdout",
     "output_type": "stream",
     "text": [
      "Epoch 1/10\n",
      "WARNING:tensorflow:From C:\\Users\\User\\anaconda3\\lib\\site-packages\\keras\\src\\utils\\tf_utils.py:492: The name tf.ragged.RaggedTensorValue is deprecated. Please use tf.compat.v1.ragged.RaggedTensorValue instead.\n",
      "\n",
      "WARNING:tensorflow:From C:\\Users\\User\\anaconda3\\lib\\site-packages\\keras\\src\\engine\\base_layer_utils.py:384: The name tf.executing_eagerly_outside_functions is deprecated. Please use tf.compat.v1.executing_eagerly_outside_functions instead.\n",
      "\n",
      "20/20 [==============================] - 1s 18ms/step - loss: 0.7032 - accuracy: 0.5505 - val_loss: 0.6821 - val_accuracy: 0.6623\n",
      "Epoch 2/10\n",
      "20/20 [==============================] - 0s 6ms/step - loss: 0.6511 - accuracy: 0.6629 - val_loss: 0.6365 - val_accuracy: 0.7078\n",
      "Epoch 3/10\n",
      "20/20 [==============================] - 0s 6ms/step - loss: 0.6115 - accuracy: 0.6906 - val_loss: 0.6016 - val_accuracy: 0.7078\n",
      "Epoch 4/10\n",
      "20/20 [==============================] - 0s 5ms/step - loss: 0.5806 - accuracy: 0.7117 - val_loss: 0.5748 - val_accuracy: 0.7208\n",
      "Epoch 5/10\n",
      "20/20 [==============================] - 0s 5ms/step - loss: 0.5565 - accuracy: 0.7231 - val_loss: 0.5531 - val_accuracy: 0.7468\n",
      "Epoch 6/10\n",
      "20/20 [==============================] - 0s 5ms/step - loss: 0.5365 - accuracy: 0.7345 - val_loss: 0.5381 - val_accuracy: 0.7662\n",
      "Epoch 7/10\n",
      "20/20 [==============================] - 0s 6ms/step - loss: 0.5216 - accuracy: 0.7508 - val_loss: 0.5260 - val_accuracy: 0.7597\n",
      "Epoch 8/10\n",
      "20/20 [==============================] - 0s 6ms/step - loss: 0.5082 - accuracy: 0.7573 - val_loss: 0.5150 - val_accuracy: 0.7597\n",
      "Epoch 9/10\n",
      "20/20 [==============================] - 0s 6ms/step - loss: 0.4973 - accuracy: 0.7638 - val_loss: 0.5058 - val_accuracy: 0.7662\n",
      "Epoch 10/10\n",
      "20/20 [==============================] - 0s 6ms/step - loss: 0.4889 - accuracy: 0.7671 - val_loss: 0.4997 - val_accuracy: 0.7597\n"
     ]
    },
    {
     "data": {
      "text/plain": [
       "<keras.src.callbacks.History at 0x228e9fc7d90>"
      ]
     },
     "execution_count": 11,
     "metadata": {},
     "output_type": "execute_result"
    }
   ],
   "source": [
    "model.fit(x_train,y_train,batch_size=32,epochs=10,validation_data=(x_test,y_test))"
   ]
  },
  {
   "cell_type": "code",
   "execution_count": 15,
   "id": "0636f6eb",
   "metadata": {},
   "outputs": [
    {
     "name": "stdout",
     "output_type": "stream",
     "text": [
      "Collecting keras-tuner\n",
      "  Downloading keras_tuner-1.4.6-py3-none-any.whl (128 kB)\n",
      "Requirement already satisfied: keras in c:\\users\\user\\anaconda3\\lib\\site-packages (from keras-tuner) (2.15.0)\n",
      "Requirement already satisfied: requests in c:\\users\\user\\anaconda3\\lib\\site-packages (from keras-tuner) (2.26.0)\n",
      "Requirement already satisfied: packaging in c:\\users\\user\\anaconda3\\lib\\site-packages (from keras-tuner) (21.0)\n",
      "Collecting kt-legacy\n",
      "  Downloading kt_legacy-1.0.5-py3-none-any.whl (9.6 kB)\n",
      "Requirement already satisfied: pyparsing>=2.0.2 in c:\\users\\user\\anaconda3\\lib\\site-packages (from packaging->keras-tuner) (3.0.4)\n",
      "Requirement already satisfied: certifi>=2017.4.17 in c:\\users\\user\\anaconda3\\lib\\site-packages (from requests->keras-tuner) (2021.10.8)\n",
      "Requirement already satisfied: idna<4,>=2.5 in c:\\users\\user\\anaconda3\\lib\\site-packages (from requests->keras-tuner) (3.2)\n",
      "Requirement already satisfied: urllib3<1.27,>=1.21.1 in c:\\users\\user\\anaconda3\\lib\\site-packages (from requests->keras-tuner) (1.26.7)\n",
      "Requirement already satisfied: charset-normalizer~=2.0.0 in c:\\users\\user\\anaconda3\\lib\\site-packages (from requests->keras-tuner) (2.0.4)\n",
      "Installing collected packages: kt-legacy, keras-tuner\n",
      "Successfully installed keras-tuner-1.4.6 kt-legacy-1.0.5Note: you may need to restart the kernel to use updated packages.\n",
      "\n"
     ]
    }
   ],
   "source": [
    "# pip install keras-tuner"
   ]
  },
  {
   "cell_type": "code",
   "execution_count": 18,
   "id": "b750ed1e",
   "metadata": {},
   "outputs": [],
   "source": [
    "import kerastuner as kt"
   ]
  },
  {
   "cell_type": "markdown",
   "id": "984cfc44",
   "metadata": {},
   "source": [
    "# Tuner for selecting best optimizer"
   ]
  },
  {
   "cell_type": "code",
   "execution_count": 21,
   "id": "be4cae91",
   "metadata": {},
   "outputs": [],
   "source": [
    "# First create build_model function\n",
    "# hp is hyperparameter\n",
    "def build_model(hp):\n",
    "    # building a model\n",
    "    model = Sequential()\n",
    "    model.add(Dense(32,activation='relu',input_dim=8))\n",
    "    model.add(Dense(1,activation='sigmoid'))\n",
    "    \n",
    "    optimizers = hp.Choice('optimizer',values = ['adam','sgd','rmsprop','adadelta'])\n",
    "    model.compile(optimizer=optimizers,loss='binary_crossentropy',metrics=['accuracy'])\n",
    "    \n",
    "    return model"
   ]
  },
  {
   "cell_type": "code",
   "execution_count": 22,
   "id": "0689e425",
   "metadata": {},
   "outputs": [],
   "source": [
    "tuner = kt.RandomSearch(build_model,\n",
    "                       objective ='val_accuracy',\n",
    "                       max_trials=5)"
   ]
  },
  {
   "cell_type": "code",
   "execution_count": 23,
   "id": "64f61afa",
   "metadata": {},
   "outputs": [
    {
     "name": "stdout",
     "output_type": "stream",
     "text": [
      "Trial 4 Complete [00h 00m 01s]\n",
      "val_accuracy: 0.5974025726318359\n",
      "\n",
      "Best val_accuracy So Far: 0.7792207598686218\n",
      "Total elapsed time: 00h 00m 07s\n"
     ]
    }
   ],
   "source": [
    "tuner.search(x_train,y_train,epochs=5,validation_data=(x_test,y_test))"
   ]
  },
  {
   "cell_type": "code",
   "execution_count": 24,
   "id": "225783e9",
   "metadata": {},
   "outputs": [
    {
     "data": {
      "text/plain": [
       "{'optimizer': 'rmsprop'}"
      ]
     },
     "execution_count": 24,
     "metadata": {},
     "output_type": "execute_result"
    }
   ],
   "source": [
    "tuner.get_best_hyperparameters()[0].values"
   ]
  },
  {
   "cell_type": "code",
   "execution_count": 27,
   "id": "6a064f52",
   "metadata": {},
   "outputs": [
    {
     "name": "stdout",
     "output_type": "stream",
     "text": [
      "WARNING:tensorflow:Detecting that an object or model or tf.train.Checkpoint is being deleted with unrestored values. See the following logs for the specific values in question. To silence these warnings, use `status.expect_partial()`. See https://www.tensorflow.org/api_docs/python/tf/train/Checkpoint#restorefor details about the status object returned by the restore function.\n",
      "WARNING:tensorflow:Value in checkpoint could not be found in the restored object: (root).optimizer._variables.1\n",
      "WARNING:tensorflow:Value in checkpoint could not be found in the restored object: (root).optimizer._variables.2\n",
      "WARNING:tensorflow:Value in checkpoint could not be found in the restored object: (root).optimizer._variables.3\n",
      "WARNING:tensorflow:Value in checkpoint could not be found in the restored object: (root).optimizer._variables.4\n",
      "Model: \"sequential\"\n",
      "_________________________________________________________________\n",
      " Layer (type)                Output Shape              Param #   \n",
      "=================================================================\n",
      " dense (Dense)               (None, 32)                288       \n",
      "                                                                 \n",
      " dense_1 (Dense)             (None, 1)                 33        \n",
      "                                                                 \n",
      "=================================================================\n",
      "Total params: 321 (1.25 KB)\n",
      "Trainable params: 321 (1.25 KB)\n",
      "Non-trainable params: 0 (0.00 Byte)\n",
      "_________________________________________________________________\n"
     ]
    }
   ],
   "source": [
    "# to get best performing model\n",
    "model = tuner.get_best_models(num_models=1)[0]\n",
    "model.summary()"
   ]
  },
  {
   "cell_type": "code",
   "execution_count": 30,
   "id": "46f06c46",
   "metadata": {},
   "outputs": [
    {
     "name": "stdout",
     "output_type": "stream",
     "text": [
      "Epoch 6/100\n",
      "20/20 [==============================] - 1s 12ms/step - loss: 0.5268 - accuracy: 0.7427 - val_loss: 0.5170 - val_accuracy: 0.7792\n",
      "Epoch 7/100\n",
      "20/20 [==============================] - 0s 5ms/step - loss: 0.5112 - accuracy: 0.7492 - val_loss: 0.5037 - val_accuracy: 0.7857\n",
      "Epoch 8/100\n",
      "20/20 [==============================] - 0s 5ms/step - loss: 0.4982 - accuracy: 0.7590 - val_loss: 0.4939 - val_accuracy: 0.7922\n",
      "Epoch 9/100\n",
      "20/20 [==============================] - 0s 5ms/step - loss: 0.4893 - accuracy: 0.7492 - val_loss: 0.4896 - val_accuracy: 0.7857\n",
      "Epoch 10/100\n",
      "20/20 [==============================] - 0s 5ms/step - loss: 0.4821 - accuracy: 0.7573 - val_loss: 0.4845 - val_accuracy: 0.7857\n",
      "Epoch 11/100\n",
      "20/20 [==============================] - 0s 5ms/step - loss: 0.4760 - accuracy: 0.7687 - val_loss: 0.4815 - val_accuracy: 0.7792\n",
      "Epoch 12/100\n",
      "20/20 [==============================] - 0s 5ms/step - loss: 0.4718 - accuracy: 0.7671 - val_loss: 0.4808 - val_accuracy: 0.7792\n",
      "Epoch 13/100\n",
      "20/20 [==============================] - 0s 5ms/step - loss: 0.4677 - accuracy: 0.7785 - val_loss: 0.4792 - val_accuracy: 0.7792\n",
      "Epoch 14/100\n",
      "20/20 [==============================] - 0s 5ms/step - loss: 0.4651 - accuracy: 0.7704 - val_loss: 0.4798 - val_accuracy: 0.7792\n",
      "Epoch 15/100\n",
      "20/20 [==============================] - 0s 5ms/step - loss: 0.4622 - accuracy: 0.7769 - val_loss: 0.4794 - val_accuracy: 0.7857\n",
      "Epoch 16/100\n",
      "20/20 [==============================] - 0s 5ms/step - loss: 0.4602 - accuracy: 0.7769 - val_loss: 0.4794 - val_accuracy: 0.7857\n",
      "Epoch 17/100\n",
      "20/20 [==============================] - 0s 5ms/step - loss: 0.4580 - accuracy: 0.7720 - val_loss: 0.4788 - val_accuracy: 0.7857\n",
      "Epoch 18/100\n",
      "20/20 [==============================] - 0s 5ms/step - loss: 0.4563 - accuracy: 0.7752 - val_loss: 0.4785 - val_accuracy: 0.7857\n",
      "Epoch 19/100\n",
      "20/20 [==============================] - 0s 5ms/step - loss: 0.4551 - accuracy: 0.7769 - val_loss: 0.4780 - val_accuracy: 0.7857\n",
      "Epoch 20/100\n",
      "20/20 [==============================] - 0s 5ms/step - loss: 0.4539 - accuracy: 0.7752 - val_loss: 0.4787 - val_accuracy: 0.7857\n",
      "Epoch 21/100\n",
      "20/20 [==============================] - 0s 5ms/step - loss: 0.4525 - accuracy: 0.7785 - val_loss: 0.4785 - val_accuracy: 0.7922\n",
      "Epoch 22/100\n",
      "20/20 [==============================] - 0s 5ms/step - loss: 0.4516 - accuracy: 0.7818 - val_loss: 0.4778 - val_accuracy: 0.7857\n",
      "Epoch 23/100\n",
      "20/20 [==============================] - 0s 5ms/step - loss: 0.4505 - accuracy: 0.7801 - val_loss: 0.4766 - val_accuracy: 0.7857\n",
      "Epoch 24/100\n",
      "20/20 [==============================] - 0s 5ms/step - loss: 0.4499 - accuracy: 0.7752 - val_loss: 0.4763 - val_accuracy: 0.7857\n",
      "Epoch 25/100\n",
      "20/20 [==============================] - 0s 4ms/step - loss: 0.4492 - accuracy: 0.7801 - val_loss: 0.4772 - val_accuracy: 0.7727\n",
      "Epoch 26/100\n",
      "20/20 [==============================] - 0s 4ms/step - loss: 0.4483 - accuracy: 0.7801 - val_loss: 0.4766 - val_accuracy: 0.7727\n",
      "Epoch 27/100\n",
      "20/20 [==============================] - 0s 4ms/step - loss: 0.4477 - accuracy: 0.7818 - val_loss: 0.4763 - val_accuracy: 0.7727\n",
      "Epoch 28/100\n",
      "20/20 [==============================] - 0s 4ms/step - loss: 0.4471 - accuracy: 0.7769 - val_loss: 0.4761 - val_accuracy: 0.7792\n",
      "Epoch 29/100\n",
      "20/20 [==============================] - 0s 4ms/step - loss: 0.4465 - accuracy: 0.7785 - val_loss: 0.4770 - val_accuracy: 0.7662\n",
      "Epoch 30/100\n",
      "20/20 [==============================] - 0s 4ms/step - loss: 0.4459 - accuracy: 0.7785 - val_loss: 0.4767 - val_accuracy: 0.7662\n",
      "Epoch 31/100\n",
      "20/20 [==============================] - 0s 4ms/step - loss: 0.4450 - accuracy: 0.7801 - val_loss: 0.4777 - val_accuracy: 0.7662\n",
      "Epoch 32/100\n",
      "20/20 [==============================] - 0s 4ms/step - loss: 0.4448 - accuracy: 0.7834 - val_loss: 0.4778 - val_accuracy: 0.7662\n",
      "Epoch 33/100\n",
      "20/20 [==============================] - 0s 4ms/step - loss: 0.4438 - accuracy: 0.7850 - val_loss: 0.4792 - val_accuracy: 0.7662\n",
      "Epoch 34/100\n",
      "20/20 [==============================] - 0s 4ms/step - loss: 0.4433 - accuracy: 0.7866 - val_loss: 0.4811 - val_accuracy: 0.7662\n",
      "Epoch 35/100\n",
      "20/20 [==============================] - 0s 4ms/step - loss: 0.4430 - accuracy: 0.7883 - val_loss: 0.4798 - val_accuracy: 0.7662\n",
      "Epoch 36/100\n",
      "20/20 [==============================] - 0s 4ms/step - loss: 0.4425 - accuracy: 0.7899 - val_loss: 0.4790 - val_accuracy: 0.7662\n",
      "Epoch 37/100\n",
      "20/20 [==============================] - 0s 4ms/step - loss: 0.4419 - accuracy: 0.7883 - val_loss: 0.4786 - val_accuracy: 0.7662\n",
      "Epoch 38/100\n",
      "20/20 [==============================] - 0s 4ms/step - loss: 0.4416 - accuracy: 0.7834 - val_loss: 0.4786 - val_accuracy: 0.7727\n",
      "Epoch 39/100\n",
      "20/20 [==============================] - 0s 4ms/step - loss: 0.4409 - accuracy: 0.7850 - val_loss: 0.4775 - val_accuracy: 0.7857\n",
      "Epoch 40/100\n",
      "20/20 [==============================] - 0s 4ms/step - loss: 0.4406 - accuracy: 0.7785 - val_loss: 0.4775 - val_accuracy: 0.7792\n",
      "Epoch 41/100\n",
      "20/20 [==============================] - 0s 4ms/step - loss: 0.4398 - accuracy: 0.7785 - val_loss: 0.4774 - val_accuracy: 0.7857\n",
      "Epoch 42/100\n",
      "20/20 [==============================] - 0s 5ms/step - loss: 0.4397 - accuracy: 0.7834 - val_loss: 0.4785 - val_accuracy: 0.7792\n",
      "Epoch 43/100\n",
      "20/20 [==============================] - 0s 4ms/step - loss: 0.4388 - accuracy: 0.7850 - val_loss: 0.4787 - val_accuracy: 0.7792\n",
      "Epoch 44/100\n",
      "20/20 [==============================] - 0s 4ms/step - loss: 0.4387 - accuracy: 0.7883 - val_loss: 0.4781 - val_accuracy: 0.7857\n",
      "Epoch 45/100\n",
      "20/20 [==============================] - 0s 4ms/step - loss: 0.4379 - accuracy: 0.7866 - val_loss: 0.4777 - val_accuracy: 0.7857\n",
      "Epoch 46/100\n",
      "20/20 [==============================] - 0s 4ms/step - loss: 0.4375 - accuracy: 0.7883 - val_loss: 0.4774 - val_accuracy: 0.7857\n",
      "Epoch 47/100\n",
      "20/20 [==============================] - 0s 4ms/step - loss: 0.4374 - accuracy: 0.7850 - val_loss: 0.4775 - val_accuracy: 0.7857\n",
      "Epoch 48/100\n",
      "20/20 [==============================] - 0s 4ms/step - loss: 0.4371 - accuracy: 0.7801 - val_loss: 0.4771 - val_accuracy: 0.7857\n",
      "Epoch 49/100\n",
      "20/20 [==============================] - 0s 4ms/step - loss: 0.4362 - accuracy: 0.7801 - val_loss: 0.4778 - val_accuracy: 0.7857\n",
      "Epoch 50/100\n",
      "20/20 [==============================] - 0s 4ms/step - loss: 0.4358 - accuracy: 0.7834 - val_loss: 0.4786 - val_accuracy: 0.7792\n",
      "Epoch 51/100\n",
      "20/20 [==============================] - 0s 4ms/step - loss: 0.4353 - accuracy: 0.7850 - val_loss: 0.4786 - val_accuracy: 0.7857\n",
      "Epoch 52/100\n",
      "20/20 [==============================] - 0s 3ms/step - loss: 0.4352 - accuracy: 0.7850 - val_loss: 0.4775 - val_accuracy: 0.7857\n",
      "Epoch 53/100\n",
      "20/20 [==============================] - 0s 4ms/step - loss: 0.4344 - accuracy: 0.7834 - val_loss: 0.4782 - val_accuracy: 0.7857\n",
      "Epoch 54/100\n",
      "20/20 [==============================] - 0s 4ms/step - loss: 0.4343 - accuracy: 0.7883 - val_loss: 0.4776 - val_accuracy: 0.7857\n",
      "Epoch 55/100\n",
      "20/20 [==============================] - 0s 4ms/step - loss: 0.4339 - accuracy: 0.7850 - val_loss: 0.4792 - val_accuracy: 0.7857\n",
      "Epoch 56/100\n",
      "20/20 [==============================] - 0s 4ms/step - loss: 0.4336 - accuracy: 0.7850 - val_loss: 0.4790 - val_accuracy: 0.7792\n",
      "Epoch 57/100\n",
      "20/20 [==============================] - 0s 4ms/step - loss: 0.4333 - accuracy: 0.7866 - val_loss: 0.4773 - val_accuracy: 0.7857\n",
      "Epoch 58/100\n",
      "20/20 [==============================] - 0s 4ms/step - loss: 0.4327 - accuracy: 0.7883 - val_loss: 0.4769 - val_accuracy: 0.7857\n",
      "Epoch 59/100\n",
      "20/20 [==============================] - 0s 4ms/step - loss: 0.4322 - accuracy: 0.7899 - val_loss: 0.4771 - val_accuracy: 0.7857\n",
      "Epoch 60/100\n",
      "20/20 [==============================] - 0s 4ms/step - loss: 0.4322 - accuracy: 0.7866 - val_loss: 0.4772 - val_accuracy: 0.7857\n",
      "Epoch 61/100\n",
      "20/20 [==============================] - 0s 4ms/step - loss: 0.4318 - accuracy: 0.7883 - val_loss: 0.4795 - val_accuracy: 0.7857\n",
      "Epoch 62/100\n",
      "20/20 [==============================] - 0s 4ms/step - loss: 0.4314 - accuracy: 0.7866 - val_loss: 0.4803 - val_accuracy: 0.7857\n",
      "Epoch 63/100\n",
      "20/20 [==============================] - 0s 5ms/step - loss: 0.4310 - accuracy: 0.7915 - val_loss: 0.4798 - val_accuracy: 0.7857\n"
     ]
    },
    {
     "name": "stdout",
     "output_type": "stream",
     "text": [
      "Epoch 64/100\n",
      "20/20 [==============================] - 0s 4ms/step - loss: 0.4303 - accuracy: 0.7883 - val_loss: 0.4784 - val_accuracy: 0.7857\n",
      "Epoch 65/100\n",
      "20/20 [==============================] - 0s 4ms/step - loss: 0.4302 - accuracy: 0.7850 - val_loss: 0.4789 - val_accuracy: 0.7857\n",
      "Epoch 66/100\n",
      "20/20 [==============================] - 0s 4ms/step - loss: 0.4302 - accuracy: 0.7932 - val_loss: 0.4801 - val_accuracy: 0.7857\n",
      "Epoch 67/100\n",
      "20/20 [==============================] - 0s 4ms/step - loss: 0.4296 - accuracy: 0.7915 - val_loss: 0.4783 - val_accuracy: 0.7857\n",
      "Epoch 68/100\n",
      "20/20 [==============================] - 0s 4ms/step - loss: 0.4293 - accuracy: 0.7899 - val_loss: 0.4788 - val_accuracy: 0.7857\n",
      "Epoch 69/100\n",
      "20/20 [==============================] - 0s 4ms/step - loss: 0.4290 - accuracy: 0.7850 - val_loss: 0.4788 - val_accuracy: 0.7857\n",
      "Epoch 70/100\n",
      "20/20 [==============================] - 0s 4ms/step - loss: 0.4287 - accuracy: 0.7915 - val_loss: 0.4784 - val_accuracy: 0.7857\n",
      "Epoch 71/100\n",
      "20/20 [==============================] - 0s 4ms/step - loss: 0.4282 - accuracy: 0.7883 - val_loss: 0.4791 - val_accuracy: 0.7857\n",
      "Epoch 72/100\n",
      "20/20 [==============================] - 0s 4ms/step - loss: 0.4279 - accuracy: 0.7932 - val_loss: 0.4781 - val_accuracy: 0.7857\n",
      "Epoch 73/100\n",
      "20/20 [==============================] - 0s 4ms/step - loss: 0.4276 - accuracy: 0.7915 - val_loss: 0.4782 - val_accuracy: 0.7857\n",
      "Epoch 74/100\n",
      "20/20 [==============================] - 0s 4ms/step - loss: 0.4270 - accuracy: 0.7932 - val_loss: 0.4781 - val_accuracy: 0.7857\n",
      "Epoch 75/100\n",
      "20/20 [==============================] - 0s 4ms/step - loss: 0.4265 - accuracy: 0.7899 - val_loss: 0.4791 - val_accuracy: 0.7857\n",
      "Epoch 76/100\n",
      "20/20 [==============================] - 0s 4ms/step - loss: 0.4262 - accuracy: 0.7964 - val_loss: 0.4788 - val_accuracy: 0.7857\n",
      "Epoch 77/100\n",
      "20/20 [==============================] - 0s 4ms/step - loss: 0.4259 - accuracy: 0.7948 - val_loss: 0.4795 - val_accuracy: 0.7922\n",
      "Epoch 78/100\n",
      "20/20 [==============================] - 0s 4ms/step - loss: 0.4260 - accuracy: 0.7997 - val_loss: 0.4800 - val_accuracy: 0.7857\n",
      "Epoch 79/100\n",
      "20/20 [==============================] - 0s 4ms/step - loss: 0.4255 - accuracy: 0.7948 - val_loss: 0.4795 - val_accuracy: 0.7857\n",
      "Epoch 80/100\n",
      "20/20 [==============================] - 0s 4ms/step - loss: 0.4249 - accuracy: 0.7964 - val_loss: 0.4778 - val_accuracy: 0.7922\n",
      "Epoch 81/100\n",
      "20/20 [==============================] - 0s 4ms/step - loss: 0.4246 - accuracy: 0.7899 - val_loss: 0.4775 - val_accuracy: 0.7922\n",
      "Epoch 82/100\n",
      "20/20 [==============================] - 0s 4ms/step - loss: 0.4242 - accuracy: 0.7932 - val_loss: 0.4774 - val_accuracy: 0.7922\n",
      "Epoch 83/100\n",
      "20/20 [==============================] - 0s 4ms/step - loss: 0.4242 - accuracy: 0.7948 - val_loss: 0.4791 - val_accuracy: 0.7857\n",
      "Epoch 84/100\n",
      "20/20 [==============================] - 0s 5ms/step - loss: 0.4240 - accuracy: 0.7915 - val_loss: 0.4788 - val_accuracy: 0.7857\n",
      "Epoch 85/100\n",
      "20/20 [==============================] - 0s 4ms/step - loss: 0.4234 - accuracy: 0.7948 - val_loss: 0.4788 - val_accuracy: 0.7857\n",
      "Epoch 86/100\n",
      "20/20 [==============================] - 0s 4ms/step - loss: 0.4231 - accuracy: 0.7915 - val_loss: 0.4784 - val_accuracy: 0.7857\n",
      "Epoch 87/100\n",
      "20/20 [==============================] - 0s 4ms/step - loss: 0.4225 - accuracy: 0.7964 - val_loss: 0.4790 - val_accuracy: 0.7857\n",
      "Epoch 88/100\n",
      "20/20 [==============================] - 0s 4ms/step - loss: 0.4229 - accuracy: 0.7980 - val_loss: 0.4795 - val_accuracy: 0.7922\n",
      "Epoch 89/100\n",
      "20/20 [==============================] - 0s 4ms/step - loss: 0.4224 - accuracy: 0.7997 - val_loss: 0.4801 - val_accuracy: 0.7857\n",
      "Epoch 90/100\n",
      "20/20 [==============================] - 0s 5ms/step - loss: 0.4222 - accuracy: 0.7964 - val_loss: 0.4797 - val_accuracy: 0.7857\n",
      "Epoch 91/100\n",
      "20/20 [==============================] - 0s 4ms/step - loss: 0.4215 - accuracy: 0.7948 - val_loss: 0.4790 - val_accuracy: 0.7922\n",
      "Epoch 92/100\n",
      "20/20 [==============================] - 0s 4ms/step - loss: 0.4214 - accuracy: 0.7915 - val_loss: 0.4792 - val_accuracy: 0.7922\n",
      "Epoch 93/100\n",
      "20/20 [==============================] - 0s 4ms/step - loss: 0.4211 - accuracy: 0.7980 - val_loss: 0.4803 - val_accuracy: 0.7857\n",
      "Epoch 94/100\n",
      "20/20 [==============================] - 0s 4ms/step - loss: 0.4208 - accuracy: 0.7980 - val_loss: 0.4808 - val_accuracy: 0.7857\n",
      "Epoch 95/100\n",
      "20/20 [==============================] - 0s 4ms/step - loss: 0.4202 - accuracy: 0.7964 - val_loss: 0.4794 - val_accuracy: 0.7857\n",
      "Epoch 96/100\n",
      "20/20 [==============================] - 0s 4ms/step - loss: 0.4205 - accuracy: 0.8029 - val_loss: 0.4779 - val_accuracy: 0.7857\n",
      "Epoch 97/100\n",
      "20/20 [==============================] - 0s 4ms/step - loss: 0.4201 - accuracy: 0.7964 - val_loss: 0.4773 - val_accuracy: 0.7857\n",
      "Epoch 98/100\n",
      "20/20 [==============================] - 0s 4ms/step - loss: 0.4196 - accuracy: 0.7964 - val_loss: 0.4766 - val_accuracy: 0.7857\n",
      "Epoch 99/100\n",
      "20/20 [==============================] - 0s 4ms/step - loss: 0.4193 - accuracy: 0.8013 - val_loss: 0.4771 - val_accuracy: 0.7857\n",
      "Epoch 100/100\n",
      "20/20 [==============================] - 0s 4ms/step - loss: 0.4190 - accuracy: 0.7997 - val_loss: 0.4768 - val_accuracy: 0.7857\n"
     ]
    },
    {
     "data": {
      "text/plain": [
       "<keras.src.callbacks.History at 0x228ec985f40>"
      ]
     },
     "execution_count": 30,
     "metadata": {},
     "output_type": "execute_result"
    }
   ],
   "source": [
    "model.fit(x_train,y_train,batch_size=32,epochs=100,initial_epoch=5,validation_data=(x_test,y_test))"
   ]
  },
  {
   "cell_type": "code",
   "execution_count": null,
   "id": "e7cd3629",
   "metadata": {},
   "outputs": [],
   "source": []
  }
 ],
 "metadata": {
  "kernelspec": {
   "display_name": "Python 3 (ipykernel)",
   "language": "python",
   "name": "python3"
  },
  "language_info": {
   "codemirror_mode": {
    "name": "ipython",
    "version": 3
   },
   "file_extension": ".py",
   "mimetype": "text/x-python",
   "name": "python",
   "nbconvert_exporter": "python",
   "pygments_lexer": "ipython3",
   "version": "3.9.7"
  }
 },
 "nbformat": 4,
 "nbformat_minor": 5
}
