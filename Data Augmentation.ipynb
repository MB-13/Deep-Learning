{
 "cells": [
  {
   "cell_type": "code",
   "execution_count": 1,
   "id": "0cd381db",
   "metadata": {},
   "outputs": [],
   "source": [
    "import pandas as pd\n",
    "import numpy as np\n",
    "import matplotlib.pyplot as plt"
   ]
  },
  {
   "cell_type": "code",
   "execution_count": 2,
   "id": "c2156dd8",
   "metadata": {},
   "outputs": [],
   "source": [
    "import cv2\n",
    "import os\n",
    "import random"
   ]
  },
  {
   "cell_type": "code",
   "execution_count": 3,
   "id": "a518e798",
   "metadata": {},
   "outputs": [],
   "source": [
    "mydir = r\"D:\\study\\ML\\data_D_C\\train\""
   ]
  },
  {
   "cell_type": "code",
   "execution_count": 4,
   "id": "9dfcdee7",
   "metadata": {},
   "outputs": [],
   "source": [
    "categories = ['cats','dogs']"
   ]
  },
  {
   "cell_type": "code",
   "execution_count": 5,
   "id": "674b3962",
   "metadata": {},
   "outputs": [],
   "source": [
    "data = []\n",
    "\n",
    "for i in categories:\n",
    "    folder_path = os.path.join(mydir,i)\n",
    "    \n",
    "    if i == 'cats':\n",
    "        label = 0\n",
    "    else :\n",
    "        label = 1\n",
    "    \n",
    "    for j in os.listdir(folder_path):\n",
    "        img_path = os.path.join(folder_path,j)\n",
    "        img = cv2.imread(img_path)\n",
    "        img = cv2.resize(img,(150,150))\n",
    "        data.append([img,label])"
   ]
  },
  {
   "cell_type": "code",
   "execution_count": 6,
   "id": "2e70d520",
   "metadata": {},
   "outputs": [],
   "source": [
    "random.shuffle(data)"
   ]
  },
  {
   "cell_type": "code",
   "execution_count": 7,
   "id": "a4ac1121",
   "metadata": {},
   "outputs": [],
   "source": [
    "x = []\n",
    "y = []\n",
    "for i in data:\n",
    "    x.append(i[0])\n",
    "    y.append(i[1])"
   ]
  },
  {
   "cell_type": "code",
   "execution_count": 8,
   "id": "34b6e2fb",
   "metadata": {},
   "outputs": [],
   "source": [
    "y = np.array(y)\n",
    "x = np.array(x)"
   ]
  },
  {
   "cell_type": "code",
   "execution_count": null,
   "id": "a59ce67a",
   "metadata": {},
   "outputs": [],
   "source": []
  },
  {
   "cell_type": "code",
   "execution_count": null,
   "id": "868d11e3",
   "metadata": {},
   "outputs": [],
   "source": []
  },
  {
   "cell_type": "code",
   "execution_count": 9,
   "id": "107cb20f",
   "metadata": {},
   "outputs": [
    {
     "data": {
      "text/plain": [
       "(2007, 150, 150, 3)"
      ]
     },
     "execution_count": 9,
     "metadata": {},
     "output_type": "execute_result"
    }
   ],
   "source": [
    "x.shape"
   ]
  },
  {
   "cell_type": "code",
   "execution_count": 10,
   "id": "103d76ce",
   "metadata": {},
   "outputs": [
    {
     "data": {
      "text/plain": [
       "(2007,)"
      ]
     },
     "execution_count": 10,
     "metadata": {},
     "output_type": "execute_result"
    }
   ],
   "source": [
    "y.shape"
   ]
  },
  {
   "cell_type": "code",
   "execution_count": 11,
   "id": "637c403d",
   "metadata": {},
   "outputs": [],
   "source": [
    "x =x/255"
   ]
  },
  {
   "cell_type": "code",
   "execution_count": 12,
   "id": "6fb81395",
   "metadata": {},
   "outputs": [
    {
     "name": "stderr",
     "output_type": "stream",
     "text": [
      "C:\\Users\\User\\anaconda3\\lib\\site-packages\\scipy\\__init__.py:146: UserWarning: A NumPy version >=1.16.5 and <1.23.0 is required for this version of SciPy (detected version 1.26.2\n",
      "  warnings.warn(f\"A NumPy version >={np_minversion} and <{np_maxversion}\"\n"
     ]
    },
    {
     "name": "stdout",
     "output_type": "stream",
     "text": [
      "WARNING:tensorflow:From C:\\Users\\User\\anaconda3\\lib\\site-packages\\keras\\src\\losses.py:2976: The name tf.losses.sparse_softmax_cross_entropy is deprecated. Please use tf.compat.v1.losses.sparse_softmax_cross_entropy instead.\n",
      "\n"
     ]
    }
   ],
   "source": [
    "from keras import Sequential\n",
    "from keras.layers import Conv2D,MaxPooling2D,Flatten,Dense,Activation,Dropout"
   ]
  },
  {
   "cell_type": "code",
   "execution_count": 13,
   "id": "aded7ba2",
   "metadata": {},
   "outputs": [
    {
     "name": "stdout",
     "output_type": "stream",
     "text": [
      "WARNING:tensorflow:From C:\\Users\\User\\anaconda3\\lib\\site-packages\\keras\\src\\backend.py:873: The name tf.get_default_graph is deprecated. Please use tf.compat.v1.get_default_graph instead.\n",
      "\n",
      "WARNING:tensorflow:From C:\\Users\\User\\anaconda3\\lib\\site-packages\\keras\\src\\layers\\pooling\\max_pooling2d.py:161: The name tf.nn.max_pool is deprecated. Please use tf.nn.max_pool2d instead.\n",
      "\n"
     ]
    }
   ],
   "source": [
    "model = Sequential()\n",
    "\n",
    "model.add(Conv2D(32,(3,3),input_shape=(150,150,3)))\n",
    "model.add(Activation('relu'))\n",
    "model.add(MaxPooling2D(pool_size=(2,2)))\n",
    "\n",
    "model.add(Conv2D(32,(3,3)))\n",
    "model.add(Activation('relu'))\n",
    "model.add(MaxPooling2D(pool_size=(2,2)))\n",
    "\n",
    "model.add(Conv2D(64,(3,3)))\n",
    "model.add(Activation('relu'))\n",
    "model.add(MaxPooling2D(pool_size=(2,2)))\n",
    "\n",
    "model.add(Flatten())"
   ]
  },
  {
   "cell_type": "code",
   "execution_count": 14,
   "id": "34badf84",
   "metadata": {},
   "outputs": [],
   "source": [
    "model.add(Dense(64))\n",
    "model.add(Activation('relu'))\n",
    "model.add(Dropout(0.5))\n",
    "model.add(Dense(1))\n",
    "model.add(Activation('sigmoid'))"
   ]
  },
  {
   "cell_type": "code",
   "execution_count": 15,
   "id": "a5315771",
   "metadata": {},
   "outputs": [
    {
     "name": "stdout",
     "output_type": "stream",
     "text": [
      "Model: \"sequential\"\n",
      "_________________________________________________________________\n",
      " Layer (type)                Output Shape              Param #   \n",
      "=================================================================\n",
      " conv2d (Conv2D)             (None, 148, 148, 32)      896       \n",
      "                                                                 \n",
      " activation (Activation)     (None, 148, 148, 32)      0         \n",
      "                                                                 \n",
      " max_pooling2d (MaxPooling2  (None, 74, 74, 32)        0         \n",
      " D)                                                              \n",
      "                                                                 \n",
      " conv2d_1 (Conv2D)           (None, 72, 72, 32)        9248      \n",
      "                                                                 \n",
      " activation_1 (Activation)   (None, 72, 72, 32)        0         \n",
      "                                                                 \n",
      " max_pooling2d_1 (MaxPoolin  (None, 36, 36, 32)        0         \n",
      " g2D)                                                            \n",
      "                                                                 \n",
      " conv2d_2 (Conv2D)           (None, 34, 34, 64)        18496     \n",
      "                                                                 \n",
      " activation_2 (Activation)   (None, 34, 34, 64)        0         \n",
      "                                                                 \n",
      " max_pooling2d_2 (MaxPoolin  (None, 17, 17, 64)        0         \n",
      " g2D)                                                            \n",
      "                                                                 \n",
      " flatten (Flatten)           (None, 18496)             0         \n",
      "                                                                 \n",
      " dense (Dense)               (None, 64)                1183808   \n",
      "                                                                 \n",
      " activation_3 (Activation)   (None, 64)                0         \n",
      "                                                                 \n",
      " dropout (Dropout)           (None, 64)                0         \n",
      "                                                                 \n",
      " dense_1 (Dense)             (None, 1)                 65        \n",
      "                                                                 \n",
      " activation_4 (Activation)   (None, 1)                 0         \n",
      "                                                                 \n",
      "=================================================================\n",
      "Total params: 1212513 (4.63 MB)\n",
      "Trainable params: 1212513 (4.63 MB)\n",
      "Non-trainable params: 0 (0.00 Byte)\n",
      "_________________________________________________________________\n"
     ]
    }
   ],
   "source": [
    "model.summary()"
   ]
  },
  {
   "cell_type": "code",
   "execution_count": 16,
   "id": "8a214108",
   "metadata": {},
   "outputs": [
    {
     "name": "stdout",
     "output_type": "stream",
     "text": [
      "WARNING:tensorflow:From C:\\Users\\User\\anaconda3\\lib\\site-packages\\keras\\src\\optimizers\\__init__.py:309: The name tf.train.Optimizer is deprecated. Please use tf.compat.v1.train.Optimizer instead.\n",
      "\n"
     ]
    }
   ],
   "source": [
    "model.compile(loss='binary_crossentropy',optimizer='rmsprop',metrics=['accuracy'])"
   ]
  },
  {
   "cell_type": "code",
   "execution_count": 17,
   "id": "7a96b299",
   "metadata": {},
   "outputs": [
    {
     "name": "stdout",
     "output_type": "stream",
     "text": [
      "Epoch 1/5\n",
      "WARNING:tensorflow:From C:\\Users\\User\\anaconda3\\lib\\site-packages\\keras\\src\\utils\\tf_utils.py:492: The name tf.ragged.RaggedTensorValue is deprecated. Please use tf.compat.v1.ragged.RaggedTensorValue instead.\n",
      "\n",
      "WARNING:tensorflow:From C:\\Users\\User\\anaconda3\\lib\\site-packages\\keras\\src\\engine\\base_layer_utils.py:384: The name tf.executing_eagerly_outside_functions is deprecated. Please use tf.compat.v1.executing_eagerly_outside_functions instead.\n",
      "\n",
      "57/57 [==============================] - 11s 168ms/step - loss: 0.7232 - accuracy: 0.5305 - val_loss: 0.7002 - val_accuracy: 0.4925\n",
      "Epoch 2/5\n",
      "57/57 [==============================] - 9s 156ms/step - loss: 0.6920 - accuracy: 0.5692 - val_loss: 0.7706 - val_accuracy: 0.4925\n",
      "Epoch 3/5\n",
      "57/57 [==============================] - 9s 151ms/step - loss: 0.6583 - accuracy: 0.6085 - val_loss: 0.8255 - val_accuracy: 0.5274\n",
      "Epoch 4/5\n",
      "57/57 [==============================] - 8s 148ms/step - loss: 0.6343 - accuracy: 0.6445 - val_loss: 0.6488 - val_accuracy: 0.5871\n",
      "Epoch 5/5\n",
      "57/57 [==============================] - 10s 181ms/step - loss: 0.6054 - accuracy: 0.6860 - val_loss: 0.6443 - val_accuracy: 0.6517\n"
     ]
    }
   ],
   "source": [
    "history = model.fit(x,y,epochs=5,validation_split=0.1)"
   ]
  },
  {
   "cell_type": "code",
   "execution_count": 18,
   "id": "07f8c036",
   "metadata": {},
   "outputs": [],
   "source": [
    "# using data augmentation"
   ]
  },
  {
   "cell_type": "code",
   "execution_count": 19,
   "id": "39a834fd",
   "metadata": {},
   "outputs": [],
   "source": [
    "from keras.preprocessing.image import ImageDataGenerator"
   ]
  },
  {
   "cell_type": "code",
   "execution_count": 20,
   "id": "56af2be5",
   "metadata": {},
   "outputs": [],
   "source": [
    "batch_size=16\n",
    "\n",
    "train_datagen = ImageDataGenerator(\n",
    "    rescale = 1./255,\n",
    "    shear_range = 0.2,\n",
    "    zoom_range = 0.2,\n",
    "    horizontal_flip = True\n",
    ")\n",
    "\n",
    "test_datagen = ImageDataGenerator(rescale=1./255)"
   ]
  },
  {
   "cell_type": "code",
   "execution_count": 21,
   "id": "6d6dfa17",
   "metadata": {},
   "outputs": [
    {
     "name": "stdout",
     "output_type": "stream",
     "text": [
      "Found 2007 images belonging to 2 classes.\n",
      "Found 1008 images belonging to 2 classes.\n"
     ]
    }
   ],
   "source": [
    "train_generator = train_datagen.flow_from_directory(\n",
    "    r\"D:\\study\\ML\\data_D_C\\train\",\n",
    "    target_size =(150,150),\n",
    "    batch_size = batch_size,\n",
    "    class_mode='binary'\n",
    ")\n",
    "\n",
    "test_generator = test_datagen.flow_from_directory(\n",
    "    r\"D:\\study\\ML\\data_D_C\\test\",\n",
    "    target_size = (150,150),\n",
    "    batch_size = batch_size,\n",
    "    class_mode = 'binary'\n",
    ")"
   ]
  },
  {
   "cell_type": "code",
   "execution_count": 22,
   "id": "4425122e",
   "metadata": {},
   "outputs": [],
   "source": [
    "from keras import Sequential\n",
    "from keras.layers import Dense,Conv2D,MaxPooling2D,Activation,Dropout,Flatten\n",
    "\n",
    "model = Sequential()\n",
    "\n",
    "model.add(Conv2D(32,(3,3),input_shape=(150,150,3)))\n",
    "model.add(Activation('relu'))\n",
    "model.add(MaxPooling2D(pool_size=(2,2)))\n",
    "\n",
    "model.add(Conv2D(32,(3,3)))\n",
    "model.add(Activation('relu'))\n",
    "model.add(MaxPooling2D(pool_size=(2,2)))\n",
    "\n",
    "model.add(Conv2D(64,(3,3)))\n",
    "model.add(Activation('relu'))\n",
    "model.add(MaxPooling2D(pool_size=(2,2)))\n",
    "\n",
    "model.add(Flatten())\n",
    "\n",
    "model.add(Dense(64))\n",
    "model.add(Activation('relu'))\n",
    "model.add(Dropout(0.5))\n",
    "\n",
    "model.add(Dense(1))\n",
    "model.add(Activation('sigmoid'))"
   ]
  },
  {
   "cell_type": "code",
   "execution_count": 23,
   "id": "5fc79738",
   "metadata": {},
   "outputs": [
    {
     "name": "stdout",
     "output_type": "stream",
     "text": [
      "Model: \"sequential_1\"\n",
      "_________________________________________________________________\n",
      " Layer (type)                Output Shape              Param #   \n",
      "=================================================================\n",
      " conv2d_3 (Conv2D)           (None, 148, 148, 32)      896       \n",
      "                                                                 \n",
      " activation_5 (Activation)   (None, 148, 148, 32)      0         \n",
      "                                                                 \n",
      " max_pooling2d_3 (MaxPoolin  (None, 74, 74, 32)        0         \n",
      " g2D)                                                            \n",
      "                                                                 \n",
      " conv2d_4 (Conv2D)           (None, 72, 72, 32)        9248      \n",
      "                                                                 \n",
      " activation_6 (Activation)   (None, 72, 72, 32)        0         \n",
      "                                                                 \n",
      " max_pooling2d_4 (MaxPoolin  (None, 36, 36, 32)        0         \n",
      " g2D)                                                            \n",
      "                                                                 \n",
      " conv2d_5 (Conv2D)           (None, 34, 34, 64)        18496     \n",
      "                                                                 \n",
      " activation_7 (Activation)   (None, 34, 34, 64)        0         \n",
      "                                                                 \n",
      " max_pooling2d_5 (MaxPoolin  (None, 17, 17, 64)        0         \n",
      " g2D)                                                            \n",
      "                                                                 \n",
      " flatten_1 (Flatten)         (None, 18496)             0         \n",
      "                                                                 \n",
      " dense_2 (Dense)             (None, 64)                1183808   \n",
      "                                                                 \n",
      " activation_8 (Activation)   (None, 64)                0         \n",
      "                                                                 \n",
      " dropout_1 (Dropout)         (None, 64)                0         \n",
      "                                                                 \n",
      " dense_3 (Dense)             (None, 1)                 65        \n",
      "                                                                 \n",
      " activation_9 (Activation)   (None, 1)                 0         \n",
      "                                                                 \n",
      "=================================================================\n",
      "Total params: 1212513 (4.63 MB)\n",
      "Trainable params: 1212513 (4.63 MB)\n",
      "Non-trainable params: 0 (0.00 Byte)\n",
      "_________________________________________________________________\n"
     ]
    }
   ],
   "source": [
    "model.summary()"
   ]
  },
  {
   "cell_type": "code",
   "execution_count": 24,
   "id": "abb2a18d",
   "metadata": {},
   "outputs": [],
   "source": [
    "model.compile(loss='binary_crossentropy',optimizer='rmsprop',metrics=['accuracy'])"
   ]
  },
  {
   "cell_type": "code",
   "execution_count": null,
   "id": "694c7ca9",
   "metadata": {},
   "outputs": [
    {
     "name": "stderr",
     "output_type": "stream",
     "text": [
      "C:\\Users\\User\\AppData\\Local\\Temp/ipykernel_11992/329296336.py:1: UserWarning: `Model.fit_generator` is deprecated and will be removed in a future version. Please use `Model.fit`, which supports generators.\n",
      "  model.fit_generator(\n"
     ]
    },
    {
     "name": "stdout",
     "output_type": "stream",
     "text": [
      "Epoch 1/25\n",
      "125/125 [==============================] - 45s 300ms/step - loss: 0.7077 - accuracy: 0.5058 - val_loss: 0.6868 - val_accuracy: 0.5075\n",
      "Epoch 2/25\n",
      "125/125 [==============================] - 21s 171ms/step - loss: 0.6928 - accuracy: 0.5620 - val_loss: 0.6726 - val_accuracy: 0.6338\n",
      "Epoch 3/25\n",
      "125/125 [==============================] - 21s 170ms/step - loss: 0.6739 - accuracy: 0.6077 - val_loss: 0.6060 - val_accuracy: 0.6900\n",
      "Epoch 4/25\n",
      "125/125 [==============================] - 44s 353ms/step - loss: 0.6395 - accuracy: 0.6524 - val_loss: 0.6523 - val_accuracy: 0.6338\n",
      "Epoch 5/25\n",
      "125/125 [==============================] - 39s 316ms/step - loss: 0.6094 - accuracy: 0.6781 - val_loss: 0.5349 - val_accuracy: 0.7475\n",
      "Epoch 6/25\n",
      "125/125 [==============================] - 24s 189ms/step - loss: 0.5901 - accuracy: 0.6976 - val_loss: 0.5098 - val_accuracy: 0.7525\n",
      "Epoch 7/25\n",
      "125/125 [==============================] - 24s 193ms/step - loss: 0.5794 - accuracy: 0.6996 - val_loss: 0.5284 - val_accuracy: 0.7375\n",
      "Epoch 8/25\n",
      "125/125 [==============================] - 21s 168ms/step - loss: 0.5671 - accuracy: 0.7157 - val_loss: 0.5253 - val_accuracy: 0.7175\n",
      "Epoch 9/25\n",
      "125/125 [==============================] - 22s 175ms/step - loss: 0.5446 - accuracy: 0.7388 - val_loss: 0.4921 - val_accuracy: 0.7625\n",
      "Epoch 10/25\n",
      "125/125 [==============================] - 22s 174ms/step - loss: 0.5200 - accuracy: 0.7423 - val_loss: 0.5092 - val_accuracy: 0.7312\n",
      "Epoch 11/25\n",
      "125/125 [==============================] - 22s 178ms/step - loss: 0.5181 - accuracy: 0.7594 - val_loss: 0.4581 - val_accuracy: 0.7812\n",
      "Epoch 12/25\n",
      "125/125 [==============================] - 25s 197ms/step - loss: 0.5086 - accuracy: 0.7539 - val_loss: 0.4394 - val_accuracy: 0.7925\n",
      "Epoch 13/25\n",
      "125/125 [==============================] - 43s 344ms/step - loss: 0.5104 - accuracy: 0.7644 - val_loss: 0.4505 - val_accuracy: 0.7937\n",
      "Epoch 14/25\n",
      "125/125 [==============================] - 28s 224ms/step - loss: 0.4955 - accuracy: 0.7745 - val_loss: 0.4553 - val_accuracy: 0.7900\n",
      "Epoch 15/25\n",
      "125/125 [==============================] - 22s 180ms/step - loss: 0.4904 - accuracy: 0.7664 - val_loss: 0.3961 - val_accuracy: 0.8225\n",
      "Epoch 16/25\n",
      "125/125 [==============================] - 21s 168ms/step - loss: 0.4755 - accuracy: 0.7755 - val_loss: 0.4349 - val_accuracy: 0.8012\n",
      "Epoch 17/25\n",
      "125/125 [==============================] - 21s 168ms/step - loss: 0.4734 - accuracy: 0.7840 - val_loss: 0.4381 - val_accuracy: 0.8050\n",
      "Epoch 18/25\n",
      "125/125 [==============================] - 21s 168ms/step - loss: 0.4743 - accuracy: 0.7946 - val_loss: 0.4706 - val_accuracy: 0.7775\n",
      "Epoch 19/25\n",
      "125/125 [==============================] - 21s 166ms/step - loss: 0.4438 - accuracy: 0.7901 - val_loss: 0.4063 - val_accuracy: 0.8087\n",
      "Epoch 20/25\n",
      "125/125 [==============================] - 24s 189ms/step - loss: 0.4613 - accuracy: 0.7901 - val_loss: 0.4431 - val_accuracy: 0.7788\n",
      "Epoch 21/25\n",
      "125/125 [==============================] - 21s 172ms/step - loss: 0.4516 - accuracy: 0.7961 - val_loss: 0.4538 - val_accuracy: 0.7987\n",
      "Epoch 22/25\n",
      "125/125 [==============================] - 22s 175ms/step - loss: 0.4331 - accuracy: 0.8006 - val_loss: 0.4289 - val_accuracy: 0.7887\n",
      "Epoch 23/25\n",
      "125/125 [==============================] - 21s 169ms/step - loss: 0.4081 - accuracy: 0.8061 - val_loss: 0.3979 - val_accuracy: 0.8225\n",
      "Epoch 24/25\n",
      " 20/125 [===>..........................] - ETA: 15s - loss: 0.3518 - accuracy: 0.8469"
     ]
    }
   ],
   "source": [
    "model.fit_generator(\n",
    "    train_generator,\n",
    "    steps_per_epoch=2000//batch_size,\n",
    "    epochs=25,\n",
    "    validation_data=test_generator,\n",
    "    validation_steps =800//batch_size\n",
    ")"
   ]
  },
  {
   "cell_type": "code",
   "execution_count": null,
   "id": "1a8a8427",
   "metadata": {},
   "outputs": [],
   "source": []
  }
 ],
 "metadata": {
  "kernelspec": {
   "display_name": "Python 3 (ipykernel)",
   "language": "python",
   "name": "python3"
  },
  "language_info": {
   "codemirror_mode": {
    "name": "ipython",
    "version": 3
   },
   "file_extension": ".py",
   "mimetype": "text/x-python",
   "name": "python",
   "nbconvert_exporter": "python",
   "pygments_lexer": "ipython3",
   "version": "3.9.7"
  }
 },
 "nbformat": 4,
 "nbformat_minor": 5
}
